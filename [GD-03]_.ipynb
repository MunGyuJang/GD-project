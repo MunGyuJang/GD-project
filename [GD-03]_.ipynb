{
 "cells": [
  {
   "cell_type": "markdown",
   "id": "68a618e2",
   "metadata": {
    "id": "f90e6be5"
   },
   "source": [
    "# 프로젝트 : 임베딩 내 편향성 알아보기"
   ]
  },
  {
   "cell_type": "markdown",
   "id": "b17f86a6",
   "metadata": {
    "id": "c0bd5180"
   },
   "source": [
    "## 1. 데이터 준비하기\n",
    "\n",
    "## 2. 단어 셋 만들기\n",
    "- **타겟 단어 셋**\n",
    "- **속성 단어 셋**\n",
    "\n",
    "## 3. 편향성 확인하기"
   ]
  },
  {
   "cell_type": "code",
   "execution_count": 1,
   "id": "ab333f4d",
   "metadata": {
    "id": "7f62613a",
    "outputId": "efc92515-6788-4c5d-9bb0-276f71367638"
   },
   "outputs": [
    {
     "name": "stdout",
     "output_type": "stream",
     "text": [
      "0.5.2\n",
      "4.1.2\n",
      "1.0\n",
      "0.11.2\n"
     ]
    }
   ],
   "source": [
    "import konlpy\n",
    "import gensim\n",
    "import sklearn\n",
    "import seaborn\n",
    "\n",
    "print(konlpy.__version__)\n",
    "print(gensim.__version__)\n",
    "print(sklearn.__version__)\n",
    "print(seaborn.__version__)"
   ]
  },
  {
   "cell_type": "markdown",
   "id": "0f062b67",
   "metadata": {
    "id": "745a8839"
   },
   "source": [
    "- - -\n",
    "### 데이터 준비하기"
   ]
  },
  {
   "cell_type": "code",
   "execution_count": 2,
   "id": "ac3b8264",
   "metadata": {
    "id": "5becd017",
    "outputId": "ba4ea9b0-7cad-403b-c35b-0c94729883cd"
   },
   "outputs": [
    {
     "name": "stdout",
     "output_type": "stream",
     "text": [
      "사운드 엔지니어 상우(유지태 분)는 치매에 걸린 할머니(백성희 분)와\n",
      " 젊은 시절 상처한 한 아버지(박인환 분), 고모(신신애 분)와 함께 살고 있다.\n",
      " 어느 겨울 그는 지방 방송국 라디오 PD 은수(이영애 분)를 만난다.\n",
      " 자연의 소리를 채집해 틀어주는 라디오 프로그램을 준비하는 은수는 상우와 녹음 여행을 떠난다.\n",
      " 자연스레 가까워지는 두 사람은 어느 날, 은수의 아파트에서 밤을 보낸다.\n",
      " 너무 쉽게 사랑에 빠진 두 사람... 상우는 주체할 수 없을 정도로 그녀에게 빨려든다.\n",
      " 그러나 겨울에 만난 두 사람의 관계는 봄을 지나 여름을 맞이하면서 삐걱거린다.\n",
      " 이혼 경험이 있는 은수는 상우에게 결혼할 생각이 없다며 부담스러운 표정을 내비친다.\n",
      " \"어떻게 사랑이 변하니?...\"라고 묻는 상우에게 은수는 그저 \"헤어져\" 라고 단호하게 말한다.\n",
      " 영원히 변할 것 같지 않던 사랑이 변하고, 그 사실을 받아들이지 못하는 상우는 어찌 할 바를 모른다.\n",
      " 은수를 잊지 못하는 상우는 미련과 집착의 감정을 이기지 못하고 서울과 강릉을 오간다.\n",
      "유사 이래 연령, 성별, 빈부의 차이와 정치적인 입장을 불문하고 일거에 국민을 통합해 온 '애국심'이라는 성역에 일침을 가하는 다큐멘터리. 재작년 전국 민족민주 유가족협의회의 장기농성을 다룬 인상적인 다큐멘터리 <민들레>를 만들었던 독립영화집단 '빨간 눈사람'이 우리 사회 구석구석을 발빠르게 돌아다니며 애국심과 민족주의가 강요되는 현장을 발굴하여 카메라에 담았다. 박홍 서강대 명예총장, 이도형 '한국논단' 발행인, 축구해설자 신문선, 홍세화, 박노해 등 사회 각계의 '스타'들이 등장해 저마다의 확고한 신념을 성토한다. 감독 이경순과 최하동하는 이 작품을 위해 3년간 백여 명을 인터뷰했다고 한다. 2001 올해의 독립영화상 수상.\n",
      " 민족과 국가란 공동체에서 부단히 권력과 부를 얻는 자, 나아가 민족과 국가란 공동체에서 얻은 신분과 부귀를 영원히 그의 자손에게 대물림하려는 자, 그래서 민족과 국가란 공동체를 부단히 유지해야만 하는 자, 따라서 민족과 국가란 공동체의 당위성과 개인의 가치를 초월하는 그 존엄성을 끝도 없이 창조하고 되뇌어야 하는 자, 종국에는 민족과 국가란 공동체에 속해 있다고 태내에서부터 세뇌된 모든 이들의 삶과 행동에서 영원히 자기복제되는 순환의 고리, 영생하는 애국의 원동력은 그 순환의 골에서 온다.\n",
      "엽기적인 살인사건이 발생한 장소를 관광하는 투어팀. 그 팀에서 관광객들은 살인사건과 관련하여 히스테리컬한 반응을 보이는데 과연 이들의 정체는? (Tourists see whrer a murder take place. They respond hysterically to the murder…what are they?)\n",
      " 제46회 발라돌리드 국제영화제 (2001, 스페인)\n",
      "착하지만 엉뚱한 태희(배두나 분), 예쁜 깍쟁이 혜주(이요원 분), 그림을 잘 그리는 지영(옥지영 분), 명랑한 쌍둥이 비류(이은실 분)와 온조(이은주 분)는 단짝친구들. 늘 함께였던 그들이지만 스무 살이 되면서 길이 달라진다. 증권회사에 입사한 혜주는 성공한 커리어우먼의 야심을 키우고 미술에 재능이 있는 지영은 유학을 꿈꾼다. 한편 태희는 봉사활동에서 알게 된 뇌성마비 시인을 좋아하는데...\n",
      "  어느 날 지영이 길 잃은 새끼 고양이 티티를 만남면서 스무 살 그녀들의 삶에 고양이 한 마리가 끼어들게 된다. 혼자 있길 좋아하고, 쉽게 마음을 열지 않는 신비로운 동물 고양이. 고양이를 닮은 스무 살 그녀들. 고양이 티티와 함께 한 시간동안 삶은 예상못한 방향으로 흘러가지만 마침내 그녀들만의 해결책을 찾게 되는데... 사랑스런 몽상가 태희, 아름다운 야심가 혜주, 신비로운 아웃사이더 지영. 마지막으로 고양이를 부탁받은 사람은 누구일까?\n",
      "인도 등 아시아 식민지에 처음 발을 디딘 뒤 여행하고 “경영”한 이들은 과연 누구였을까? 과거의 이미지들은, 이민과 인종 문제, ‘오리엔탈리즘’이 격렬히 충돌하고 있는 현재와 강력하게 공명한다.\n",
      " [제19회 인디다큐페스티발]\n",
      "홀로 살아가는 미국 할머니와 한국 할머니의 이야기. 공원에서 가끔 마주치게 되는 그들은 비록 언어 소통의 어려움을 겪지만 시간이 흘러감에 따라 서로 가까워져 그들의 외로움과 우정을 공유하게 된다. 겨울이 지나고 봄이 왔을 때 길가의 민들레 홀씨는 삶의 이치를 말해주듯 한 할머니의 주위를 맴돈다. (Two elderly widows, an American and a Korean, frequent the same park in Philadelphia and attempt a friendship, though the Korean widow speaks no English. Driven by loneliness and a spark of hope, they persevere within the limits of body language, and the outcome poses a question of life as fundamental as a flower.)\n"
     ]
    }
   ],
   "source": [
    "import os\n",
    "\n",
    "with open(os.getenv('HOME')+'/aiffel/weat/synopsis.txt', 'r') as file:\n",
    "    for i in range(20):\n",
    "        print(file.readline(), end='')"
   ]
  },
  {
   "cell_type": "code",
   "execution_count": 3,
   "id": "889c2faf",
   "metadata": {
    "id": "f316487e",
    "outputId": "d36483fa-d446-43b9-90e6-5791253e3639"
   },
   "outputs": [
    {
     "name": "stdout",
     "output_type": "stream",
     "text": [
      "71156\n"
     ]
    }
   ],
   "source": [
    "# 약 15분정도 걸립니다.\n",
    "from konlpy.tag import Okt\n",
    "okt = Okt()\n",
    "tokenized = []\n",
    "with open(os.getenv('HOME')+'/aiffel/weat/synopsis.txt', 'r') as file:\n",
    "    while True:\n",
    "        line = file.readline()\n",
    "        if not line: break\n",
    "        words = okt.pos(line, stem=True, norm=True)\n",
    "        res = []\n",
    "        for w in words:\n",
    "            if w[1] in [\"Noun\"]:      # \"Adjective\", \"Verb\" 등을 포함할 수도 있습니다.\n",
    "                res.append(w[0])    # 명사일 때만 tokenized 에 저장하게 됩니다. \n",
    "        tokenized.append(res)\n",
    "\n",
    "\n",
    "print(len(tokenized))"
   ]
  },
  {
   "cell_type": "markdown",
   "id": "debef8bd",
   "metadata": {
    "id": "DcyOeaBw-2hj"
   },
   "source": [
    "형태소 분리를 하고 데이터에서 명사만 추출해줍니다."
   ]
  },
  {
   "cell_type": "code",
   "execution_count": 4,
   "id": "e88dc436",
   "metadata": {
    "id": "8be0cd56",
    "outputId": "eaa89472-7a91-4592-907f-b2190cdc9f16"
   },
   "outputs": [
    {
     "data": {
      "text/plain": [
       "[('작품', 0.8848908543586731),\n",
       " ('다큐멘터리', 0.8427980542182922),\n",
       " ('드라마', 0.8100679516792297),\n",
       " ('영화로', 0.8031361699104309),\n",
       " ('형식', 0.7737630605697632),\n",
       " ('코미디', 0.7730991244316101),\n",
       " ('주제', 0.7671468257904053),\n",
       " ('소재', 0.7640985250473022),\n",
       " ('소설', 0.7590743899345398),\n",
       " ('인터뷰', 0.7555490136146545)]"
      ]
     },
     "execution_count": 4,
     "metadata": {},
     "output_type": "execute_result"
    }
   ],
   "source": [
    "from gensim.models import Word2Vec\n",
    "\n",
    "# tokenized에 담긴 데이터를 가지고 나만의 Word2Vec을 생성합니다. (Gensim 4.0 기준)\n",
    "model = Word2Vec(tokenized, vector_size=100, window=5, min_count=3, sg=0)  \n",
    "model.wv.most_similar(positive=['영화'])\n",
    "\n",
    "# Gensim 3.X 에서는 아래와 같이 생성합니다. \n",
    "# model = Word2Vec(tokenized, size=100, window=5, min_count=3, sg=0)  \n",
    "# model.most_similar(positive=['영화'])"
   ]
  },
  {
   "cell_type": "markdown",
   "id": "b43c1bf0",
   "metadata": {
    "id": "g-anqlUlAV7a"
   },
   "source": [
    "추출한 명사들을 가지고 임베딩 모델을 만들어줍니다.\n",
    "\n",
    "`model.wv.most_similar`를 이용해 '영화'와 밀접한 뜻을 가진 단어들을 출력해봤습니다.\n",
    "\n",
    "제가 예상한 드라마라는 단어가 있군요."
   ]
  },
  {
   "cell_type": "code",
   "execution_count": 5,
   "id": "234e28cf",
   "metadata": {
    "id": "a5c89da8",
    "outputId": "bbfc955c-be62-41de-c4d3-1a4c31c52b7a"
   },
   "outputs": [
    {
     "data": {
      "text/plain": [
       "[('스토리', 0.9464571475982666),\n",
       " ('선사', 0.9370542764663696),\n",
       " ('시적', 0.9324790835380554),\n",
       " ('감동', 0.9267283082008362),\n",
       " ('코믹', 0.92470782995224),\n",
       " ('몽환', 0.9242076873779297),\n",
       " ('주제', 0.9224728941917419),\n",
       " ('감성', 0.9176344275474548),\n",
       " ('묘미', 0.9130337834358215),\n",
       " ('캐릭터', 0.9126711487770081)]"
      ]
     },
     "execution_count": 5,
     "metadata": {},
     "output_type": "execute_result"
    }
   ],
   "source": [
    "model.wv.most_similar(positive=['판타지'])"
   ]
  },
  {
   "cell_type": "markdown",
   "id": "caa8bae8",
   "metadata": {
    "id": "jX8ti1cjCOOY"
   },
   "source": [
    "영화라는 단어는 너무 큰 틀에 있는 것 같으니까 '판타지'라는 단어와 비슷한 뜻을 가진 단어도 출력해봤습니다.\n",
    "\n",
    "제법 유사한 것 같습니다."
   ]
  },
  {
   "cell_type": "markdown",
   "id": "da800a8d",
   "metadata": {
    "id": "hpGC7oplDmOn"
   },
   "source": [
    "- - -\n",
    "### 단어 셋 만들기\n",
    "- **타겟 단어 셋**"
   ]
  },
  {
   "cell_type": "code",
   "execution_count": 6,
   "id": "81547e2d",
   "metadata": {
    "id": "74315d8a"
   },
   "outputs": [],
   "source": [
    "from sklearn.feature_extraction.text import TfidfVectorizer\n",
    "\n",
    "def read_token(file_name, genre_name):\n",
    "    result = {}\n",
    "    \n",
    "    for file, name in zip(file_name, genre_name):\n",
    "        with open(os.getenv('HOME')+'/aiffel/weat/' + file, 'r') as fread: \n",
    "            print(file, '파일을 읽고 있습니다.')\n",
    "            tokens = []\n",
    "            while True:\n",
    "                line = fread.readline() \n",
    "                if not line: break \n",
    "                tokenlist = okt.pos(line, stem=True, norm=True)\n",
    "                for word in tokenlist:\n",
    "                    if word[1] in [\"Noun\"]:#, \"Adjective\", \"Verb\"]:\n",
    "                        tokens.append((word[0]))\n",
    "            result[name] = ' '.join(tokens)\n",
    "                        \n",
    "    return result"
   ]
  },
  {
   "cell_type": "markdown",
   "id": "bc7c9110",
   "metadata": {
    "id": "UzZnmC3gDgWH"
   },
   "source": [
    "준비된 장르별 문장에서 그 장르에 쓰였던 명사를 추출해서 담아주는 함수입니다."
   ]
  },
  {
   "cell_type": "code",
   "execution_count": 7,
   "id": "c409a9a0",
   "metadata": {
    "id": "74e78481",
    "outputId": "b1cee564-a2de-4b5f-e0bb-e52970eebfde"
   },
   "outputs": [
    {
     "name": "stdout",
     "output_type": "stream",
     "text": [
      "synopsis_art.txt 파일을 읽고 있습니다.\n",
      "synopsis_gen.txt 파일을 읽고 있습니다.\n"
     ]
    }
   ],
   "source": [
    "division_txt = ['synopsis_art.txt', 'synopsis_gen.txt']\n",
    "division_name = ['예술영화', '일반영화']\n",
    "\n",
    "division_tokens = read_token(division_txt, division_name)\n",
    "\n",
    "art = division_tokens['예술영화']\n",
    "gen = division_tokens['일반영화']"
   ]
  },
  {
   "cell_type": "markdown",
   "id": "e4663c31",
   "metadata": {
    "id": "rxTM45cHExOW"
   },
   "source": [
    "먼저 큰 분류로 예술영화 일반영화가 준비되어있으니 타겟 셋으로 사용해줍니다."
   ]
  },
  {
   "cell_type": "code",
   "execution_count": 8,
   "id": "4d97fff0",
   "metadata": {
    "id": "e2b2a2f0",
    "outputId": "7b4aec55-b2b3-4180-8ae0-41c5e13e878b"
   },
   "outputs": [
    {
     "name": "stdout",
     "output_type": "stream",
     "text": [
      "(2, 41082)\n"
     ]
    }
   ],
   "source": [
    "vectorizer = TfidfVectorizer()\n",
    "X = vectorizer.fit_transform([art, gen])\n",
    "\n",
    "print(X.shape)"
   ]
  },
  {
   "cell_type": "code",
   "execution_count": 9,
   "id": "4e15848b",
   "metadata": {
    "id": "c81299ae",
    "outputId": "51b450ce-9f4f-4436-e7d4-ca0bd72ca212"
   },
   "outputs": [
    {
     "name": "stdout",
     "output_type": "stream",
     "text": [
      "23976\n",
      "영화\n"
     ]
    },
    {
     "name": "stderr",
     "output_type": "stream",
     "text": [
      "/opt/conda/lib/python3.9/site-packages/sklearn/utils/deprecation.py:87: FutureWarning: Function get_feature_names is deprecated; get_feature_names is deprecated in 1.0 and will be removed in 1.2. Please use get_feature_names_out instead.\n",
      "  warnings.warn(msg, category=FutureWarning)\n"
     ]
    }
   ],
   "source": [
    "print(vectorizer.vocabulary_['영화'])\n",
    "print(vectorizer.get_feature_names()[23976])"
   ]
  },
  {
   "cell_type": "markdown",
   "id": "ff8d1e89",
   "metadata": {
    "id": "zfWLev5eGxmx"
   },
   "source": [
    "두 문서의 TF-IDF 단어 벡터 셋으로 만들어줬습니다."
   ]
  },
  {
   "cell_type": "code",
   "execution_count": 10,
   "id": "c290b5cc",
   "metadata": {
    "id": "e691c77e",
    "outputId": "03045339-cfc7-45c3-f1a2-6b73a0f42c28"
   },
   "outputs": [
    {
     "name": "stdout",
     "output_type": "stream",
     "text": [
      "예술영화를 대표하는 단어들:\n",
      "그녀, 자신, 시작, 위해, 사랑, 사람, 영화, 친구, 남자, 가족, 이야기, 마을, 사건, 마음, 세상, 아버지, 아이, 엄마, 모든, 여자, 대한, 서로, 과연, 다시, 시간, 아들, 소녀, 아내, 다른, 사이, 영화제, 세계, 사실, 하나, 점점, 남편, 감독, 여행, 인생, 발견, 모두, 순간, 우리, 가장, 마지막, 생활, 아빠, 모습, 통해, 죽음, 기억, 비밀, 학교, 음악, 한편, 소년, 생각, 도시, 명의, 사고, 결혼, 전쟁, 때문, 위기, 이제, 최고, 이자, 과거, 일상, 경찰, 상황, 간다, 미국, 결심, 운명, 현실, 관계, 지금, 단편, 여인, 하루, 이름, 이후, 준비, 인간, 감정, 만난, 국제, 처음, 충격, 살인, 누구, 동안, 존재, 그린, 어머니, 연인, 계속, 동생, 작품, \n",
      "\n",
      "일반영화를 대표하는 단어들:\n",
      "자신, 그녀, 영화제, 위해, 사람, 시작, 국제, 영화, 친구, 사랑, 남자, 이야기, 대한, 서울, 여자, 사건, 남편, 아이, 가족, 아버지, 다른, 마을, 시간, 엄마, 아들, 모든, 단편, 마음, 사실, 다시, 세계, 모습, 작품, 통해, 생각, 서로, 세상, 발견, 감독, 아내, 관계, 소녀, 사이, 하나, 우리, 애니메이션, 때문, 여성, 죽음, 과연, 점점, 인간, 생활, 한편, 결혼, 상황, 모두, 기억, 명의, 소년, 여행, 가장, 간다, 순간, 이제, 도시, 비밀, 학교, 과거, 가지, 이자, 경찰, 마지막, 미국, 동안, 전쟁, 주인공, 대해, 존재, 현실, 연출, 사고, 살인, 일상, 어머니, 계속, 사회, 인생, 다큐멘터리, 부문, 섹스, 최고, 바로, 동생, 의도, 하루, 위기, 계획, 정체, 한국, "
     ]
    }
   ],
   "source": [
    "m1 = X[0].tocoo()   # art를 TF-IDF로 표현한 sparse matrix를 가져옵니다. \n",
    "m2 = X[1].tocoo()   # gen을 TF-IDF로 표현한 sparse matrix를 가져옵니다. \n",
    "\n",
    "w1 = [[i, j] for i, j in zip(m1.col, m1.data)]\n",
    "w2 = [[i, j] for i, j in zip(m2.col, m2.data)]\n",
    "\n",
    "w1.sort(key=lambda x: x[1], reverse=True)   #art를 구성하는 단어들을 TF-IDF가 높은 순으로 정렬합니다. \n",
    "w2.sort(key=lambda x: x[1], reverse=True)   #gen을 구성하는 단어들을 TF-IDF가 높은 순으로 정렬합니다. \n",
    "\n",
    "print('예술영화를 대표하는 단어들:')\n",
    "for i in range(100):\n",
    "    print(vectorizer.get_feature_names()[w1[i][0]], end=', ')\n",
    "\n",
    "print('\\n')\n",
    "    \n",
    "print('일반영화를 대표하는 단어들:')\n",
    "for i in range(100):\n",
    "    print(vectorizer.get_feature_names()[w2[i][0]], end=', ')"
   ]
  },
  {
   "cell_type": "markdown",
   "id": "869619e7",
   "metadata": {
    "id": "0513064d"
   },
   "source": [
    "`get_feature_names`를 이용해 인덱스를 단어로 바꿔 저장하고, 장르를 가장 잘 표현하고 있는 단어 순으로 정렬을 해줬습니다."
   ]
  },
  {
   "cell_type": "code",
   "execution_count": 11,
   "id": "9c74a5a6",
   "metadata": {
    "id": "a7463fb4"
   },
   "outputs": [],
   "source": [
    "n = 15\n",
    "w1_, w2_ = [], []\n",
    "for i in range(100):\n",
    "    w1_.append(vectorizer.get_feature_names()[w1[i][0]])\n",
    "    w2_.append(vectorizer.get_feature_names()[w2[i][0]])\n",
    "\n",
    "# w1에만 있고 w2에는 없는, 예술영화를 잘 대표하는 단어를 15개 추출한다.\n",
    "target_art, target_gen = [], []\n",
    "for i in range(100):\n",
    "    if (w1_[i] not in w2_) and (w1_[i] in model.wv): target_art.append(w1_[i])\n",
    "    if len(target_art) == n: break \n",
    "\n",
    "# w2에만 있고 w1에는 없는, 일반영화를 잘 대표하는 단어를 15개 추출한다.\n",
    "for i in range(100):\n",
    "    if (w2_[i] not in w1_) and (w2_[i] in model.wv): target_gen.append(w2_[i])\n",
    "    if len(target_gen) == n: break"
   ]
  },
  {
   "cell_type": "code",
   "execution_count": 12,
   "id": "f4c25c81",
   "metadata": {
    "id": "e6a27f5d",
    "outputId": "5453fc30-ddf9-407b-e9fd-7de4ec15b08c"
   },
   "outputs": [
    {
     "name": "stdout",
     "output_type": "stream",
     "text": [
      "['아빠', '음악', '결심', '운명', '지금', '여인', '이름', '이후', '준비', '감정', '만난', '처음', '충격', '누구', '그린']\n"
     ]
    }
   ],
   "source": [
    "print(target_art)"
   ]
  },
  {
   "cell_type": "code",
   "execution_count": 13,
   "id": "ca34731e",
   "metadata": {
    "id": "bc75d989",
    "outputId": "feef8552-03ff-40ca-d3f6-d98003eddbef"
   },
   "outputs": [
    {
     "name": "stdout",
     "output_type": "stream",
     "text": [
      "['서울', '애니메이션', '여성', '가지', '주인공', '대해', '연출', '사회', '다큐멘터리', '부문', '섹스', '바로', '의도', '계획', '정체']\n"
     ]
    }
   ],
   "source": [
    "print(target_gen)"
   ]
  },
  {
   "cell_type": "markdown",
   "id": "119b1698",
   "metadata": {
    "id": "Ze_0_vVeIUn6"
   },
   "source": [
    "하지만 예술영화로도 표현이 가능하고 일반영화로도 표현되고 있는 중복된 단어들이 너무 많아\n",
    "\n",
    "예술영화를 표현하지만 일반영화를 표현하지는 않는, 일반영화를 표현하지만 예술영화를 표현하지는 않는\n",
    "\n",
    "중복을 제거한 후 상위 15개의 제대로 된 단어만 담아줬습니다."
   ]
  },
  {
   "cell_type": "markdown",
   "id": "68a7f61e",
   "metadata": {
    "id": "Z24ekK1nJVEt"
   },
   "source": [
    "- - -\n",
    "### 단어 셋 만들기\n",
    "- **속성 단어 셋**"
   ]
  },
  {
   "cell_type": "code",
   "execution_count": 14,
   "id": "5ac8b802",
   "metadata": {
    "id": "b0b2644d",
    "outputId": "71e355d4-cef3-48dc-fe6c-80c0592895d1"
   },
   "outputs": [
    {
     "name": "stdout",
     "output_type": "stream",
     "text": [
      "synopsis_SF.txt 파일을 읽고 있습니다.\n",
      "synopsis_family.txt 파일을 읽고 있습니다.\n",
      "synopsis_show.txt 파일을 읽고 있습니다.\n",
      "synopsis_horror.txt 파일을 읽고 있습니다.\n",
      "synopsis_etc.txt 파일을 읽고 있습니다.\n",
      "synopsis_documentary.txt 파일을 읽고 있습니다.\n",
      "synopsis_drama.txt 파일을 읽고 있습니다.\n",
      "synopsis_romance.txt 파일을 읽고 있습니다.\n",
      "synopsis_musical.txt 파일을 읽고 있습니다.\n",
      "synopsis_mystery.txt 파일을 읽고 있습니다.\n",
      "synopsis_crime.txt 파일을 읽고 있습니다.\n",
      "synopsis_historical.txt 파일을 읽고 있습니다.\n",
      "synopsis_western.txt 파일을 읽고 있습니다.\n",
      "synopsis_adult.txt 파일을 읽고 있습니다.\n",
      "synopsis_thriller.txt 파일을 읽고 있습니다.\n",
      "synopsis_animation.txt 파일을 읽고 있습니다.\n",
      "synopsis_action.txt 파일을 읽고 있습니다.\n",
      "synopsis_adventure.txt 파일을 읽고 있습니다.\n",
      "synopsis_war.txt 파일을 읽고 있습니다.\n",
      "synopsis_comedy.txt 파일을 읽고 있습니다.\n",
      "synopsis_fantasy.txt 파일을 읽고 있습니다.\n"
     ]
    }
   ],
   "source": [
    "genre_txt = ['synopsis_SF.txt', 'synopsis_family.txt', 'synopsis_show.txt', 'synopsis_horror.txt', 'synopsis_etc.txt', \n",
    "             'synopsis_documentary.txt', 'synopsis_drama.txt', 'synopsis_romance.txt', 'synopsis_musical.txt', \n",
    "             'synopsis_mystery.txt', 'synopsis_crime.txt', 'synopsis_historical.txt', 'synopsis_western.txt', \n",
    "             'synopsis_adult.txt', 'synopsis_thriller.txt', 'synopsis_animation.txt', 'synopsis_action.txt', \n",
    "             'synopsis_adventure.txt', 'synopsis_war.txt', 'synopsis_comedy.txt', 'synopsis_fantasy.txt']\n",
    "genre_name = ['SF', '가족', '공연', '공포(호러)', '기타', '다큐멘터리', '드라마', '멜로로맨스', '뮤지컬', '미스터리', '범죄', '사극', '서부극(웨스턴)',\n",
    "         '성인물(에로)', '스릴러', '애니메이션', '액션', '어드벤처', '전쟁', '코미디', '판타지']\n",
    "\n",
    "genre_tokens = read_token(genre_txt, genre_name)"
   ]
  },
  {
   "cell_type": "code",
   "execution_count": 15,
   "id": "b98509ba",
   "metadata": {
    "id": "51df50d3",
    "outputId": "adfdd62b-2cb7-4b18-94b0-f1fb4c7e2981"
   },
   "outputs": [
    {
     "name": "stdout",
     "output_type": "stream",
     "text": [
      "(21, 42191)\n"
     ]
    }
   ],
   "source": [
    "vectorizer = TfidfVectorizer()\n",
    "X = vectorizer.fit_transform(list(genre_tokens.values()))\n",
    "\n",
    "print(X.shape)"
   ]
  },
  {
   "cell_type": "code",
   "execution_count": 16,
   "id": "c1812681",
   "metadata": {
    "id": "db95360c",
    "outputId": "11094490-acad-41a1-c91d-e8a71153656e"
   },
   "outputs": [
    {
     "name": "stdout",
     "output_type": "stream",
     "text": [
      "위해, 자신, 지구, 시작, 사람, 인류, 인간, 미래, 우주, 그녀, 로봇, 세계, 모든, 박사, 우주선, 외계, 존재, 세상, 발견, 행성, 정체, 친구, 비밀, 사실, 기억, 전쟁, 사건, 시간, 공격, 영화, "
     ]
    }
   ],
   "source": [
    "for i, k in enumerate(genre_tokens):\n",
    "    w = X[i].tocoo()\n",
    "    w = [[l, j] for l, j in zip(w.col, w.data)]\n",
    "    w.sort(key=lambda x: x[1], reverse=True)\n",
    "    genre_tokens[k] = w\n",
    "\n",
    "\n",
    "for i in genre_tokens['SF'][:30]:\n",
    "    print(vectorizer.get_feature_names()[i[0]], end=', ')"
   ]
  },
  {
   "cell_type": "code",
   "execution_count": 17,
   "id": "a0e11769",
   "metadata": {
    "id": "63b743be",
    "outputId": "cfa2085b-9830-434f-cf08-f3743c120aa4"
   },
   "outputs": [
    {
     "data": {
      "text/plain": [
       "['위해',\n",
       " '자신',\n",
       " '지구',\n",
       " '시작',\n",
       " '사람',\n",
       " '인류',\n",
       " '인간',\n",
       " '미래',\n",
       " '우주',\n",
       " '그녀',\n",
       " '로봇',\n",
       " '세계',\n",
       " '모든',\n",
       " '박사',\n",
       " '우주선',\n",
       " '외계',\n",
       " '존재',\n",
       " '세상',\n",
       " '발견',\n",
       " '행성',\n",
       " '정체',\n",
       " '친구',\n",
       " '비밀',\n",
       " '사실',\n",
       " '기억',\n",
       " '전쟁',\n",
       " '사건',\n",
       " '시간',\n",
       " '공격',\n",
       " '영화']"
      ]
     },
     "execution_count": 17,
     "metadata": {},
     "output_type": "execute_result"
    }
   ],
   "source": [
    "for k, v in genre_tokens.items():\n",
    "    genre_tokens[k] = [vectorizer.get_feature_names()[i[0]] for i in v[:500] if vectorizer.get_feature_names()[i[0]] in model.wv]\n",
    "\n",
    "genre_tokens['SF'][:30]"
   ]
  },
  {
   "cell_type": "markdown",
   "id": "adc92f6d",
   "metadata": {
    "id": "ROYNTPdWJwn8"
   },
   "source": [
    "여러가지 소분류 장르의 단어 셋도 만들어줍니다.\n",
    "\n",
    "단, 소분류 장르는 단어가 꼭 많을 필요도 없으니 상위 500개의 단어만 넣어줍시다.\n",
    "\n",
    "이후에 중복 제거 처리를 거치면 단어가 엄청 줄어들테니 너무 적으면 안되고,\n",
    "\n",
    "또 너무 많으면 연산 처리에 시간이 너무 많이 소모되니 적당하게 500개로 잡았습니다."
   ]
  },
  {
   "cell_type": "markdown",
   "id": "8601ac7c",
   "metadata": {
    "id": "M6iE-3FVFOal"
   },
   "source": [
    "- - -\n",
    "### 편향성 확인하기"
   ]
  },
  {
   "cell_type": "code",
   "execution_count": 18,
   "id": "e83d42ac",
   "metadata": {
    "colab": {
     "base_uri": "https://localhost:8080/",
     "height": 251
    },
    "executionInfo": {
     "elapsed": 1074,
     "status": "error",
     "timestamp": 1669772279925,
     "user": {
      "displayName": "장문규",
      "userId": "13847838355177078146"
     },
     "user_tz": -540
    },
    "id": "0993651f",
    "outputId": "5d1ccbab-b7b2-4358-c977-ba4ce7928432"
   },
   "outputs": [],
   "source": [
    "for k, v in genre_tokens.items():\n",
    "    genre_unique = []\n",
    "    \n",
    "    for i in genre_tokens.values():\n",
    "        if v == i: continue\n",
    "        genre_unique += i\n",
    "        \n",
    "    genre_tokens[k] = [token for token in v if token not in genre_unique]"
   ]
  },
  {
   "cell_type": "code",
   "execution_count": 70,
   "id": "d26737be",
   "metadata": {},
   "outputs": [
    {
     "name": "stdout",
     "output_type": "stream",
     "text": [
      "SF : 스타크, 리플리, 켈빈, 컨트, 수퍼맨, 분파, 물체, 진화, 수트, 히노키, \n",
      "가족 : 아주르, 낙타, 씨제이, 동구, 슈이트, 마갈, 미아, 펠리칸, 벤트, 케이시, \n",
      "공연 : 실황, 올레, 오텔로, 리골레토, 프레, 베르디, 비바, 콘서트, 백작부인, 반니, \n",
      "공포(호러) : 악령, 분홍신, 캠핑, 정신병원, 레드, 에이미, 심령, 호러, 환영, 레스태트, \n",
      "기타 : 뉴미디어, 메트로, 실험영화, 프라이드, 공사, 독도, 재연, 교통, 완섭, 사물, \n",
      "다큐멘터리 : 다큐, 투쟁, 인디다큐페스티발, 문화, 건축, 운동, 지난, 인권영화제, 건축사, 세대, \n",
      "드라마 : 전주, 퀴어, 노동자, 장애인, 비극, 기도, 이란, 질문, 기적, 교사, \n",
      "멜로로맨스 : 미연, 펜션, 수진, 하숙집, 주희, 준석, 처제, 정식, 정우, 스와핑, \n",
      "뮤지컬 : 에스메랄다, 충무로, 모차르트, 토스카, 니웨, 카바, 바흐, 페뷔스, 프롤, 모도, \n",
      "미스터리 : 민혁, 현우, 방독면, 랭던, 몰카, 거미숲, 수연, 홈즈, 종섭, 한나, \n",
      "범죄 : 한길수, 파푸아, 금고, 마샨, 철중, 도미, 사기꾼, 맥베드, 와처스, 샤오창, \n",
      "사극 : 신기전, 아가멤논, 루안, 하선, 윤서, 세자, 허균, 노준, 채선, 신재효, \n",
      "서부극(웨스턴) : 보안관, 벌린, 카우보이, 그레이프바인, 개릿, 무법자, 프린트, 마적, 태구, 버질, \n",
      "성인물(에로) : 마사지, 정사, 유부녀, 자위, 욕구, 유이, 욕구불만, 성관계, 유코, 유미, \n",
      "스릴러 : 흔적, 저택, 살인마, 영훈, 피해자, 기자, 감금, 연쇄, 혜영, 트래셔, \n",
      "애니메이션 : 애니메이션, 인디애니페스트, 페스티벌, 애니, 도롱, 퍼니퍼, 고고, 펭귄, 나무, 아기, \n",
      "액션 : 갱단, 무술, 액션, 감옥, 인질, 홍콩, 추적, 거래, 거대, 제거, \n",
      "어드벤처 : 앤트, 옥자, 원주민, 보물, 동물, 지구, 윈치, 펠레, 크루소, 양말, \n",
      "전쟁 : 독일군, 전투, 부대, 윈터스, 독일, 연합군, 미군, 나치, 병사, 이지중대, \n",
      "코미디 : 코미디, 최고, 섹스, 여자친구, 남편, 연애, 배우, 형사, 밴드, 제안, \n",
      "판타지 : 자신, 그녀, 시작, 위해, 사람, 사랑, 요괴, 영화제, 이야기, 영화, \n"
     ]
    }
   ],
   "source": [
    "for k, v in genre_tokens.items():\n",
    "    print(k, ': ', end='')\n",
    "    for i in v[:10]:\n",
    "        print(i, end=', ')\n",
    "    print()"
   ]
  },
  {
   "cell_type": "markdown",
   "id": "8d28cf34",
   "metadata": {
    "id": "ezVOPo8wMNnP"
   },
   "source": [
    "먼저 속성 단어 셋의 중복을 제거해줬습니다.\n",
    "\n",
    "해당하지 않는 장르의 모든 단어를 모으고 해당하는 장르와 비교해 유니크함이 확인되면 리스트에 넣는 원리입니다.\n",
    "\n",
    "세트의 차집합을 사용하면 가나다 순으로 정렬이 되어버리는 문제 때문에 이와 같은 방식을 채택했습니다."
   ]
  },
  {
   "cell_type": "code",
   "execution_count": 19,
   "id": "446dbfe8",
   "metadata": {
    "id": "a8e64fbe",
    "outputId": "b91e621c-e0e1-4b7a-a72f-872acfca182c"
   },
   "outputs": [
    {
     "data": {
      "text/plain": [
       "26"
      ]
     },
     "execution_count": 19,
     "metadata": {},
     "output_type": "execute_result"
    }
   ],
   "source": [
    "min([len(l) for l in genre_tokens.values()])"
   ]
  },
  {
   "cell_type": "markdown",
   "id": "c2b6e0aa",
   "metadata": {
    "id": "IZRq2y4JMeqt"
   },
   "source": [
    "중복 제거 후 가장 적은 단어를 가진 장르는 26개의 단어를 가지고 있습니다."
   ]
  },
  {
   "cell_type": "code",
   "execution_count": 20,
   "id": "17d2c643",
   "metadata": {
    "id": "de98c0ca",
    "scrolled": true
   },
   "outputs": [],
   "source": [
    "min_len = 25\n",
    "attributes = []\n",
    "\n",
    "for tokens in genre_tokens:\n",
    "    attributes.append(genre_tokens[tokens][:min_len])\n",
    "\n",
    "#attributes -- 스크롤 증폭 방지"
   ]
  },
  {
   "cell_type": "markdown",
   "id": "8cfcccee",
   "metadata": {
    "id": "ai2CVc6JMnxO"
   },
   "source": [
    "    [['스타크',\n",
    "    '리플리',\n",
    "    '켈빈',\n",
    "    '컨트',\n",
    "    '수퍼맨',\n",
    "    '분파',\n",
    "    '물체',\n",
    "    '진화',\n",
    "    '수트',\n",
    "    '히노키',\n",
    "    '섹터',\n",
    "    '멸망',\n",
    "    '유성',\n",
    "    '토네이도',\n",
    "    '치티',\n",
    "    '라임',\n",
    "    '에일리언',\n",
    "    ..."
   ]
  },
  {
   "cell_type": "markdown",
   "id": "72379656",
   "metadata": {
    "id": "T90NXTi4M6A5"
   },
   "source": [
    "각 장르의 단어 크기가 제각각이면 제대로 된 비교가 되지 못할까봐 모든 장르의 단어 수를 25개로 제한하고 새로운 리스트에 담아줬습니다."
   ]
  },
  {
   "cell_type": "code",
   "execution_count": 21,
   "id": "def036a9",
   "metadata": {
    "id": "4c3c2712"
   },
   "outputs": [],
   "source": [
    "from numpy import dot\n",
    "from numpy.linalg import norm\n",
    "\n",
    "def cos_sim(i, j):\n",
    "    return dot(i, j.T)/(norm(i)*norm(j))\n",
    "\n",
    "def s(w, A, B):\n",
    "    c_a = cos_sim(w, A)\n",
    "    c_b = cos_sim(w, B)\n",
    "    mean_A = np.mean(c_a, axis=-1)\n",
    "    mean_B = np.mean(c_b, axis=-1)\n",
    "    return mean_A - mean_B #, c_a, c_b\n",
    "\n",
    "def weat_score(X, Y, A, B):\n",
    "    \n",
    "    s_X = s(X, A, B)\n",
    "    s_Y = s(Y, A, B)\n",
    "\n",
    "    mean_X = np.mean(s_X)\n",
    "    mean_Y = np.mean(s_Y)\n",
    "    \n",
    "    std_dev = np.std(np.concatenate([s_X, s_Y], axis=0))\n",
    "    \n",
    "    return  (mean_X-mean_Y)/std_dev"
   ]
  },
  {
   "cell_type": "code",
   "execution_count": 37,
   "id": "e166c4eb",
   "metadata": {
    "id": "c04cf078"
   },
   "outputs": [],
   "source": [
    "matrix = [[0 for _ in range(len(genre_name))] for _ in range(len(genre_name))]"
   ]
  },
  {
   "cell_type": "code",
   "execution_count": 38,
   "id": "3f34314e",
   "metadata": {
    "id": "ffcf6267"
   },
   "outputs": [],
   "source": [
    "import numpy as np\n",
    "\n",
    "X = np.array([model.wv[word] for word in target_art])\n",
    "Y = np.array([model.wv[word] for word in target_gen])\n",
    "\n",
    "for i in range(len(genre_name)-1):\n",
    "    for j in range(i+1, len(genre_name)):\n",
    "        A = np.array([model.wv[word] for word in attributes[i]])\n",
    "        B = np.array([model.wv[word] for word in attributes[j]])\n",
    "        matrix[i][j] = weat_score(X, Y, A, B)"
   ]
  },
  {
   "cell_type": "code",
   "execution_count": 51,
   "id": "5b39f384",
   "metadata": {
    "id": "e8d77972",
    "outputId": "1d2fd248-64af-482c-8dfa-ff0b0666f27f"
   },
   "outputs": [
    {
     "name": "stdout",
     "output_type": "stream",
     "text": [
      "SF 가족 -1.0814654\n",
      "SF 공연 -0.5181965\n",
      "SF 공포(호러) -0.986461\n",
      "SF 기타 -0.023467008\n",
      "SF 다큐멘터리 0.5306855\n",
      "SF 드라마 -0.10332013\n",
      "SF 멜로로맨스 -0.9452863\n",
      "SF 뮤지컬 -0.19585057\n",
      "SF 미스터리 -0.9973954\n",
      "SF 범죄 -0.28903598\n",
      "SF 사극 -0.7603628\n",
      "SF 서부극(웨스턴) -0.80639917\n",
      "SF 성인물(에로) -0.7687911\n",
      "SF 스릴러 -0.7459157\n",
      "SF 애니메이션 -0.35507256\n",
      "SF 액션 -0.22692572\n",
      "SF 어드벤처 -0.73248893\n",
      "SF 전쟁 0.19516052\n",
      "SF 코미디 -0.7826374\n",
      "SF 판타지 -0.73546857\n",
      "가족 공연 1.0347761\n",
      "가족 공포(호러) 0.42908618\n",
      "가족 기타 1.0518337\n",
      "가족 다큐멘터리 0.9003014\n",
      "가족 드라마 0.813261\n",
      "가족 멜로로맨스 -0.6186007\n",
      "가족 뮤지컬 1.0019351\n",
      "가족 미스터리 -0.21999261\n",
      "가족 범죄 1.2998308\n",
      "가족 사극 1.0937175\n",
      "가족 서부극(웨스턴) 1.0701582\n",
      "가족 성인물(에로) -0.33291382\n",
      "가족 스릴러 0.21554251\n",
      "가족 애니메이션 1.0209786\n",
      "가족 액션 0.85285753\n",
      "가족 어드벤처 0.84912366\n",
      "가족 전쟁 1.098125\n",
      "가족 코미디 0.36543494\n",
      "가족 판타지 0.5524887\n",
      "공연 공포(호러) -0.5363068\n",
      "공연 기타 0.69881064\n",
      "공연 다큐멘터리 0.7380149\n",
      "공연 드라마 0.33897248\n",
      "공연 멜로로맨스 -0.90234804\n",
      "공연 뮤지컬 0.69909245\n",
      "공연 미스터리 -0.81264544\n",
      "공연 범죄 0.46168566\n",
      "공연 사극 -0.28232697\n",
      "공연 서부극(웨스턴) -0.59766626\n",
      "공연 성인물(에로) -0.66805774\n",
      "공연 스릴러 -0.40265602\n",
      "공연 애니메이션 0.21712029\n",
      "공연 액션 0.14877371\n",
      "공연 어드벤처 0.005055715\n",
      "공연 전쟁 0.6648562\n",
      "공연 코미디 -0.6539251\n",
      "공연 판타지 -0.27352712\n",
      "공포(호러) 기타 0.75560516\n",
      "공포(호러) 다큐멘터리 0.7909727\n",
      "공포(호러) 드라마 0.61124134\n",
      "공포(호러) 멜로로맨스 -0.77871025\n",
      "공포(호러) 뮤지컬 0.6421091\n",
      "공포(호러) 미스터리 -0.784262\n",
      "공포(호러) 범죄 0.93915397\n",
      "공포(호러) 사극 0.58956414\n",
      "공포(호러) 서부극(웨스턴) 0.29291567\n",
      "공포(호러) 성인물(에로) -0.5299557\n",
      "공포(호러) 스릴러 -0.054177918\n",
      "공포(호러) 애니메이션 0.6524487\n",
      "공포(호러) 액션 0.74823093\n",
      "공포(호러) 어드벤처 0.68952715\n",
      "공포(호러) 전쟁 0.8691283\n",
      "공포(호러) 코미디 -0.027069865\n",
      "공포(호러) 판타지 0.41056794\n",
      "기타 다큐멘터리 0.6462904\n",
      "기타 드라마 -0.14662759\n",
      "기타 멜로로맨스 -0.9849236\n",
      "기타 뮤지컬 -0.40452573\n",
      "기타 미스터리 -0.94051623\n",
      "기타 범죄 -0.17972542\n",
      "기타 사극 -0.7562918\n",
      "기타 서부극(웨스턴) -0.7317528\n",
      "기타 성인물(에로) -0.78068113\n",
      "기타 스릴러 -0.5980084\n",
      "기타 애니메이션 -0.5489653\n",
      "기타 액션 -0.13327354\n",
      "기타 어드벤처 -0.37697297\n",
      "기타 전쟁 0.15494186\n",
      "기타 코미디 -0.84130496\n",
      "기타 판타지 -0.61322486\n",
      "다큐멘터리 드라마 -0.9416887\n",
      "다큐멘터리 멜로로맨스 -0.8857541\n",
      "다큐멘터리 뮤지컬 -0.70891076\n",
      "다큐멘터리 미스터리 -0.8700526\n",
      "다큐멘터리 범죄 -0.5513014\n",
      "다큐멘터리 사극 -0.7635407\n",
      "다큐멘터리 서부극(웨스턴) -0.74707204\n",
      "다큐멘터리 성인물(에로) -0.77125794\n",
      "다큐멘터리 스릴러 -0.730332\n",
      "다큐멘터리 애니메이션 -0.7014293\n",
      "다큐멘터리 액션 -0.44411173\n",
      "다큐멘터리 어드벤처 -0.6936721\n",
      "다큐멘터리 전쟁 -0.39685446\n",
      "다큐멘터리 코미디 -0.82279456\n",
      "다큐멘터리 판타지 -0.7940832\n",
      "드라마 멜로로맨스 -0.8445406\n",
      "드라마 뮤지컬 -0.09270933\n",
      "드라마 미스터리 -0.7914444\n",
      "드라마 범죄 -0.064871326\n",
      "드라마 사극 -0.41993862\n",
      "드라마 서부극(웨스턴) -0.49618867\n",
      "드라마 성인물(에로) -0.68104017\n",
      "드라마 스릴러 -0.52625144\n",
      "드라마 애니메이션 -0.23813283\n",
      "드라마 액션 -0.073367424\n",
      "드라마 어드벤처 -0.28637803\n",
      "드라마 전쟁 0.19128437\n",
      "드라마 코미디 -0.68408024\n",
      "드라마 판타지 -0.5587839\n",
      "멜로로맨스 뮤지컬 0.91077834\n",
      "멜로로맨스 미스터리 0.71882033\n",
      "멜로로맨스 범죄 1.0138308\n",
      "멜로로맨스 사극 0.91481155\n",
      "멜로로맨스 서부극(웨스턴) 0.83860135\n",
      "멜로로맨스 성인물(에로) 0.38323092\n",
      "멜로로맨스 스릴러 0.7132121\n",
      "멜로로맨스 애니메이션 0.9115761\n",
      "멜로로맨스 액션 0.90597117\n",
      "멜로로맨스 어드벤처 0.8117832\n",
      "멜로로맨스 전쟁 0.9310684\n",
      "멜로로맨스 코미디 0.8925364\n",
      "멜로로맨스 판타지 0.8084307\n",
      "뮤지컬 미스터리 -0.84627104\n",
      "뮤지컬 범죄 -0.010577721\n",
      "뮤지컬 사극 -0.61681527\n",
      "뮤지컬 서부극(웨스턴) -0.6980601\n",
      "뮤지컬 성인물(에로) -0.70703125\n",
      "뮤지컬 스릴러 -0.50662106\n",
      "뮤지컬 애니메이션 -0.19638562\n",
      "뮤지컬 액션 -0.04497715\n",
      "뮤지컬 어드벤처 -0.24695732\n",
      "뮤지컬 전쟁 0.36168015\n",
      "뮤지컬 코미디 -0.7610819\n",
      "뮤지컬 판타지 -0.46378553\n",
      "미스터리 범죄 1.0664307\n",
      "미스터리 사극 0.8778482\n",
      "미스터리 서부극(웨스턴) 0.71315217\n",
      "미스터리 성인물(에로) -0.35183886\n",
      "미스터리 스릴러 0.53191406\n",
      "미스터리 애니메이션 0.8534726\n",
      "미스터리 액션 0.8856796\n",
      "미스터리 어드벤처 0.8003108\n",
      "미스터리 전쟁 0.9337272\n",
      "미스터리 코미디 0.58868\n",
      "미스터리 판타지 0.7775082\n",
      "범죄 사극 -0.7700362\n",
      "범죄 서부극(웨스턴) -1.234141\n",
      "범죄 성인물(에로) -0.7897971\n",
      "범죄 스릴러 -0.67126405\n",
      "범죄 애니메이션 -0.1275329\n",
      "범죄 액션 -0.074510396\n",
      "범죄 어드벤처 -0.31970152\n",
      "범죄 전쟁 0.5706385\n",
      "범죄 코미디 -0.8546171\n",
      "범죄 판타지 -0.5248825\n",
      "사극 서부극(웨스턴) -0.5447021\n",
      "사극 성인물(에로) -0.6717227\n",
      "사극 스릴러 -0.4121725\n",
      "사극 애니메이션 0.348964\n",
      "사극 액션 0.23879175\n",
      "사극 어드벤처 0.10767843\n",
      "사극 전쟁 0.7560121\n",
      "사극 코미디 -0.61965144\n",
      "사극 판타지 -0.24305318\n",
      "서부극(웨스턴) 성인물(에로) -0.5707795\n",
      "서부극(웨스턴) 스릴러 -0.20400044\n",
      "서부극(웨스턴) 애니메이션 0.5536055\n",
      "서부극(웨스턴) 액션 0.5787942\n",
      "서부극(웨스턴) 어드벤처 0.4071314\n",
      "서부극(웨스턴) 전쟁 1.0272495\n",
      "서부극(웨스턴) 코미디 -0.29230398\n",
      "서부극(웨스턴) 판타지 0.052287087\n",
      "성인물(에로) 스릴러 0.5486547\n",
      "성인물(에로) 애니메이션 0.6923822\n",
      "성인물(에로) 액션 0.7433009\n",
      "성인물(에로) 어드벤처 0.6299509\n",
      "성인물(에로) 전쟁 0.75798\n",
      "성인물(에로) 코미디 0.58238447\n",
      "성인물(에로) 판타지 0.6147489\n",
      "스릴러 애니메이션 0.4673866\n",
      "스릴러 액션 0.67379344\n",
      "스릴러 어드벤처 0.4882122\n",
      "스릴러 전쟁 0.69289225\n",
      "스릴러 코미디 0.010091378\n",
      "스릴러 판타지 0.36773175\n",
      "애니메이션 액션 0.032906495\n",
      "애니메이션 어드벤처 -0.16801465\n",
      "애니메이션 전쟁 0.40630394\n",
      "애니메이션 코미디 -0.65550596\n",
      "애니메이션 판타지 -0.44449246\n",
      "액션 어드벤처 -0.17455773\n",
      "액션 전쟁 0.4078119\n",
      "액션 코미디 -0.5952536\n",
      "액션 판타지 -0.37185562\n",
      "어드벤처 전쟁 0.63115215\n",
      "어드벤처 코미디 -0.53953016\n",
      "어드벤처 판타지 -0.4187249\n",
      "전쟁 코미디 -0.7986455\n",
      "전쟁 판타지 -0.6173526\n",
      "코미디 판타지 0.34831452\n"
     ]
    }
   ],
   "source": [
    "weat_matrix = []\n",
    "\n",
    "for i in range(len(genre_name)-1):\n",
    "    for j in range(i+1, len(genre_name)):\n",
    "        print(genre_name[i], genre_name[j],matrix[i][j])\n",
    "        weat_matrix.append([genre_name[i], genre_name[j],matrix[i][j]])"
   ]
  },
  {
   "cell_type": "markdown",
   "id": "4f76cadf",
   "metadata": {
    "id": "eNYkgm3PNbuQ"
   },
   "source": [
    "WEAT score를 계산한 결과입니다.\n",
    "\n",
    "절댓값이 높을수록 예술영화 일반영화 중 한 쪽으로 편향적이다 라고 볼 수 있습니다."
   ]
  },
  {
   "cell_type": "code",
   "execution_count": 52,
   "id": "1f1d96b0",
   "metadata": {},
   "outputs": [
    {
     "name": "stdout",
     "output_type": "stream",
     "text": [
      "가족 범죄 1.2998308\n",
      "범죄 서부극(웨스턴) -1.234141\n",
      "가족 전쟁 1.098125\n",
      "가족 사극 1.0937175\n",
      "SF 가족 -1.0814654\n",
      "가족 서부극(웨스턴) 1.0701582\n",
      "미스터리 범죄 1.0664307\n",
      "가족 기타 1.0518337\n",
      "가족 공연 1.0347761\n",
      "서부극(웨스턴) 전쟁 1.0272495\n"
     ]
    }
   ],
   "source": [
    "weat_matrix.sort(key=lambda x: abs(x[2]), reverse=True)\n",
    "\n",
    "for i in weat_matrix[:10]:\n",
    "    print(i[0], i[1], i[2])"
   ]
  },
  {
   "cell_type": "markdown",
   "id": "7ab0c1c0",
   "metadata": {},
   "source": [
    "두 장르를 조합했을 때의 평균값이 가장 편향성을 나타내는 장르 상위 10가지를 출력해봤습니다.\n",
    "\n",
    "이렇게 봤을 때는 가족이라는 장르가 편향성이 짙은 것으로 추측됍니다."
   ]
  },
  {
   "cell_type": "code",
   "execution_count": 42,
   "id": "ed917fff",
   "metadata": {
    "id": "5cf32a11",
    "outputId": "5aca30e0-e3dc-4de3-f2e9-b747b94e627e"
   },
   "outputs": [
    {
     "data": {
      "text/plain": [
       "<AxesSubplot:>"
      ]
     },
     "execution_count": 42,
     "metadata": {},
     "output_type": "execute_result"
    },
    {
     "data": {
      "image/png": "[encoded data removed]",
      "text/plain": [
       "<Figure size 1080x864 with 2 Axes>"
      ]
     },
     "metadata": {},
     "output_type": "display_data"
    }
   ],
   "source": [
    "import matplotlib.pyplot as plt\n",
    "import seaborn as sns\n",
    "\n",
    "np.random.seed(0)\n",
    "\n",
    "# 한글 지원 폰트\n",
    "sns.set(font='NanumGothic')\n",
    "\n",
    "# 마이너스 부호 \n",
    "\n",
    "plt.rcParams['axes.unicode_minus'] = False\n",
    "\n",
    "plt.figure(figsize=(15, 12))\n",
    "ax = sns.heatmap(matrix, xticklabels=genre_name, yticklabels=genre_name, annot=True,  cmap='RdYlGn_r')\n",
    "ax.xaxis.tick_top() # x라벨을 그래프의 위에 표시하기\n",
    "plt.xticks(rotation=90) # x라벨의 문자를 90도로 기울이기\n",
    "ax"
   ]
  },
  {
   "cell_type": "markdown",
   "id": "fb87df47",
   "metadata": {
    "id": "LIZM8HzfN5sH"
   },
   "source": [
    "결과를 히트맵으로 표현하면 위와 같습니다.\n",
    "\n",
    "두 장르의 조합 중 하나의 장르만 성향이 한 쪽으로 짙어도 대체로 그 장르의 성향을 따라가는 현상도 보입니다."
   ]
  },
  {
   "cell_type": "markdown",
   "id": "5305fa68",
   "metadata": {},
   "source": [
    "![화면 캡처 2022-11-30 130311.png](data:image/png;base64,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)"
   ]
  },
  {
   "cell_type": "markdown",
   "id": "41f4e0db",
   "metadata": {},
   "source": [
    "![화면 캡처 2022-11-30 131417.png](data:image/png;base64,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)"
   ]
  },
  {
   "cell_type": "markdown",
   "id": "2b420d22",
   "metadata": {
    "id": "c75f314d"
   },
   "source": [
    "## 마무리하며\n",
    "\n",
    "TF-IDF의 문제점이라고 생각되는 부분은 딱히 떠오르는 부분이 없습니다.\n",
    "\n",
    "그나마 편향성 확인을 위해 진행하면서 생긴 문제점이라고는 중복된 단어를 부여한다는 것 뿐인데요.\n",
    "\n",
    "진행한 프로젝트처럼 단어의 클래스를 분류하려는 목적 외에는 발생해도 큰 영향이 없는 문제인 듯 싶은데다가,\n",
    "\n",
    "중복 제거 처리를 직접 진행하면 쉽게 해결 될 문제인 것 같습니다. 저도 어렵지 않게 해결했기도 하구요.\n",
    "\n",
    "편향성을 보는 방법은 사실 아직 이해가 잘 안가는 부분이 많아서 프로젝트가 제대로 만들어졌나 모르겠습니다."
   ]
  }
 ],
 "metadata": {
  "colab": {
   "provenance": []
  },
  "kernelspec": {
   "display_name": "Python 3 (ipykernel)",
   "language": "python",
   "name": "python3"
  },
  "language_info": {
   "codemirror_mode": {
    "name": "ipython",
    "version": 3
   },
   "file_extension": ".py",
   "mimetype": "text/x-python",
   "name": "python",
   "nbconvert_exporter": "python",
   "pygments_lexer": "ipython3",
   "version": "3.9.7"
  }
 },
 "nbformat": 4,
 "nbformat_minor": 5
}
