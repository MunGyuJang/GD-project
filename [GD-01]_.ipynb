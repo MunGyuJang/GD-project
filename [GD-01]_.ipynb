{
 "cells": [
  {
   "cell_type": "markdown",
   "id": "c3a3bd8b",
   "metadata": {},
   "source": [
    "# 프로젝트 : 멋진 단어사전 만들기"
   ]
  },
  {
   "cell_type": "markdown",
   "id": "114d8531",
   "metadata": {},
   "source": [
    "## 1. SentencePiece 모델 만들기\n",
    "- **학습용 데이터 준비하기**\n",
    "- **모델 학습하기**\n",
    "\n",
    "## 2. 데이터 준비하기\n",
    "- **데이터 불러오기**\n",
    "- **데이터 전처리**\n",
    "\n",
    "## 3. 여러 모델 비교하기\n",
    "- **SentencePiece(unigram)**\n",
    "- **KoNLPy**\n",
    "- **SentencePiece(bpe)**"
   ]
  },
  {
   "cell_type": "code",
   "execution_count": 1,
   "id": "693fb92b",
   "metadata": {},
   "outputs": [
    {
     "name": "stdout",
     "output_type": "stream",
     "text": [
      "2.6.0\n",
      "1.21.4\n",
      "3.4.3\n",
      "0.5.2\n"
     ]
    }
   ],
   "source": [
    "import tensorflow as tf\n",
    "import numpy as np\n",
    "import matplotlib as plt\n",
    "import konlpy\n",
    "\n",
    "print(tf.__version__)\n",
    "print(np.__version__)\n",
    "print(plt.__version__)\n",
    "print(konlpy.__version__)"
   ]
  },
  {
   "cell_type": "markdown",
   "id": "1ec3f8e0",
   "metadata": {},
   "source": [
    "- - -\n",
    "### SentencePiece 모델 만들기\n",
    "- **학습용 데이터 준비하기**"
   ]
  },
  {
   "cell_type": "code",
   "execution_count": 2,
   "id": "fdf676fe",
   "metadata": {},
   "outputs": [
    {
     "name": "stdout",
     "output_type": "stream",
     "text": [
      "Data Size: 94123\n",
      "Example:\n",
      ">> 개인용 컴퓨터 사용의 상당 부분은 \"이것보다 뛰어날 수 있느냐?\"\n",
      ">> 북한의 핵무기 계획을 포기하도록 하려는 압력이 거세지고 있는 가운데, 일본과 북한의 외교관들이 외교 관계를 정상화하려는 회담을 재개했다.\n",
      ">> \"경호 로보트가 침입자나 화재를 탐지하기 위해서 개인적으로, 그리고 전문적으로 사용되고 있습니다.\"\n",
      ">> 수자원부 당국은 논란이 되고 있고, 막대한 비용이 드는 이 사업에 대해 내년에 건설을 시작할 계획이다.\n",
      ">> 또한 근력 운동은 활발하게 걷는 것이나 최소한 20분 동안 뛰는 것과 같은 유산소 활동에서 얻는 운동 효과를 심장과 폐에 주지 않기 때문에, 연구학자들은 근력 운동이 심장에 큰 영향을 미치는지 여부에 대해 논쟁을 해왔다.\n"
     ]
    }
   ],
   "source": [
    "import os\n",
    "import matplotlib.pyplot as plt\n",
    "import seaborn as sns\n",
    "%matplotlib inline\n",
    "\n",
    "path_to_file = os.getenv('HOME') + '/aiffel/sp_tokenizer/data/korean-english-park.train.ko'\n",
    "\n",
    "with open(path_to_file, \"r\") as f:\n",
    "    raw = f.read().splitlines()\n",
    "\n",
    "print(\"Data Size:\", len(raw))\n",
    "\n",
    "print(\"Example:\")\n",
    "for sen in raw[0:100][::20]: print(\">>\", sen)"
   ]
  },
  {
   "cell_type": "markdown",
   "id": "fea69f1f",
   "metadata": {},
   "source": [
    "데이터를 불러와줍니다.\n",
    "\n",
    "이 데이터는 제 SentencePiece의 학습용 데이터로 쓰일 예정입니다."
   ]
  },
  {
   "cell_type": "code",
   "execution_count": 3,
   "id": "450be5a4",
   "metadata": {},
   "outputs": [
    {
     "name": "stdout",
     "output_type": "stream",
     "text": [
      "문장의 최단 길이: 1\n",
      "문장의 최장 길이: 377\n",
      "문장의 평균 길이: 60\n"
     ]
    },
    {
     "name": "stderr",
     "output_type": "stream",
     "text": [
      "/tmp/ipykernel_3586/3813981591.py:9: DeprecationWarning: `np.int` is a deprecated alias for the builtin `int`. To silence this warning, use `int` by itself. Doing this will not modify any behavior and is safe. When replacing `np.int`, you may wish to use e.g. `np.int64` or `np.int32` to specify the precision. If you wish to review your current use, check the release note link for additional information.\n",
      "Deprecated in NumPy 1.20; for more details and guidance: https://numpy.org/devdocs/release/1.20.0-notes.html#deprecations\n",
      "  sentence_length = np.zeros((max_len), dtype=np.int)\n"
     ]
    },
    {
     "data": {
      "image/png": "[encoded data removed]",
      "text/plain": [
       "<Figure size 432x288 with 1 Axes>"
      ]
     },
     "metadata": {
      "needs_background": "light"
     },
     "output_type": "display_data"
    }
   ],
   "source": [
    "def show_sentence_length(raw):\n",
    "    len_sen = [len(sen) for sen in raw]\n",
    "\n",
    "    print(\"문장의 최단 길이:\", min(len_sen))\n",
    "    print(\"문장의 최장 길이:\", max(len_sen))\n",
    "    print(\"문장의 평균 길이:\", sum(len_sen) // len(raw))\n",
    "\n",
    "    max_len = max(len_sen)\n",
    "    sentence_length = np.zeros((max_len), dtype=np.int)\n",
    "\n",
    "    for i in range(max_len):\n",
    "        sentence_length[i] = len_sen.count(i+1)\n",
    "\n",
    "    plt.bar(range(max_len), sentence_length, width=1.0)\n",
    "    plt.title(\"Sentence Length Distribution\")\n",
    "    plt.show()\n",
    "    \n",
    "    return sentence_length\n",
    "\n",
    "sentence_length = show_sentence_length(raw)"
   ]
  },
  {
   "cell_type": "markdown",
   "id": "c6c45c79",
   "metadata": {},
   "source": [
    "문장의 길이 분포를 시각화하는 함수를 만들어줍시다.\n",
    "\n",
    "문장의 길이가 1부터 최대 377까지 있으며 이상치가 몇 개 관측되는 것 빼곤\n",
    "\n",
    "아름다운 모양의 분산을 보이고 있습니다."
   ]
  },
  {
   "cell_type": "code",
   "execution_count": 4,
   "id": "817e8120",
   "metadata": {},
   "outputs": [
    {
     "name": "stdout",
     "output_type": "stream",
     "text": [
      "’\n"
     ]
    }
   ],
   "source": [
    "def check_sentence_with_length(raw, length):\n",
    "    count = 0\n",
    "    \n",
    "    for sen in raw:\n",
    "        if len(sen) == length:\n",
    "            print(sen)\n",
    "            count += 1\n",
    "            if count > 50: return\n",
    "\n",
    "check_sentence_with_length(raw, 1)"
   ]
  },
  {
   "cell_type": "markdown",
   "id": "a21ca338",
   "metadata": {},
   "source": [
    "문장의 길이가 1인 문장은 `’` 하나 뿐인 다소 이상한 데이터가 섞여있었습니다."
   ]
  },
  {
   "cell_type": "code",
   "execution_count": 5,
   "id": "ddfb3d14",
   "metadata": {},
   "outputs": [
    {
     "name": "stdout",
     "output_type": "stream",
     "text": [
      "Outlier Index: 11\n",
      "Outlier Index: 19\n",
      "Outlier Index: 21\n"
     ]
    }
   ],
   "source": [
    "for idx, _sum in enumerate(sentence_length):\n",
    "    # 문장의 수가 1500을 초과하는 문장 길이를 추출합니다.\n",
    "    if _sum > 1500:\n",
    "        print(\"Outlier Index:\", idx+1)"
   ]
  },
  {
   "cell_type": "markdown",
   "id": "908b81af",
   "metadata": {},
   "source": [
    "문장의 수가 1500을 초과하는 문장 길이도 확인해봅시다."
   ]
  },
  {
   "cell_type": "code",
   "execution_count": 6,
   "id": "2e279245",
   "metadata": {},
   "outputs": [
    {
     "name": "stdout",
     "output_type": "stream",
     "text": [
      "라고 조던이 말했다.\n",
      "- 모르고 있습니다.\n",
      "- 네, 보이는군요.\n",
      "디즈니사만이 아니다.\n",
      "큰 파티는 아니지요.\n",
      "의자는 비어 있었다.\n",
      "이 일은 계속됩니다.\n",
      "나는 크게 실망했다.\n",
      "그 이유는 간단하다.\n",
      "이력서와 자기 소개서\n",
      "시대가 변하고 있다.\n",
      "는 돌발질문을 했다.\n",
      "9. 몇 분간의 명상\n",
      "하와이, 빅 아일랜드\n",
      "키스를 잘 하는 방법\n",
      "키스를 잘 하는 방법\n",
      "스피어스가 뚱뚱한가?\n",
      "산 위를 나는 느낌.\n",
      "세 시간쯤 걸었을까?\n",
      "(아직 읽고있습니까?\n",
      "처음에는 장난이었다.\n",
      "우리는 운이 좋았다.\n",
      "아기가 숨을 멈출 때\n",
      "건물 전체 무너져내려\n",
      "그녀의 아름다운 눈.\n",
      "대답은 다음과 같다.\n",
      "\"사과할 것이 없다.\n",
      "폭탄테러가 공포 유발\n",
      "그는 \"잘 모르겠다.\n",
      "그는 \"잘 모르겠다.\n",
      "그는 \"잘 모르겠다.\n",
      "그는 \"잘 모르겠다.\n",
      "그는 \"잘 모르겠다.\n",
      "그는 \"잘 모르겠다.\n",
      "그는 \"잘 모르겠다.\n",
      "그는 \"잘 모르겠다.\n",
      "그는 \"잘 모르겠다.\n",
      "케냐 야생동물 고아원\n",
      "경유 1200원대로…\n",
      "더 내려야 하는 이유\n",
      "케냐 야생동물 고아원\n",
      "경유 1200원대로…\n",
      "더 내려야 하는 이유\n",
      "케냐 야생동물 고아원\n",
      "경유 1200원대로…\n",
      "더 내려야 하는 이유\n",
      "케냐 야생동물 고아원\n",
      "경유 1200원대로…\n",
      "더 내려야 하는 이유\n",
      "케냐 야생동물 고아원\n",
      "경유 1200원대로…\n"
     ]
    }
   ],
   "source": [
    "check_sentence_with_length(raw, 11)"
   ]
  },
  {
   "cell_type": "markdown",
   "id": "ed07a6ec",
   "metadata": {},
   "source": [
    "분포에 맞지 않게 관측되던 길이의 문장들은 중복된 데이터였기 때문이군요."
   ]
  },
  {
   "cell_type": "code",
   "execution_count": 7,
   "id": "5cd85815",
   "metadata": {},
   "outputs": [
    {
     "name": "stdout",
     "output_type": "stream",
     "text": [
      "Data Size: 77591\n"
     ]
    }
   ],
   "source": [
    "cleaned_corpus = list(set(raw))  # set를 사용해서 중복을 제거합니다.\n",
    "print(\"Data Size:\", len(cleaned_corpus))"
   ]
  },
  {
   "cell_type": "markdown",
   "id": "87bc36ee",
   "metadata": {},
   "source": [
    "중복을 제거해줍니다."
   ]
  },
  {
   "cell_type": "code",
   "execution_count": 8,
   "id": "990c22f0",
   "metadata": {},
   "outputs": [
    {
     "name": "stdout",
     "output_type": "stream",
     "text": [
      "문장의 최단 길이: 1\n",
      "문장의 최장 길이: 377\n",
      "문장의 평균 길이: 64\n"
     ]
    },
    {
     "name": "stderr",
     "output_type": "stream",
     "text": [
      "/tmp/ipykernel_3586/3813981591.py:9: DeprecationWarning: `np.int` is a deprecated alias for the builtin `int`. To silence this warning, use `int` by itself. Doing this will not modify any behavior and is safe. When replacing `np.int`, you may wish to use e.g. `np.int64` or `np.int32` to specify the precision. If you wish to review your current use, check the release note link for additional information.\n",
      "Deprecated in NumPy 1.20; for more details and guidance: https://numpy.org/devdocs/release/1.20.0-notes.html#deprecations\n",
      "  sentence_length = np.zeros((max_len), dtype=np.int)\n"
     ]
    },
    {
     "data": {
      "image/png": "[encoded data removed]",
      "text/plain": [
       "<Figure size 432x288 with 1 Axes>"
      ]
     },
     "metadata": {
      "needs_background": "light"
     },
     "output_type": "display_data"
    }
   ],
   "source": [
    "sentence_length = show_sentence_length(cleaned_corpus)"
   ]
  },
  {
   "cell_type": "markdown",
   "id": "8120dd2f",
   "metadata": {},
   "source": [
    "분포에서 이상치가 관측되던 부분이 사라졌습니다."
   ]
  },
  {
   "cell_type": "code",
   "execution_count": 9,
   "id": "01d4ff8e",
   "metadata": {},
   "outputs": [
    {
     "name": "stdout",
     "output_type": "stream",
     "text": [
      "문장의 최단 길이: 10\n",
      "문장의 최장 길이: 149\n",
      "문장의 평균 길이: 64\n"
     ]
    },
    {
     "name": "stderr",
     "output_type": "stream",
     "text": [
      "/tmp/ipykernel_3586/3813981591.py:9: DeprecationWarning: `np.int` is a deprecated alias for the builtin `int`. To silence this warning, use `int` by itself. Doing this will not modify any behavior and is safe. When replacing `np.int`, you may wish to use e.g. `np.int64` or `np.int32` to specify the precision. If you wish to review your current use, check the release note link for additional information.\n",
      "Deprecated in NumPy 1.20; for more details and guidance: https://numpy.org/devdocs/release/1.20.0-notes.html#deprecations\n",
      "  sentence_length = np.zeros((max_len), dtype=np.int)\n"
     ]
    },
    {
     "data": {
      "image/png": "[encoded data removed]",
      "text/plain": [
       "<Figure size 432x288 with 1 Axes>"
      ]
     },
     "metadata": {
      "needs_background": "light"
     },
     "output_type": "display_data"
    }
   ],
   "source": [
    "max_len = 150\n",
    "min_len = 10\n",
    "\n",
    "# 길이 조건에 맞는 문장만 선택합니다.\n",
    "filtered_corpus = [s for s in cleaned_corpus if (len(s) < max_len) & (len(s) >= min_len)]\n",
    "\n",
    "# 분포도를 다시 그려봅니다.\n",
    "sentence_length = show_sentence_length(filtered_corpus)"
   ]
  },
  {
   "cell_type": "markdown",
   "id": "59c85656",
   "metadata": {},
   "source": [
    "분포가 적은 긴 문장의 데이터까지 활용하면 연산량이 비효율적으로 낭비되고,\n",
    "\n",
    "길이가 너무 짧은 문장도 별 의미 없는 데이터일 확률이 크니까\n",
    "\n",
    "최소 10, 최대 150의 길이를 가진 문장들로 추려낸 결과 분포가 훨씬 깔끔해졌습니다.\n",
    "\n",
    "이제 중복 제거, 길이 필터링을 한 데이터를 가지고 SentencePiece를 학습시키겠습니다."
   ]
  },
  {
   "cell_type": "markdown",
   "id": "78225b21",
   "metadata": {},
   "source": [
    "- - -\n",
    "### SentencePiece 모델 만들기\n",
    "- **모델 학습하기**"
   ]
  },
  {
   "cell_type": "code",
   "execution_count": 10,
   "id": "c2132ba2",
   "metadata": {},
   "outputs": [
    {
     "name": "stderr",
     "output_type": "stream",
     "text": [
      "sentencepiece_trainer.cc(177) LOG(INFO) Running command: --input=/aiffel/aiffel/sp_tokenizer/data/korean-english-park.train.ko.temp --model_prefix=korean_spm --vocab_size=8000\n",
      "sentencepiece_trainer.cc(77) LOG(INFO) Starts training with : \n",
      "trainer_spec {\n",
      "  input: /aiffel/aiffel/sp_tokenizer/data/korean-english-park.train.ko.temp\n",
      "  input_format: \n",
      "  model_prefix: korean_spm\n",
      "  model_type: UNIGRAM\n",
      "  vocab_size: 8000\n",
      "  self_test_sample_size: 0\n",
      "  character_coverage: 0.9995\n",
      "  input_sentence_size: 0\n",
      "  shuffle_input_sentence: 1\n",
      "  seed_sentencepiece_size: 1000000\n",
      "  shrinking_factor: 0.75\n",
      "  max_sentence_length: 4192\n",
      "  num_threads: 16\n",
      "  num_sub_iterations: 2\n",
      "  max_sentencepiece_length: 16\n",
      "  split_by_unicode_script: 1\n",
      "  split_by_number: 1\n",
      "  split_by_whitespace: 1\n",
      "  split_digits: 0\n",
      "  treat_whitespace_as_suffix: 0\n",
      "  allow_whitespace_only_pieces: 0\n",
      "  required_chars: \n",
      "  byte_fallback: 0\n",
      "  vocabulary_output_piece_score: 1\n",
      "  train_extremely_large_corpus: 0\n",
      "  hard_vocab_limit: 1\n",
      "  use_all_vocab: 0\n",
      "  unk_id: 0\n",
      "  bos_id: 1\n",
      "  eos_id: 2\n",
      "  pad_id: -1\n",
      "  unk_piece: <unk>\n",
      "  bos_piece: <s>\n",
      "  eos_piece: </s>\n",
      "  pad_piece: <pad>\n",
      "  unk_surface:  ⁇ \n",
      "}\n",
      "normalizer_spec {\n",
      "  name: nmt_nfkc\n",
      "  add_dummy_prefix: 1\n",
      "  remove_extra_whitespaces: 1\n",
      "  escape_whitespaces: 1\n",
      "  normalization_rule_tsv: \n",
      "}\n",
      "denormalizer_spec {}\n",
      "trainer_interface.cc(329) LOG(INFO) SentenceIterator is not specified. Using MultiFileSentenceIterator.\n",
      "trainer_interface.cc(178) LOG(INFO) Loading corpus: /aiffel/aiffel/sp_tokenizer/data/korean-english-park.train.ko.temp\n",
      "trainer_interface.cc(385) LOG(INFO) Loaded all 76908 sentences\n",
      "trainer_interface.cc(400) LOG(INFO) Adding meta_piece: <unk>\n",
      "trainer_interface.cc(400) LOG(INFO) Adding meta_piece: <s>\n",
      "trainer_interface.cc(400) LOG(INFO) Adding meta_piece: </s>\n",
      "trainer_interface.cc(405) LOG(INFO) Normalizing sentences...\n",
      "trainer_interface.cc(466) LOG(INFO) all chars count=4996369\n",
      "trainer_interface.cc(477) LOG(INFO) Done: 99.95% characters are covered.\n",
      "trainer_interface.cc(487) LOG(INFO) Alphabet size=1317\n",
      "trainer_interface.cc(488) LOG(INFO) Final character coverage=0.9995\n",
      "trainer_interface.cc(520) LOG(INFO) Done! preprocessed 76908 sentences.\n",
      "unigram_model_trainer.cc(139) LOG(INFO) Making suffix array...\n",
      "unigram_model_trainer.cc(143) LOG(INFO) Extracting frequent sub strings...\n",
      "unigram_model_trainer.cc(194) LOG(INFO) Initialized 174340 seed sentencepieces\n",
      "trainer_interface.cc(526) LOG(INFO) Tokenizing input sentences with whitespace: 76908\n",
      "trainer_interface.cc(537) LOG(INFO) Done! 237965\n",
      "unigram_model_trainer.cc(489) LOG(INFO) Using 237965 sentences for EM training\n",
      "unigram_model_trainer.cc(505) LOG(INFO) EM sub_iter=0 size=92555 obj=14.853 num_tokens=523272 num_tokens/piece=5.65363\n",
      "unigram_model_trainer.cc(505) LOG(INFO) EM sub_iter=1 size=82083 obj=13.516 num_tokens=525776 num_tokens/piece=6.40542\n",
      "unigram_model_trainer.cc(505) LOG(INFO) EM sub_iter=0 size=61555 obj=13.5533 num_tokens=546907 num_tokens/piece=8.88485\n",
      "unigram_model_trainer.cc(505) LOG(INFO) EM sub_iter=1 size=61506 obj=13.5101 num_tokens=547350 num_tokens/piece=8.89913\n",
      "unigram_model_trainer.cc(505) LOG(INFO) EM sub_iter=0 size=46126 obj=13.6926 num_tokens=575369 num_tokens/piece=12.4739\n",
      "unigram_model_trainer.cc(505) LOG(INFO) EM sub_iter=1 size=46126 obj=13.6493 num_tokens=575466 num_tokens/piece=12.476\n",
      "unigram_model_trainer.cc(505) LOG(INFO) EM sub_iter=0 size=34594 obj=13.8894 num_tokens=606014 num_tokens/piece=17.5179\n",
      "unigram_model_trainer.cc(505) LOG(INFO) EM sub_iter=1 size=34594 obj=13.8387 num_tokens=606012 num_tokens/piece=17.5178\n",
      "unigram_model_trainer.cc(505) LOG(INFO) EM sub_iter=0 size=25945 obj=14.1301 num_tokens=637532 num_tokens/piece=24.5724\n",
      "unigram_model_trainer.cc(505) LOG(INFO) EM sub_iter=1 size=25945 obj=14.0747 num_tokens=637568 num_tokens/piece=24.5738\n",
      "unigram_model_trainer.cc(505) LOG(INFO) EM sub_iter=0 size=19458 obj=14.4091 num_tokens=670960 num_tokens/piece=34.4825\n",
      "unigram_model_trainer.cc(505) LOG(INFO) EM sub_iter=1 size=19458 obj=14.3468 num_tokens=670999 num_tokens/piece=34.4845\n",
      "unigram_model_trainer.cc(505) LOG(INFO) EM sub_iter=0 size=14593 obj=14.7196 num_tokens=705636 num_tokens/piece=48.3544\n",
      "unigram_model_trainer.cc(505) LOG(INFO) EM sub_iter=1 size=14593 obj=14.648 num_tokens=705645 num_tokens/piece=48.355\n",
      "unigram_model_trainer.cc(505) LOG(INFO) EM sub_iter=0 size=10944 obj=15.0875 num_tokens=741620 num_tokens/piece=67.765\n",
      "unigram_model_trainer.cc(505) LOG(INFO) EM sub_iter=1 size=10944 obj=15.007 num_tokens=741624 num_tokens/piece=67.7654\n",
      "unigram_model_trainer.cc(505) LOG(INFO) EM sub_iter=0 size=8800 obj=15.3757 num_tokens=769363 num_tokens/piece=87.4276\n",
      "unigram_model_trainer.cc(505) LOG(INFO) EM sub_iter=1 size=8800 obj=15.307 num_tokens=769367 num_tokens/piece=87.4281\n",
      "trainer_interface.cc(615) LOG(INFO) Saving model: korean_spm.model\n",
      "trainer_interface.cc(626) LOG(INFO) Saving vocabs: korean_spm.vocab\n"
     ]
    },
    {
     "name": "stdout",
     "output_type": "stream",
     "text": [
      "-rw-r--r-- 1 root root 376816 Nov 20 07:45 korean_spm.model\r\n",
      "-rw-r--r-- 1 root root 146213 Nov 20 07:45 korean_spm.vocab\r\n"
     ]
    }
   ],
   "source": [
    "import sentencepiece as spm\n",
    "temp_file = os.getenv('HOME')+'/aiffel/sp_tokenizer/data/korean-english-park.train.ko.temp'\n",
    "\n",
    "vocab_size = 8000\n",
    "\n",
    "with open(temp_file, 'w') as f:\n",
    "    for row in filtered_corpus:   # 이전 스텝에서 정제했던 corpus를 활용합니다.\n",
    "        f.write(str(row) + '\\n')\n",
    "\n",
    "spm.SentencePieceTrainer.Train(\n",
    "    '--input={} --model_prefix=korean_spm --vocab_size={}'.format(temp_file, vocab_size)    \n",
    ")\n",
    "#위 Train에서  --model_type = 'unigram'이 디폴트 적용되어 있습니다. --model_type = 'bpe' 로 옵션을 주어 변경할 수 있습니다.\n",
    "\n",
    "!ls -l korean_spm*"
   ]
  },
  {
   "cell_type": "markdown",
   "id": "53befce0",
   "metadata": {},
   "source": [
    "`vocab_size`는 8000으로, 처음 다뤄보는 것이니 옵션은 기본값인 `unigram`으로 진행하겠습니다."
   ]
  },
  {
   "cell_type": "code",
   "execution_count": 11,
   "id": "a3661f06",
   "metadata": {},
   "outputs": [
    {
     "name": "stdout",
     "output_type": "stream",
     "text": [
      "[1243, 11, 302, 7, 3608, 11, 287, 38, 3]\n",
      "['▁아버지', '가', '방', '에', '들어', '가', '신', '다', '.']\n",
      "아버지가방에들어가신다.\n"
     ]
    }
   ],
   "source": [
    "s = spm.SentencePieceProcessor()\n",
    "s.Load('korean_spm.model')\n",
    "\n",
    "# SentencePiece를 활용한 sentence -> encoding\n",
    "tokensIDs = s.EncodeAsIds('아버지가방에들어가신다.')\n",
    "print(tokensIDs)\n",
    "\n",
    "# SentencePiece를 활용한 sentence -> encoded pieces\n",
    "print(s.SampleEncodeAsPieces('아버지가방에들어가신다.',1, 0.0))\n",
    "\n",
    "# SentencePiece를 활용한 encoding -> sentence 복원\n",
    "print(s.DecodeIds(tokensIDs))"
   ]
  },
  {
   "cell_type": "markdown",
   "id": "50b7a7ca",
   "metadata": {},
   "source": [
    "학습된 SentencePiece를 사용하면 위처럼 형태소가 분리가 되는군요.\n",
    "\n",
    "쓸만한 정도는 되는 것 같습니다."
   ]
  },
  {
   "cell_type": "code",
   "execution_count": 12,
   "id": "5a860df3",
   "metadata": {},
   "outputs": [],
   "source": [
    "def sp_tokenize(s, corpus):\n",
    "\n",
    "    tensor = []\n",
    "\n",
    "    for sen in corpus:\n",
    "        tensor.append(s.EncodeAsIds(sen))\n",
    "\n",
    "    with open(\"./korean_spm.vocab\", 'r') as f:\n",
    "        vocab = f.readlines()\n",
    "\n",
    "    word_index = {}\n",
    "    index_word = {}\n",
    "\n",
    "    for idx, line in enumerate(vocab):\n",
    "        word = line.split(\"\\t\")[0]\n",
    "\n",
    "        word_index.update({word:idx})\n",
    "        index_word.update({idx:word})\n",
    "\n",
    "    tensor = tf.keras.preprocessing.sequence.pad_sequences(tensor, padding='post')\n",
    "\n",
    "    return tensor, word_index, index_word"
   ]
  },
  {
   "cell_type": "markdown",
   "id": "aa0b673f",
   "metadata": {},
   "source": [
    "데이터를 받으면 텐서와 단어 사전으로 출력해주는 함수입니다."
   ]
  },
  {
   "cell_type": "code",
   "execution_count": 13,
   "id": "283e8b2c",
   "metadata": {},
   "outputs": [
    {
     "name": "stdout",
     "output_type": "stream",
     "text": [
      "[[1956 5665    5    4 7975 1990    3    0    0    0    0    0    0    0]\n",
      " [ 107 1641  101    4    0  417   11    4   14    0 1976    3    3    3]]\n"
     ]
    }
   ],
   "source": [
    "#sp_tokenize(s, corpus) 사용예제\n",
    "\n",
    "my_corpus = ['나는 밥을 먹었습니다.', '그러나 여전히 ㅠㅠ 배가 고픕니다...']\n",
    "tensor, word_index, index_word = sp_tokenize(s, my_corpus)\n",
    "print(tensor)"
   ]
  },
  {
   "cell_type": "markdown",
   "id": "5cdbebf9",
   "metadata": {},
   "source": [
    "리스트 형태로 넣어보면서 함수를 테스트해보면 텐서 형태로 출력되는 것까지 잘 작동됩니다."
   ]
  },
  {
   "cell_type": "markdown",
   "id": "4e35ba7b",
   "metadata": {},
   "source": [
    "- - -\n",
    "### 데이터 준비하기\n",
    "- **데이터 불러오기**"
   ]
  },
  {
   "cell_type": "code",
   "execution_count": 14,
   "id": "724e9d0d",
   "metadata": {},
   "outputs": [],
   "source": [
    "# !mkdir -p ~/aiffel/GoingDeeper/dataset/sentiment_classification"
   ]
  },
  {
   "cell_type": "code",
   "execution_count": 15,
   "id": "683ceb1f",
   "metadata": {
    "scrolled": false
   },
   "outputs": [
    {
     "name": "stdout",
     "output_type": "stream",
     "text": [
      "(150000, 3)\n",
      "(50000, 3)\n"
     ]
    },
    {
     "data": {
      "text/html": [
       "<div>\n",
       "<style scoped>\n",
       "    .dataframe tbody tr th:only-of-type {\n",
       "        vertical-align: middle;\n",
       "    }\n",
       "\n",
       "    .dataframe tbody tr th {\n",
       "        vertical-align: top;\n",
       "    }\n",
       "\n",
       "    .dataframe thead th {\n",
       "        text-align: right;\n",
       "    }\n",
       "</style>\n",
       "<table border=\"1\" class=\"dataframe\">\n",
       "  <thead>\n",
       "    <tr style=\"text-align: right;\">\n",
       "      <th></th>\n",
       "      <th>id</th>\n",
       "      <th>document</th>\n",
       "      <th>label</th>\n",
       "    </tr>\n",
       "  </thead>\n",
       "  <tbody>\n",
       "    <tr>\n",
       "      <th>0</th>\n",
       "      <td>9976970</td>\n",
       "      <td>아 더빙.. 진짜 짜증나네요 목소리</td>\n",
       "      <td>0</td>\n",
       "    </tr>\n",
       "    <tr>\n",
       "      <th>1</th>\n",
       "      <td>3819312</td>\n",
       "      <td>흠...포스터보고 초딩영화줄....오버연기조차 가볍지 않구나</td>\n",
       "      <td>1</td>\n",
       "    </tr>\n",
       "    <tr>\n",
       "      <th>2</th>\n",
       "      <td>10265843</td>\n",
       "      <td>너무재밓었다그래서보는것을추천한다</td>\n",
       "      <td>0</td>\n",
       "    </tr>\n",
       "    <tr>\n",
       "      <th>3</th>\n",
       "      <td>9045019</td>\n",
       "      <td>교도소 이야기구먼 ..솔직히 재미는 없다..평점 조정</td>\n",
       "      <td>0</td>\n",
       "    </tr>\n",
       "    <tr>\n",
       "      <th>4</th>\n",
       "      <td>6483659</td>\n",
       "      <td>사이몬페그의 익살스런 연기가 돋보였던 영화!스파이더맨에서 늙어보이기만 했던 커스틴 ...</td>\n",
       "      <td>1</td>\n",
       "    </tr>\n",
       "  </tbody>\n",
       "</table>\n",
       "</div>"
      ],
      "text/plain": [
       "         id                                           document  label\n",
       "0   9976970                                아 더빙.. 진짜 짜증나네요 목소리      0\n",
       "1   3819312                  흠...포스터보고 초딩영화줄....오버연기조차 가볍지 않구나      1\n",
       "2  10265843                                  너무재밓었다그래서보는것을추천한다      0\n",
       "3   9045019                      교도소 이야기구먼 ..솔직히 재미는 없다..평점 조정      0\n",
       "4   6483659  사이몬페그의 익살스런 연기가 돋보였던 영화!스파이더맨에서 늙어보이기만 했던 커스틴 ...      1"
      ]
     },
     "execution_count": 15,
     "metadata": {},
     "output_type": "execute_result"
    }
   ],
   "source": [
    "import pandas as pd\n",
    "\n",
    "# 데이터를 읽어봅시다. \n",
    "train_data = pd.read_table('~/aiffel/GoingDeeper/dataset/sentiment_classification/ratings_train.txt')\n",
    "test_data = pd.read_table('~/aiffel/GoingDeeper/dataset/sentiment_classification/ratings_test.txt')\n",
    "\n",
    "print(train_data.shape)\n",
    "print(test_data.shape)\n",
    "\n",
    "train_data.head()"
   ]
  },
  {
   "cell_type": "markdown",
   "id": "cc03a182",
   "metadata": {},
   "source": [
    "그럼 제가 만든 SentencePiece와 KoNLPy를 비교 분석하기 위해 사용될 데이터를 준비해줍시다.\n",
    "\n",
    "[네이버 영화 리뷰 감성 분석 태스크](https://github.com/e9t/nsmc/)입니다."
   ]
  },
  {
   "cell_type": "markdown",
   "id": "0c6ff5a0",
   "metadata": {},
   "source": [
    "- - -\n",
    "### 데이터 준비하기\n",
    "- **데이터 전처리**"
   ]
  },
  {
   "cell_type": "code",
   "execution_count": 16,
   "id": "40018ee3",
   "metadata": {},
   "outputs": [
    {
     "data": {
      "text/html": [
       "<div>\n",
       "<style scoped>\n",
       "    .dataframe tbody tr th:only-of-type {\n",
       "        vertical-align: middle;\n",
       "    }\n",
       "\n",
       "    .dataframe tbody tr th {\n",
       "        vertical-align: top;\n",
       "    }\n",
       "\n",
       "    .dataframe thead th {\n",
       "        text-align: right;\n",
       "    }\n",
       "</style>\n",
       "<table border=\"1\" class=\"dataframe\">\n",
       "  <thead>\n",
       "    <tr style=\"text-align: right;\">\n",
       "      <th></th>\n",
       "      <th>id</th>\n",
       "      <th>document</th>\n",
       "      <th>label</th>\n",
       "    </tr>\n",
       "  </thead>\n",
       "  <tbody>\n",
       "    <tr>\n",
       "      <th>0</th>\n",
       "      <td>9976970</td>\n",
       "      <td>아 더빙.. 진짜 짜증나네요 목소리</td>\n",
       "      <td>0</td>\n",
       "    </tr>\n",
       "    <tr>\n",
       "      <th>1</th>\n",
       "      <td>3819312</td>\n",
       "      <td>흠...포스터보고 초딩영화줄....오버연기조차 가볍지 않구나</td>\n",
       "      <td>1</td>\n",
       "    </tr>\n",
       "    <tr>\n",
       "      <th>2</th>\n",
       "      <td>10265843</td>\n",
       "      <td>너무재밓었다그래서보는것을추천한다</td>\n",
       "      <td>0</td>\n",
       "    </tr>\n",
       "    <tr>\n",
       "      <th>3</th>\n",
       "      <td>9045019</td>\n",
       "      <td>교도소 이야기구먼 ..솔직히 재미는 없다..평점 조정</td>\n",
       "      <td>0</td>\n",
       "    </tr>\n",
       "    <tr>\n",
       "      <th>4</th>\n",
       "      <td>6483659</td>\n",
       "      <td>사이몬페그의 익살스런 연기가 돋보였던 영화!스파이더맨에서 늙어보이기만 했던 커스틴 ...</td>\n",
       "      <td>1</td>\n",
       "    </tr>\n",
       "    <tr>\n",
       "      <th>...</th>\n",
       "      <td>...</td>\n",
       "      <td>...</td>\n",
       "      <td>...</td>\n",
       "    </tr>\n",
       "    <tr>\n",
       "      <th>49995</th>\n",
       "      <td>4608761</td>\n",
       "      <td>오랜만에 평점 로긴했네ㅋㅋ 킹왕짱 쌈뽕한 영화를 만났습니다 강렬하게 육쾌함</td>\n",
       "      <td>1</td>\n",
       "    </tr>\n",
       "    <tr>\n",
       "      <th>49996</th>\n",
       "      <td>5308387</td>\n",
       "      <td>의지 박약들이나 하는거다 탈영은 일단 주인공 김대희 닮았고 이등병 찐따 OOOO</td>\n",
       "      <td>0</td>\n",
       "    </tr>\n",
       "    <tr>\n",
       "      <th>49997</th>\n",
       "      <td>9072549</td>\n",
       "      <td>그림도 좋고 완성도도 높았지만... 보는 내내 불안하게 만든다</td>\n",
       "      <td>0</td>\n",
       "    </tr>\n",
       "    <tr>\n",
       "      <th>49998</th>\n",
       "      <td>5802125</td>\n",
       "      <td>절대 봐서는 안 될 영화.. 재미도 없고 기분만 잡치고.. 한 세트장에서 다 해먹네</td>\n",
       "      <td>0</td>\n",
       "    </tr>\n",
       "    <tr>\n",
       "      <th>49999</th>\n",
       "      <td>6070594</td>\n",
       "      <td>마무리는 또 왜이래</td>\n",
       "      <td>0</td>\n",
       "    </tr>\n",
       "  </tbody>\n",
       "</table>\n",
       "<p>195339 rows × 3 columns</p>\n",
       "</div>"
      ],
      "text/plain": [
       "             id                                           document  label\n",
       "0       9976970                                아 더빙.. 진짜 짜증나네요 목소리      0\n",
       "1       3819312                  흠...포스터보고 초딩영화줄....오버연기조차 가볍지 않구나      1\n",
       "2      10265843                                  너무재밓었다그래서보는것을추천한다      0\n",
       "3       9045019                      교도소 이야기구먼 ..솔직히 재미는 없다..평점 조정      0\n",
       "4       6483659  사이몬페그의 익살스런 연기가 돋보였던 영화!스파이더맨에서 늙어보이기만 했던 커스틴 ...      1\n",
       "...         ...                                                ...    ...\n",
       "49995   4608761          오랜만에 평점 로긴했네ㅋㅋ 킹왕짱 쌈뽕한 영화를 만났습니다 강렬하게 육쾌함      1\n",
       "49996   5308387       의지 박약들이나 하는거다 탈영은 일단 주인공 김대희 닮았고 이등병 찐따 OOOO      0\n",
       "49997   9072549                 그림도 좋고 완성도도 높았지만... 보는 내내 불안하게 만든다      0\n",
       "49998   5802125     절대 봐서는 안 될 영화.. 재미도 없고 기분만 잡치고.. 한 세트장에서 다 해먹네      0\n",
       "49999   6070594                                         마무리는 또 왜이래      0\n",
       "\n",
       "[195339 rows x 3 columns]"
      ]
     },
     "execution_count": 16,
     "metadata": {},
     "output_type": "execute_result"
    }
   ],
   "source": [
    "train_data.drop_duplicates(['document'], inplace=True)\n",
    "train_data.dropna(how='any', inplace=True)\n",
    "\n",
    "test_data.drop_duplicates(['document'], inplace=True)\n",
    "test_data.dropna(how='any', inplace=True)\n",
    "\n",
    "data = pd.concat([train_data, test_data], axis=0)\n",
    "\n",
    "data"
   ]
  },
  {
   "cell_type": "markdown",
   "id": "c5676a5e",
   "metadata": {},
   "source": [
    "간단하게 중복과 결측치를 제거해줍니다."
   ]
  },
  {
   "cell_type": "code",
   "execution_count": 17,
   "id": "87cd7491",
   "metadata": {},
   "outputs": [
    {
     "name": "stdout",
     "output_type": "stream",
     "text": [
      "문장의 최단 길이: 1\n",
      "문장의 최장 길이: 146\n",
      "문장의 평균 길이: 35\n"
     ]
    },
    {
     "name": "stderr",
     "output_type": "stream",
     "text": [
      "/tmp/ipykernel_3586/3813981591.py:9: DeprecationWarning: `np.int` is a deprecated alias for the builtin `int`. To silence this warning, use `int` by itself. Doing this will not modify any behavior and is safe. When replacing `np.int`, you may wish to use e.g. `np.int64` or `np.int32` to specify the precision. If you wish to review your current use, check the release note link for additional information.\n",
      "Deprecated in NumPy 1.20; for more details and guidance: https://numpy.org/devdocs/release/1.20.0-notes.html#deprecations\n",
      "  sentence_length = np.zeros((max_len), dtype=np.int)\n"
     ]
    },
    {
     "data": {
      "image/png": "[encoded data removed]",
      "text/plain": [
       "<Figure size 432x288 with 1 Axes>"
      ]
     },
     "metadata": {
      "needs_background": "light"
     },
     "output_type": "display_data"
    }
   ],
   "source": [
    "sentence_length = show_sentence_length(data['document'])"
   ]
  },
  {
   "cell_type": "markdown",
   "id": "eaf7f7a1",
   "metadata": {},
   "source": [
    "문장의 길이 분포를 살펴보면 아까의 데이터처럼 마냥 이쁜 모양은 아니네요."
   ]
  },
  {
   "cell_type": "code",
   "execution_count": 18,
   "id": "3567e55c",
   "metadata": {},
   "outputs": [
    {
     "name": "stdout",
     "output_type": "stream",
     "text": [
      "Outlier Index: 137\n",
      "Outlier Index: 138\n",
      "Outlier Index: 139\n",
      "Outlier Index: 140\n"
     ]
    }
   ],
   "source": [
    "for idx, _sum in enumerate(sentence_length):\n",
    "    if _sum > 500 and idx > 135:\n",
    "        print(\"Outlier Index:\", idx+1)"
   ]
  },
  {
   "cell_type": "markdown",
   "id": "c312d420",
   "metadata": {},
   "source": [
    "분포의 마지막에 가장 우뚝 솟아있는 건 길이가 140인 문장들이겠네요.\n",
    "\n",
    "어떻게 절묘하게 길이가 140인 문장이 많은걸까요?"
   ]
  },
  {
   "cell_type": "code",
   "execution_count": 19,
   "id": "86311d45",
   "metadata": {
    "scrolled": false
   },
   "outputs": [
    {
     "name": "stdout",
     "output_type": "stream",
     "text": [
      "데너리스 타르 가르엔...나도 용의주인이 되고 싶다...누이랑,근친상간이나 하고 다닐지라도,소설 속에선 제일 멋진 놈이 자이메 라니스터였는데,드라마속에선,드래곤(용)이 제일 멋지네(웃음)감독님 토르-2 다크 월드는 말아 잡수셨을지라도,기본 선방은 했음\n",
      "아~ 진짜 조금만 더 손 좀 보면 왠만한 상업 영화 못지 않게 퀄리티 쩔게 만들어 질 수 있었는데 아쉽네요 그래도 충분히 재미있었습니다 개인적으로 조금만 더 잔인하게 더 자극적으로 노출씬도 화끈하게 했더라면 어땠을까 하는 국산영화라 많이 아낀 듯 보임\n",
      "평점조절위원회에서 나왔습니다(웃음)김혜선은 @내일이 오면@의 김순정,순정이 역할이 제일이다.팜므파탈로써,그 정도까지 잘해낼 줄은,정말 의외였어...연기20년 한사람에게 요즘 사극에서 벌어지고 있는,그녀에 대한 연기논란은 왠지 코미디의한장면 같음(웃음)\n",
      "사실여부를 떠나,알고왔던 아더와 너무 매칭이 안돼더라.원탁기사중 실제 검술 최고수는 랜슬롯으로 알고 있는데,트리스탄보다 못하고,싸우는 검술은 마치 중국검술 흉내낸거 같은게;; 그리고 란슬롯이 실제는 쌍검였나?너무 매칭이 안대 하튼 ㅋ기네비어역도 미스.\n",
      "진짜 이건 아님ㅋㅋㅋㅋㅋ액션영화좋아해서 액션영화만 다운받아서 꾸준히 본게 벌써 몇년인 사람임 근데 이건 진짴ㅋㅋㅋㅋㅋㅋ아무리 점수 잘 줘도 100점 만점에 10점?ㅡㅡ돈주고봤는데너무아깝다진짜ㅜㅜ그리고대체 왜 13구역 타이틀을 달고나왔는지 모르겠음 실망\n",
      "영화'산업'이라고 하잖는가? 이딴식으로 홍보 해놓고 속여서 팔았다는 게 소비자 입장에서는 짜증난다. 그나마 다행은 아주 싸구려를 상급품으로 속여판 게 아니라는 점. 그래서 1점. 차라리 연상호 감독 작품 처럼 홍보가 됐다면, 그 비슷하게 만이라도 하지\n",
      "화려한 색채때문에 눈이 아프지만 그 나름대로 화려연예계여자욕망에대해 표현해냈던거같다 보는내내 진짜 리리코심정가진 연옌들도 있을거같고..나를한번도보지못하고알지못하는사람들이날어떻게사랑하냐그런대사 나왔을때 소름돋더라 연예인들은 많은사랑받으면서도 참 허전할듯\n",
      "히가시노 게이고의 추리소설이 사랑 받는 이유는, 치밀한 트릭도 크겠지만 사람이 사람을 죽이는 행위에 감성적 정당성을 부여한 탁월한 설득력에 있다. 본 원작은 말 그대로 '헌신적 사랑'이 그 키워드였고, 용의자 x는 거기에 집중해 훌륭히 결을 살려냈다.\n",
      "TV상영종료후 1년뒤에 극장판이 나올정도의 초 대작.TV편의 설정오류 수정과 새로운 씬 추가가 주된 볼거리. 마마마는 어른들을 위한 애니이다.※우측의 리뷰를 보고 애들과 함께 볼려고 한 분들에게는 절대로 애들에게 보여줄 작품이 아니라고 강력히 주장한다\n",
      "써로게이트의 부작용에 대한 자신만의 생각으로 써로게이트를 통해 행복을 누리고 있는 사람들의 권리를 뺒아가는게 정당한것인가? 장애인이나 식물인가.. 혹은 외모컴플렉스가 있는 사람들은 써로게이트통해 행복한 삶을 살고 있었을텐데.. 너무나 이기적인 결말임.\n",
      "정말 미치도록 재미없다. 무슨 80년대 중국 괴기 판타지물 마냥 시대에 뒤떨어진 연출과 분장력과 스토리. 반전 또한 너무 뻔하다. 아니, 솔직히 반전인 줄도 몰랐다. 처음부터 계속 복선이 깔리는데 뭐가 반전인지? 흔하디흔한 미드 반전만도 못한 애들영화\n",
      "초등학생 시절에 접했던 스파이더맨 3부작을 히어로물 매니아가 된 지금 다시 찾았다. 리부트 후 세계관 확장에 신경쓰고 있지만, 독립된 세계관으로써도 깊은 여운과 재미를 줬던 샘레이미 감독과 토비 맥과이어의 스파이더맨 3부작은 정말 최고라 말하고 싶다.\n",
      "예회장의 매력이 걷잡을수 없다. 무간도 시리즈의 다른 작품들과 등장인물이 거의 완전히 다름에도 불구하고 다른 무간도 시리즈와 잘 조화되며, 이 작품만이 주는 매력 또한 상당하다. 한침의 먹방이 정말 압권. 예회장의 카리스마는 대부의 돈 꼴레오네를 연상\n",
      "어차피 무리인 소설 원작을 재현할 생각 말고, 차라리 영화 나름의 각색을 하는게 더 나았겠다. 이건 뭐 그냥 생뚱맞네. 캐릭터 깊이도 없고, 몰입도 안되고, 감독 혼자서만 감정잡고있고, 영상도 작위적. 아예 헛웃음만 나오더라. 트란안훙꺼 이제 안볼거다\n",
      "그저 옛 영화 입니다. 예전의 경향과 문화를 알고 싶으신 분은 보세요. 지금 봐도 괜찮은 고전명작의 공통점은 그 감독들이 현재까지도 활발히 활동한다는 것이죠. 대부 감독은 2000년대 이후로 성공적이지 못합니다. 구성과 전개가 너무 올드하고 지루하죠.\n",
      "미라소르비노 발킬머와 스케이트장에서 여러가지 표정 지어보일때 너무 이쁘고사랑스러웠네요.. 스토리전개에.조금은.투박한느낌이지만.. 처음 비가내릴때.작은 폐가 안에 들어가.같이 눈을.감고 비의 운율을 느낀다... 괜찮은 영화를알게되어 너무 좋은 하루였네요\n",
      "이 죽일놈의 사랑...에 어울리지 않는,이 무슨 거지같은...영화.차라리 공상과학영화로 각색해오든가...딱 국어책을 낭랑히 읽고있는,대배우의 시나리오리딩을 보는듯하다.레드라이트에 이어서,캐스팅만 쩌는 또하나의 졸작.당신의돈과시간을 조금더 소중히 하시라\n",
      "어렸을 때는 지능이 뒤떨어져 이 영화의 전체적인 흐름과 스토리를, 심지어 그 때문에 반전까지 못 느껴서 루즈하게 느껴졌지만, 나이가 들어 영화의 흐름과 반전을 느낄 정도의 약간은 성숙된(?)지능을 가지고 보니 영화의 완성도가 상당히 높다 여기게 되었다\n",
      "히나타 진짜 싫어하는데 영화가 급전개그렇고 더 라스트가 아니라 제목은 히나타의목도리인듯;;내용도 이상하고 작가가 육백화쯤에서 뜬금없이 번외로 히나타 동생내보내더니 극장판때문이였는듯.만화끝날때까지도 러브라인 확실하지않더니ㅋ작가겁나 배신감느껴짐.괜히 본듯\n",
      "현재2013년...퍼시픽림.슈퍼맨.배트맨.어밴져스등...컴퓨터그래픽의 절정을 보여주는 이시점에 컴퓨터그래픽은 제로....이럴수가....탈을쓰고 나오다니....무슨장난하는줄 알았다.1980년대나 나올법한 영화같지도 않은영화.돈주고보긴아까우니무료로보세요.\n",
      "걸작 공포영화마스터피스를 망쳐놓은 감독의 한심한 연출력...감독 존 무어...당신에게 오멘(666)의 저주가 있으리라.능력이 안되면,손대지를 말든가?제가 무슨 알프레드 히치콕이라고,엉뚱한 녀석.가서 다이하드6-본투비 와일드나 찍고있어~임마...(웃음)\n",
      "차인표는 드라마보다 유독 영화선택에 낮게 평가받는 이유가,이런 작은 선택들이모여,장강의대하를 이루기때문이다.차인표는 정말 영화시나리오 보는 안목이 정말...없다.육상효의습작.그래도 방가방가라고 가기위한 소중한 첫걸음이라고 보면,좀 견딜만할거라고 생각해\n",
      "7~8점정도가 적당. 재밌어요. 점수 올려주려고 10점줌. 써티데이즈오브나잇+데드캠프라 생각하면 됨. 극한 상황에서 생존하는 영화 좋아하시는분들께 추천합니다. 졸작 아니고 충분히 볼만한 작품. 시간이 짧은 만큼 아쉬운게 있긴하지만 전반적으로 괜찮아요.\n",
      "시나리오의 망작성에,진짜 갈라티아의눈물?도 사람처럼,눈물을 흘릴판이다.이수경의 발연기는 진짜 역사에 남을 수준...효리의 드라마출연외도이후에,사상 최고수준의 거의 대형사고 그 자체.내가 감독이라면,필름을 통채로 버렸을 꺼다.강혜정도 어설프고,진짜 졸작\n",
      "이런걸 보고 유식한 말로 데우스 엑스 마키나라고 한다.무슨일이 일어나도 이상하지 않은 영화.그게 이 영화의 궁극의 패착이다.아무것도 신기하지 않은게,신기한 점이랄까?보다보면,에라~될대로 되라...하고 진지하게 영화보기를 포기하는 지점이 반드시 생겨난다\n",
      "내인생 잊혀지지 않은 영화. 지금도 빠삐용 주제를 가끔 듣노라면 내가슴 깊은곳에 고독과 살아야겠다는 서러움이 절절하게 끓어오릅니다. 아마도 내 인생이 슷비슷비하지 않았나 생각됩니다. 물론 빠삐용하고 비교할 수 없지만 조금이나마 내인생을 말해주는 이영화\n",
      "평점이 이해 안된다.. 물론 형편없는 영화라는건 아닌데;; 죽은 자와의 소통이란 소재로 눈물도 좀 나오게 하는건 맞다. 근데, 이것 저것 짜 맞춘 느린 호흡의 영화로 끝에가서는 뭘 말하고자 했던건지 벙~ 찐다. 평점 무조건 10점 좀 때리지마시길...\n",
      "중국의 어거지 로마 마을 광관홍보영화. 중국에 있는 저 로마마을에 가면 로마에 있는 돈 받고 같이 사진찍어주는 로마병사코스프레를 따라한 중국할배들이 돌아다님 ㅋ 실화는 개뿔 학자들에 의하면 로마인들이 저 지역에 단체이주해 살았다는 역사적 근거는 전무함\n",
      "마치 하수구가 막혀 물이 내려가지 못하는 답답한 스토리?....같은 자리를 뱅뱅 도는 듯한 느낌...배우의 문제가 아니라 스토리가 문제 있는듯...밑에 10점 주신분들 주관적이기야 하겠지만...10점은 아닌듯...좀 시원하게 진행 좀 됐으면..질질질.\n",
      "소재는 기발했다. 하지만 그 이상의 뭔가를 보여주지못하고, 이 참신한 설정의 무대에서 놀고 있는 캐릭터들은 길을 못 찾고 어느 쪽으로 가야할지 허둥대는 상황만 보여준다. 사람들이 어둠속으로 사라질때 옷만 남겨놓듯 이 영화도 설정만 남겨놓고 사라진것같다\n",
      "감독 세르게이 보드로프...우베 볼이 감독 너에게 아따 행님요~하게 생겼다...(웃음)스티븐 시갈 영화들이,바람과함께 사라지다나,전쟁과평화처럼 보이게 하는 것도 재주 라면 재주...인디펜던스 데이 이후에 이 정도 발로 쓴 시나리오 정말 오랜만에 본다.\n",
      "이혜영 강남에서,10여년전에 한번 봤는데,007처럼,은색 재규어 몰고 다니더라.방송일만 하면,개나소나 다 끌고다니는 외제차 아직 한번도 못뽑아 봤으니,참.인생 왜 사나 싶다.그게 무슨 캡슐에서 뽑는,갸차폰 완구도 아니고,다들 재주도 좋네.쉽게 뽑으니.\n",
      "여기 호감순보면 순 친일파에 알지도 못하는 사무라이 역사를 말하고있네. 이 영화는 옛 사무라이의 더러운 것들을 미화시켜서 내논 영화입니다. 군사철학은 없고 단지 주군에 충성한 살인청부업자들이 모인 단체입니다. 글을 읽을줄 아는사람도 별로 없다고 하네요\n",
      "룸메이트 1기 그냥 그데로 했으면 좋겠는데 ㅠㅠㅠㅠ 1기 룸메이트 했던 사람들이 더 좋았는데 ㅠ이렇게 아쉽게 가버린다니 ㅠ 평생 잊지 못할거예요 ㅠ 그냥 1기때처럼 그데로 해줬으면 좋겠는데 ㅠ제발 우리곁에 떠나지마요 ㅠ안가면 안되나? 보고싶을 거예요ㅠ\n",
      "생뚱,엉뚱,갸우뚱한 상상력에 엉성하기 그지없는 전개, 한 마디로 실망 그자체입니다.제목은 진지한데 웃을래야 웃을 수 없는 일그러진 희극을 보는 것 같군요.마음을 따뜻하게 하는 드라마가 사라지고 말초신경만 자극하는 드라마가 판치는 시대의 일그러진 자화상\n",
      "멀쩡한 유역비 미모와,장난아닌,출연료만 아깝다~절세미녀 유역비 데려다가,OO 짓 하고 있다.한때는 아시아의 헐리우드 소리를 듣다가 한순간에 몰락해 버린,홍콩 영화판의,이유 있는 결과물.도학위룡이나,무간도 3부작의 발가락의때만큼만 해와봐.극장에서 봐준다\n",
      "처음에는 막장 소스를 신선하게 풀어가는 것 같아 잼있게 봤지만 3분의1을 넘어가자 막장중의 막장이 되어 실망스러웠음. 막장 소스를 이해할 수없는 상황에서 한꺼번에 퍼붓다가 맥없이 한큐에 해결되고 너무 유치함.그나마 초반의 신선함과 배우들의 연기에 3점\n",
      "진심 내가 왠만하면 영화들 비판 안하고 다 괜찮다 하는데 평점 첨 보고 오 괜찮나? 이러면서 보러갔었는데 진심 이렇게 뻔한 스토리에 지루한건 첨 이였음;; 영화관 나오면서 첨으로 별점 10점에 잼있어요~이러는 애들 죽일뻔 송혜교 탈세 할때부터 알아야했\n",
      "타짜는10점받아마땅하다.영화의모든부분이다재밌었다.캐릭터들은원작보다훨씬더매력적으로재현됐고,단역까지모든캐릭터가제몫을했다.긴이야기를아주 딱맞게압축했다.전국중고딩에게섯다열풍을몰고온,막판고니와아귀의설전을전국민이외우게만든작품.영화사에남을장면들이가득담겨있는선물세트\n",
      "최악의 영화입니다. 내용과 모든 게 삼류영화 입니다. 이종수씨의 잛은 컷에도 느껴지는 어색함과 아역배우의 너무 바른 발음이 연기쪽에서도 최악이었고여.. 내용도 처음 한시간 버려도 될만합니다. 다 버리면 좋겠지만 모든게급전개와 어울리지 않는 상황속대사들\n",
      "낯선 비율이 주는 파격. 익숙치않은 흑백이 주는 안정감. 이국적 풍취의 폴란드거리와 그시대. 화면아래 혹은 구석 어딘가에서 투영되는 차분하고 정적인 인물들의 움직임. 그 순간순간의 메세지. '나'를 찾아가는 한 존재의 각성 그리고 흔들리는 그 한걸음.\n",
      "복수라는 타이틀을 달지말던가. 복수영화.느와르 영화에서는 최소한의 규칙이있어 . 전개스타일 . 슬로우느낌 . 다좋다고 근데말야 복수가 복수다워야지 . 뭐냐고 원숭이같이 생긴 싸이코패스경찰서장이 주인공이네 . 복수를 해야할 라이언고슬링은 허접때기로나오네\n",
      "문제 의식의 제기에는 깊이가 있으나 현상만 나열하며 그쳤고....작가적 특유의 관점 또는 방향성이 젊으니까 아프다 정도의 아마추어적 한계도 보임...현 시점에서 관망해 보면..당시 박정희 정권의 의도적 정책에 의한 사회 현상 정도로 참고는 해 볼 정도\n",
      "봉준호작품은 마음에 깊게 남아 여러번 보았고, 미셸공드리의 작품은 결말은 좋았지만, 사족이 많았던것같아 조금 아쉽다. 레오까락스의 작품은 홀리모터스까지 보고 난뒤에야 이렇게 평점을 적지만, 드니라방의 연기 덕을 톡톡히 보았다고 생각한다. 좋았다 정말.\n",
      "국교때본거넹당시 책이먼저나왔었다네.중국은 일본 세균보듯싫어하지.걔들은 중화사상이라 지들 중심으로 지구가돈다고 생각하지. 정통한족도 아닌주제에.그냥 아시아 이민족 집합체 .일본도글치만, 떼넘들도더하다.오죽힌은 박정희가 탄압했긋나. 아시아의 유대이라고나.\n",
      "정당한 것을 얻기 위한 그들의 흥겨운 싸움이라고 보면 될까. 두리반과 인디밴드가 자신들의 권리와 존엄성을 지키기 위해 예술,(음악, 공연, 글 )으로 자신들의 의견을 피력하는 모습이 멋있었다. 영화관이 추워서 보는 내내 한겨울 두리반에 있는 느낌이었다\n",
      "이 영화를 가장좋아하는것은 20대여자 라고 되있고 가장 싫어하는 사람들이 20대 남성이다. 이로써 볼 수 있는것은 여자는 감정이 발달되있고 남자는 이성이 발달했다는 것이다. 감정이 발달되어 있으니 신이란 존재를 이성적, 논리적으로 판단하지 못하는것이다\n",
      "히든싱어 항상 챙겨봤었는데요! 모두 재밌었지만 이승환편이 정말 최고였습니다!! 저는 이승환님에 대해 잘 알지못했던 10대소녀인데요. 이번에 이승환편보고 전율을 느낀후 그 누구보다도 정말정말 진심으로 이승환님을 좋아하는 팬이 되었어요!!♡감사합니다^^♡\n",
      "영화속의 영화는 영화속의 현실이되고 그 현실이 영화로 만들어 졌다면 우리가 보는 영화는 어디에서부터 어디까지일까요? 현재속에 숨어있는 과거들 과거속에 숨어있었던 현재들 수많은 장치들을 찾아보는 것도 이 영화가 가지고 있는 즐거움 아닐까요? 좋았습니다.\n",
      "좀더스케일이커진영구.그이상도이하도아닌딱그만큼.영구특유의슬랩스틱은더이상통하지않는것같다.보는내내이영화를볼외국인들의반응이궁금하면서걱정되기도했음.나름대로스토리가짜여있지만,영구가여기에끼어있으니영몰입안됨;정신줄놓고그냥보려해도얼마못가서제정신을차리게되는안타까운영화.\n",
      "그래서 중국은 꿈을 펼치기에는,좋지않은 땅이라는 뜻이냐?그게 하루에100명가까이,15초마다,한건씩 살인이 일어나는,나라의국민이 할만한 주장이냐?유오성 닮은,츠차오의 발레공연장면만 볼만하다.어딘가 매카시즘의 반공유령이 떠다니고 있는듯한,기분이 드는 영화\n"
     ]
    }
   ],
   "source": [
    "check_sentence_with_length(data['document'], 140)"
   ]
  },
  {
   "cell_type": "markdown",
   "id": "13b07bea",
   "metadata": {},
   "source": [
    "..그냥 우연의 일치라고 보겠습니다.\n",
    "\n",
    "데이터를 확인하는 입장인 저로썬 확인하기가 힘들군요."
   ]
  },
  {
   "cell_type": "code",
   "execution_count": 20,
   "id": "34f4e8ef",
   "metadata": {},
   "outputs": [
    {
     "data": {
      "text/html": [
       "<div>\n",
       "<style scoped>\n",
       "    .dataframe tbody tr th:only-of-type {\n",
       "        vertical-align: middle;\n",
       "    }\n",
       "\n",
       "    .dataframe tbody tr th {\n",
       "        vertical-align: top;\n",
       "    }\n",
       "\n",
       "    .dataframe thead th {\n",
       "        text-align: right;\n",
       "    }\n",
       "</style>\n",
       "<table border=\"1\" class=\"dataframe\">\n",
       "  <thead>\n",
       "    <tr style=\"text-align: right;\">\n",
       "      <th></th>\n",
       "      <th>id</th>\n",
       "      <th>document</th>\n",
       "      <th>label</th>\n",
       "    </tr>\n",
       "  </thead>\n",
       "  <tbody>\n",
       "    <tr>\n",
       "      <th>34069</th>\n",
       "      <td>8355974</td>\n",
       "      <td>와.,.,.,..진짜 최악이다.,.,.,.,.와,.,.,.,. 이영화랑 클레멘타인의...</td>\n",
       "      <td>0</td>\n",
       "    </tr>\n",
       "  </tbody>\n",
       "</table>\n",
       "</div>"
      ],
      "text/plain": [
       "            id                                           document  label\n",
       "34069  8355974  와.,.,.,..진짜 최악이다.,.,.,.,.와,.,.,.,. 이영화랑 클레멘타인의...      0"
      ]
     },
     "execution_count": 20,
     "metadata": {},
     "output_type": "execute_result"
    }
   ],
   "source": [
    "data.loc[data['id'] == 8355974]"
   ]
  },
  {
   "cell_type": "markdown",
   "id": "41c8a817",
   "metadata": {},
   "source": [
    "데이터를 이리저리 둘러보다 우연히 찾은 요주의 문장입니다.\n",
    "\n",
    "어떻게 말줄임표를 `,`과 `.`을 번갈아서 쓸 생각을 했는지..\n",
    "\n",
    "아무튼 이 문장을 중점적으로 전처리를 진행하겠습니다."
   ]
  },
  {
   "cell_type": "code",
   "execution_count": 21,
   "id": "1c73f61e",
   "metadata": {},
   "outputs": [
    {
     "data": {
      "text/html": [
       "<div>\n",
       "<style scoped>\n",
       "    .dataframe tbody tr th:only-of-type {\n",
       "        vertical-align: middle;\n",
       "    }\n",
       "\n",
       "    .dataframe tbody tr th {\n",
       "        vertical-align: top;\n",
       "    }\n",
       "\n",
       "    .dataframe thead th {\n",
       "        text-align: right;\n",
       "    }\n",
       "</style>\n",
       "<table border=\"1\" class=\"dataframe\">\n",
       "  <thead>\n",
       "    <tr style=\"text-align: right;\">\n",
       "      <th></th>\n",
       "      <th>id</th>\n",
       "      <th>document</th>\n",
       "      <th>label</th>\n",
       "    </tr>\n",
       "  </thead>\n",
       "  <tbody>\n",
       "    <tr>\n",
       "      <th>0</th>\n",
       "      <td>9976970</td>\n",
       "      <td>아 더빙.. 진짜 짜증나네요 목소리</td>\n",
       "      <td>0</td>\n",
       "    </tr>\n",
       "    <tr>\n",
       "      <th>1</th>\n",
       "      <td>3819312</td>\n",
       "      <td>흠..포스터보고 초딩영화줄..오버연기조차 가볍지 않구나</td>\n",
       "      <td>1</td>\n",
       "    </tr>\n",
       "    <tr>\n",
       "      <th>2</th>\n",
       "      <td>10265843</td>\n",
       "      <td>너무재밓었다그래서보는것을추천한다</td>\n",
       "      <td>0</td>\n",
       "    </tr>\n",
       "    <tr>\n",
       "      <th>3</th>\n",
       "      <td>9045019</td>\n",
       "      <td>교도소 이야기구먼 ..솔직히 재미는 없다..평점 조정</td>\n",
       "      <td>0</td>\n",
       "    </tr>\n",
       "    <tr>\n",
       "      <th>4</th>\n",
       "      <td>6483659</td>\n",
       "      <td>사이몬페그의 익살스런 연기가 돋보였던 영화!스파이더맨에서 늙어보이기만 했던 커스틴 ...</td>\n",
       "      <td>1</td>\n",
       "    </tr>\n",
       "    <tr>\n",
       "      <th>...</th>\n",
       "      <td>...</td>\n",
       "      <td>...</td>\n",
       "      <td>...</td>\n",
       "    </tr>\n",
       "    <tr>\n",
       "      <th>49995</th>\n",
       "      <td>4608761</td>\n",
       "      <td>오랜만에 평점 로긴했네 킹왕짱 쌈뽕한 영화를 만났습니다 강렬하게 육쾌함</td>\n",
       "      <td>1</td>\n",
       "    </tr>\n",
       "    <tr>\n",
       "      <th>49996</th>\n",
       "      <td>5308387</td>\n",
       "      <td>의지 박약들이나 하는거다 탈영은 일단 주인공 김대희 닮았고 이등병 찐따</td>\n",
       "      <td>0</td>\n",
       "    </tr>\n",
       "    <tr>\n",
       "      <th>49997</th>\n",
       "      <td>9072549</td>\n",
       "      <td>그림도 좋고 완성도도 높았지만.. 보는 내내 불안하게 만든다</td>\n",
       "      <td>0</td>\n",
       "    </tr>\n",
       "    <tr>\n",
       "      <th>49998</th>\n",
       "      <td>5802125</td>\n",
       "      <td>절대 봐서는 안 될 영화.. 재미도 없고 기분만 잡치고.. 한 세트장에서 다 해먹네</td>\n",
       "      <td>0</td>\n",
       "    </tr>\n",
       "    <tr>\n",
       "      <th>49999</th>\n",
       "      <td>6070594</td>\n",
       "      <td>마무리는 또 왜이래</td>\n",
       "      <td>0</td>\n",
       "    </tr>\n",
       "  </tbody>\n",
       "</table>\n",
       "<p>195339 rows × 3 columns</p>\n",
       "</div>"
      ],
      "text/plain": [
       "             id                                           document  label\n",
       "0       9976970                                아 더빙.. 진짜 짜증나네요 목소리      0\n",
       "1       3819312                     흠..포스터보고 초딩영화줄..오버연기조차 가볍지 않구나      1\n",
       "2      10265843                                  너무재밓었다그래서보는것을추천한다      0\n",
       "3       9045019                      교도소 이야기구먼 ..솔직히 재미는 없다..평점 조정      0\n",
       "4       6483659  사이몬페그의 익살스런 연기가 돋보였던 영화!스파이더맨에서 늙어보이기만 했던 커스틴 ...      1\n",
       "...         ...                                                ...    ...\n",
       "49995   4608761            오랜만에 평점 로긴했네 킹왕짱 쌈뽕한 영화를 만났습니다 강렬하게 육쾌함      1\n",
       "49996   5308387            의지 박약들이나 하는거다 탈영은 일단 주인공 김대희 닮았고 이등병 찐따      0\n",
       "49997   9072549                  그림도 좋고 완성도도 높았지만.. 보는 내내 불안하게 만든다      0\n",
       "49998   5802125     절대 봐서는 안 될 영화.. 재미도 없고 기분만 잡치고.. 한 세트장에서 다 해먹네      0\n",
       "49999   6070594                                         마무리는 또 왜이래      0\n",
       "\n",
       "[195339 rows x 3 columns]"
      ]
     },
     "execution_count": 21,
     "metadata": {},
     "output_type": "execute_result"
    }
   ],
   "source": [
    "import re\n",
    "\n",
    "def preprocess_sentence(sentence):\n",
    "    sentence = re.sub(r\"[^a-zA-Z0-9\\uAC00-\\uD7A3\\s~!?,.']+\", '', sentence) # a-z : 모든 알파벳 소문자\n",
    "                                                                            # A-Z : 모든 알파벳 대문자\n",
    "                                                                            # 0-9 : 모든 숫자\n",
    "                                                                            # \\uAC00-\\uD7A3 : 모든 한글\n",
    "                                                                            # \\s : 공백\n",
    "                                                                            # ~!?,.' : 예외시킨 특수문자들\n",
    "    sentence = re.sub(r'[\" \"]+', \" \", sentence) # 공백 중복은 하나의 공백으로\n",
    "    sentence = re.sub(r'[\"!\"]+', \"!\", sentence) # 느낌표 중복은 하나의 느낌표로\n",
    "    sentence = re.sub(r'[\"?\"]+', \"?\", sentence) # 물음표 중복은 하나의 물음표로\n",
    "    sentence = re.sub(r'[\"~\"]+', \"~\", sentence) # 물결표 중복은 하나의 물결표로\n",
    "    sentence = re.sub(r'[\",.\"]{2}', \"..\", sentence) # ,,이나 ,이 섞인 말줄임표는 ..으로\n",
    "    sentence = re.sub(r'[\".\"]{2,}', \"..\", sentence) # .이 두 개 이상 반복되는 말줄임표는 ..으로\n",
    "    sentence = re.sub(r'[\"O\"]{2,}', \"\", sentence) # OO로 필터링(추정)된 것은 제거\n",
    "    sentence = sentence.strip()\n",
    "    \n",
    "    return sentence\n",
    "\n",
    "train_data['document'] = train_data['document'].apply(preprocess_sentence)\n",
    "test_data['document'] = test_data['document'].apply(preprocess_sentence)\n",
    "\n",
    "data = pd.concat([train_data, test_data], axis=0)\n",
    "\n",
    "data"
   ]
  },
  {
   "cell_type": "markdown",
   "id": "b86ef3bc",
   "metadata": {},
   "source": [
    "전처리 함수입니다.\n",
    "\n",
    "`!!, ??, ~~`와 같은 하나여도 상관 없는 감탄사는 하나만 사용하도록 줄여줬고,\n",
    "\n",
    "`,`을 이용한 말줄임표는 모두 `..`으로 통일해주면서 `,`이 하나만 있을 경우엔 처리되지 않게 해줬습니다.\n",
    "\n",
    "그리고 말줄임표도 `.`이 2개든 10개든 의미에는 큰 차이가 없으므로 `.`을 두 개 쓰는 것으로 통일해줬구요.\n",
    "\n",
    "마지막으로 `OOOO` 이런 단어가 있었는데, 혹시 데이터셋을 만든 사람이 필터링을 했거나 네이버에서 자동적으로 필터링 되게끔 한 단어가 아닐까 싶었고, \n",
    "\n",
    "만약 그렇다면 의미가 없는 단어이니 제거해줬습니다."
   ]
  },
  {
   "cell_type": "code",
   "execution_count": 22,
   "id": "e550575d",
   "metadata": {},
   "outputs": [
    {
     "name": "stdout",
     "output_type": "stream",
     "text": [
      "문장의 최단 길이: 0\n",
      "문장의 최장 길이: 140\n",
      "문장의 평균 길이: 34\n"
     ]
    },
    {
     "name": "stderr",
     "output_type": "stream",
     "text": [
      "/tmp/ipykernel_3586/3813981591.py:9: DeprecationWarning: `np.int` is a deprecated alias for the builtin `int`. To silence this warning, use `int` by itself. Doing this will not modify any behavior and is safe. When replacing `np.int`, you may wish to use e.g. `np.int64` or `np.int32` to specify the precision. If you wish to review your current use, check the release note link for additional information.\n",
      "Deprecated in NumPy 1.20; for more details and guidance: https://numpy.org/devdocs/release/1.20.0-notes.html#deprecations\n",
      "  sentence_length = np.zeros((max_len), dtype=np.int)\n"
     ]
    },
    {
     "data": {
      "image/png": "[encoded data removed]",
      "text/plain": [
       "<Figure size 432x288 with 1 Axes>"
      ]
     },
     "metadata": {
      "needs_background": "light"
     },
     "output_type": "display_data"
    }
   ],
   "source": [
    "sentence_length = show_sentence_length(data['document'])"
   ]
  },
  {
   "cell_type": "markdown",
   "id": "90280fd0",
   "metadata": {},
   "source": [
    "전처리 결과 최단 길이가 1 → 0, 최장 길이가 146 → 140, 평균 길이가 35 → 34로\n",
    "\n",
    "분포의 모양 또한 큰 차이가 없을 정도로 문장 자체는 크게 건드리지 않았습니다."
   ]
  },
  {
   "cell_type": "code",
   "execution_count": 23,
   "id": "b6007543",
   "metadata": {},
   "outputs": [
    {
     "data": {
      "text/html": [
       "<div>\n",
       "<style scoped>\n",
       "    .dataframe tbody tr th:only-of-type {\n",
       "        vertical-align: middle;\n",
       "    }\n",
       "\n",
       "    .dataframe tbody tr th {\n",
       "        vertical-align: top;\n",
       "    }\n",
       "\n",
       "    .dataframe thead th {\n",
       "        text-align: right;\n",
       "    }\n",
       "</style>\n",
       "<table border=\"1\" class=\"dataframe\">\n",
       "  <thead>\n",
       "    <tr style=\"text-align: right;\">\n",
       "      <th></th>\n",
       "      <th>id</th>\n",
       "      <th>document</th>\n",
       "      <th>label</th>\n",
       "    </tr>\n",
       "  </thead>\n",
       "  <tbody>\n",
       "    <tr>\n",
       "      <th>34069</th>\n",
       "      <td>8355974</td>\n",
       "      <td>와..진짜 최악이다..와.. 이영화랑 클레멘타인의 차이점은..이영화는 돈을 좀더 썼...</td>\n",
       "      <td>0</td>\n",
       "    </tr>\n",
       "  </tbody>\n",
       "</table>\n",
       "</div>"
      ],
      "text/plain": [
       "            id                                           document  label\n",
       "34069  8355974  와..진짜 최악이다..와.. 이영화랑 클레멘타인의 차이점은..이영화는 돈을 좀더 썼...      0"
      ]
     },
     "execution_count": 23,
     "metadata": {},
     "output_type": "execute_result"
    }
   ],
   "source": [
    "data.loc[data['id'] == 8355974]"
   ]
  },
  {
   "cell_type": "markdown",
   "id": "86fcacc2",
   "metadata": {},
   "source": [
    "제가 찾았던 요주의 데이터를 보니 깔끔하게 처리가 됐습니다.(뿌듯)"
   ]
  },
  {
   "cell_type": "code",
   "execution_count": 24,
   "id": "0b6eef3c",
   "metadata": {},
   "outputs": [
    {
     "data": {
      "text/html": [
       "<div>\n",
       "<style scoped>\n",
       "    .dataframe tbody tr th:only-of-type {\n",
       "        vertical-align: middle;\n",
       "    }\n",
       "\n",
       "    .dataframe tbody tr th {\n",
       "        vertical-align: top;\n",
       "    }\n",
       "\n",
       "    .dataframe thead th {\n",
       "        text-align: right;\n",
       "    }\n",
       "</style>\n",
       "<table border=\"1\" class=\"dataframe\">\n",
       "  <thead>\n",
       "    <tr style=\"text-align: right;\">\n",
       "      <th></th>\n",
       "      <th>id</th>\n",
       "      <th>document</th>\n",
       "      <th>label</th>\n",
       "    </tr>\n",
       "  </thead>\n",
       "  <tbody>\n",
       "    <tr>\n",
       "      <th>4</th>\n",
       "      <td>6483659</td>\n",
       "      <td>사이몬페그의 익살스런 연기가 돋보였던 영화!스파이더맨에서 늙어보이기만 했던 커스틴 ...</td>\n",
       "      <td>1</td>\n",
       "    </tr>\n",
       "    <tr>\n",
       "      <th>7</th>\n",
       "      <td>9443947</td>\n",
       "      <td>별 반개도 아깝다 욕나온다 이응경 길용우 연기생활이몇년인지..정말 발로해도 그것보단...</td>\n",
       "      <td>0</td>\n",
       "    </tr>\n",
       "    <tr>\n",
       "      <th>14</th>\n",
       "      <td>9864035</td>\n",
       "      <td>취향은 존중한다지만 진짜 내생에 극장에서 본 영화중 가장 노잼 노감동임 스토리도 어...</td>\n",
       "      <td>0</td>\n",
       "    </tr>\n",
       "    <tr>\n",
       "      <th>16</th>\n",
       "      <td>9143163</td>\n",
       "      <td>참 사람들 웃긴게 바스코가 이기면 락스코라고 까고바비가 이기면 아이돌이라고 깐다.그...</td>\n",
       "      <td>1</td>\n",
       "    </tr>\n",
       "    <tr>\n",
       "      <th>22</th>\n",
       "      <td>9705777</td>\n",
       "      <td>재미없다 지루하고. 같은 음식 영화인데도 바베트의 만찬하고 넘 차이남..바베트의 만...</td>\n",
       "      <td>0</td>\n",
       "    </tr>\n",
       "    <tr>\n",
       "      <th>...</th>\n",
       "      <td>...</td>\n",
       "      <td>...</td>\n",
       "      <td>...</td>\n",
       "    </tr>\n",
       "    <tr>\n",
       "      <th>49954</th>\n",
       "      <td>8787645</td>\n",
       "      <td>5편의 존 무어 감독은 만약에 6편을 만든다 하면 4편까진 복습하고 오시길!그게 뭡...</td>\n",
       "      <td>1</td>\n",
       "    </tr>\n",
       "    <tr>\n",
       "      <th>49970</th>\n",
       "      <td>6833821</td>\n",
       "      <td>당신의 꿈은 지금 안녕하신가요.. 유쾌하고 감동적이고 꿈을 잊고 사는 현대인들이 보...</td>\n",
       "      <td>1</td>\n",
       "    </tr>\n",
       "    <tr>\n",
       "      <th>49973</th>\n",
       "      <td>8527261</td>\n",
       "      <td>영화 초반 존쿠삭이 바네사 허진스 가두고 LP로 틀던 팝송 정말 좋던데 아시는분 제...</td>\n",
       "      <td>0</td>\n",
       "    </tr>\n",
       "    <tr>\n",
       "      <th>49974</th>\n",
       "      <td>6694209</td>\n",
       "      <td>그래서 하고 싶은 말이 뭔데..? . 연출만 잘했더라면 훨씬 더 흥미로웠을텐데. 몇...</td>\n",
       "      <td>0</td>\n",
       "    </tr>\n",
       "    <tr>\n",
       "      <th>49981</th>\n",
       "      <td>10173918</td>\n",
       "      <td>보는내내 전편의 추억들이 새록새록 떠오른다. 전체적인 내용은 해리포터 불의 잔과 비...</td>\n",
       "      <td>1</td>\n",
       "    </tr>\n",
       "  </tbody>\n",
       "</table>\n",
       "<p>29887 rows × 3 columns</p>\n",
       "</div>"
      ],
      "text/plain": [
       "             id                                           document  label\n",
       "4       6483659  사이몬페그의 익살스런 연기가 돋보였던 영화!스파이더맨에서 늙어보이기만 했던 커스틴 ...      1\n",
       "7       9443947  별 반개도 아깝다 욕나온다 이응경 길용우 연기생활이몇년인지..정말 발로해도 그것보단...      0\n",
       "14      9864035  취향은 존중한다지만 진짜 내생에 극장에서 본 영화중 가장 노잼 노감동임 스토리도 어...      0\n",
       "16      9143163  참 사람들 웃긴게 바스코가 이기면 락스코라고 까고바비가 이기면 아이돌이라고 깐다.그...      1\n",
       "22      9705777  재미없다 지루하고. 같은 음식 영화인데도 바베트의 만찬하고 넘 차이남..바베트의 만...      0\n",
       "...         ...                                                ...    ...\n",
       "49954   8787645  5편의 존 무어 감독은 만약에 6편을 만든다 하면 4편까진 복습하고 오시길!그게 뭡...      1\n",
       "49970   6833821  당신의 꿈은 지금 안녕하신가요.. 유쾌하고 감동적이고 꿈을 잊고 사는 현대인들이 보...      1\n",
       "49973   8527261  영화 초반 존쿠삭이 바네사 허진스 가두고 LP로 틀던 팝송 정말 좋던데 아시는분 제...      0\n",
       "49974   6694209  그래서 하고 싶은 말이 뭔데..? . 연출만 잘했더라면 훨씬 더 흥미로웠을텐데. 몇...      0\n",
       "49981  10173918  보는내내 전편의 추억들이 새록새록 떠오른다. 전체적인 내용은 해리포터 불의 잔과 비...      1\n",
       "\n",
       "[29887 rows x 3 columns]"
      ]
     },
     "execution_count": 24,
     "metadata": {},
     "output_type": "execute_result"
    }
   ],
   "source": [
    "min_len = 1\n",
    "max_len = 55\n",
    "\n",
    "data.loc[data['document'].apply(lambda x: not (min_len <= len(x) <= max_len))]"
   ]
  },
  {
   "cell_type": "markdown",
   "id": "5d2dffbf",
   "metadata": {},
   "source": [
    "문장의 최소 길이를 1, 최대 길이를 55로 설정할 경우 제거될 데이터 목록입니다.\n",
    "\n",
    "확인 결과 별 영향 없을 것으로 보입니다."
   ]
  },
  {
   "cell_type": "code",
   "execution_count": 25,
   "id": "0b180a2c",
   "metadata": {},
   "outputs": [
    {
     "data": {
      "text/html": [
       "<div>\n",
       "<style scoped>\n",
       "    .dataframe tbody tr th:only-of-type {\n",
       "        vertical-align: middle;\n",
       "    }\n",
       "\n",
       "    .dataframe tbody tr th {\n",
       "        vertical-align: top;\n",
       "    }\n",
       "\n",
       "    .dataframe thead th {\n",
       "        text-align: right;\n",
       "    }\n",
       "</style>\n",
       "<table border=\"1\" class=\"dataframe\">\n",
       "  <thead>\n",
       "    <tr style=\"text-align: right;\">\n",
       "      <th></th>\n",
       "      <th>id</th>\n",
       "      <th>document</th>\n",
       "      <th>label</th>\n",
       "    </tr>\n",
       "  </thead>\n",
       "  <tbody>\n",
       "    <tr>\n",
       "      <th>0</th>\n",
       "      <td>9976970</td>\n",
       "      <td>아 더빙.. 진짜 짜증나네요 목소리</td>\n",
       "      <td>0</td>\n",
       "    </tr>\n",
       "    <tr>\n",
       "      <th>1</th>\n",
       "      <td>3819312</td>\n",
       "      <td>흠..포스터보고 초딩영화줄..오버연기조차 가볍지 않구나</td>\n",
       "      <td>1</td>\n",
       "    </tr>\n",
       "    <tr>\n",
       "      <th>2</th>\n",
       "      <td>10265843</td>\n",
       "      <td>너무재밓었다그래서보는것을추천한다</td>\n",
       "      <td>0</td>\n",
       "    </tr>\n",
       "    <tr>\n",
       "      <th>3</th>\n",
       "      <td>9045019</td>\n",
       "      <td>교도소 이야기구먼 ..솔직히 재미는 없다..평점 조정</td>\n",
       "      <td>0</td>\n",
       "    </tr>\n",
       "    <tr>\n",
       "      <th>5</th>\n",
       "      <td>5403919</td>\n",
       "      <td>막 걸음마 뗀 3세부터 초등학교 1학년생인 8살용영화..별반개도 아까움.</td>\n",
       "      <td>0</td>\n",
       "    </tr>\n",
       "    <tr>\n",
       "      <th>...</th>\n",
       "      <td>...</td>\n",
       "      <td>...</td>\n",
       "      <td>...</td>\n",
       "    </tr>\n",
       "    <tr>\n",
       "      <th>49995</th>\n",
       "      <td>4608761</td>\n",
       "      <td>오랜만에 평점 로긴했네 킹왕짱 쌈뽕한 영화를 만났습니다 강렬하게 육쾌함</td>\n",
       "      <td>1</td>\n",
       "    </tr>\n",
       "    <tr>\n",
       "      <th>49996</th>\n",
       "      <td>5308387</td>\n",
       "      <td>의지 박약들이나 하는거다 탈영은 일단 주인공 김대희 닮았고 이등병 찐따</td>\n",
       "      <td>0</td>\n",
       "    </tr>\n",
       "    <tr>\n",
       "      <th>49997</th>\n",
       "      <td>9072549</td>\n",
       "      <td>그림도 좋고 완성도도 높았지만.. 보는 내내 불안하게 만든다</td>\n",
       "      <td>0</td>\n",
       "    </tr>\n",
       "    <tr>\n",
       "      <th>49998</th>\n",
       "      <td>5802125</td>\n",
       "      <td>절대 봐서는 안 될 영화.. 재미도 없고 기분만 잡치고.. 한 세트장에서 다 해먹네</td>\n",
       "      <td>0</td>\n",
       "    </tr>\n",
       "    <tr>\n",
       "      <th>49999</th>\n",
       "      <td>6070594</td>\n",
       "      <td>마무리는 또 왜이래</td>\n",
       "      <td>0</td>\n",
       "    </tr>\n",
       "  </tbody>\n",
       "</table>\n",
       "<p>165452 rows × 3 columns</p>\n",
       "</div>"
      ],
      "text/plain": [
       "             id                                        document  label\n",
       "0       9976970                             아 더빙.. 진짜 짜증나네요 목소리      0\n",
       "1       3819312                  흠..포스터보고 초딩영화줄..오버연기조차 가볍지 않구나      1\n",
       "2      10265843                               너무재밓었다그래서보는것을추천한다      0\n",
       "3       9045019                   교도소 이야기구먼 ..솔직히 재미는 없다..평점 조정      0\n",
       "5       5403919        막 걸음마 뗀 3세부터 초등학교 1학년생인 8살용영화..별반개도 아까움.      0\n",
       "...         ...                                             ...    ...\n",
       "49995   4608761         오랜만에 평점 로긴했네 킹왕짱 쌈뽕한 영화를 만났습니다 강렬하게 육쾌함      1\n",
       "49996   5308387         의지 박약들이나 하는거다 탈영은 일단 주인공 김대희 닮았고 이등병 찐따      0\n",
       "49997   9072549               그림도 좋고 완성도도 높았지만.. 보는 내내 불안하게 만든다      0\n",
       "49998   5802125  절대 봐서는 안 될 영화.. 재미도 없고 기분만 잡치고.. 한 세트장에서 다 해먹네      0\n",
       "49999   6070594                                      마무리는 또 왜이래      0\n",
       "\n",
       "[165452 rows x 3 columns]"
      ]
     },
     "execution_count": 25,
     "metadata": {},
     "output_type": "execute_result"
    }
   ],
   "source": [
    "train_data = train_data.loc[train_data['document'].apply(lambda x: min_len <= len(x) <= max_len)]\n",
    "test_data = test_data.loc[test_data['document'].apply(lambda x: min_len <= len(x) <= max_len)]\n",
    "\n",
    "data = pd.concat([train_data, test_data], axis=0)\n",
    "\n",
    "data"
   ]
  },
  {
   "cell_type": "markdown",
   "id": "75cbd389",
   "metadata": {},
   "source": [
    "필터링 후 데이터입니다.\n",
    "\n",
    "train과 test를 합쳐 총 *165452*개가 남았습니다."
   ]
  },
  {
   "cell_type": "code",
   "execution_count": 26,
   "id": "7f68798e",
   "metadata": {
    "scrolled": false
   },
   "outputs": [
    {
     "name": "stdout",
     "output_type": "stream",
     "text": [
      "문장의 최단 길이: 1\n",
      "문장의 최장 길이: 55\n",
      "문장의 평균 길이: 24\n"
     ]
    },
    {
     "name": "stderr",
     "output_type": "stream",
     "text": [
      "/tmp/ipykernel_3586/3813981591.py:9: DeprecationWarning: `np.int` is a deprecated alias for the builtin `int`. To silence this warning, use `int` by itself. Doing this will not modify any behavior and is safe. When replacing `np.int`, you may wish to use e.g. `np.int64` or `np.int32` to specify the precision. If you wish to review your current use, check the release note link for additional information.\n",
      "Deprecated in NumPy 1.20; for more details and guidance: https://numpy.org/devdocs/release/1.20.0-notes.html#deprecations\n",
      "  sentence_length = np.zeros((max_len), dtype=np.int)\n"
     ]
    },
    {
     "data": {
      "image/png": "[encoded data removed]",
      "text/plain": [
       "<Figure size 432x288 with 1 Axes>"
      ]
     },
     "metadata": {
      "needs_background": "light"
     },
     "output_type": "display_data"
    }
   ],
   "source": [
    "sentence_length = show_sentence_length(data['document'])"
   ]
  },
  {
   "cell_type": "markdown",
   "id": "9db2ddf0",
   "metadata": {},
   "source": [
    "분포도 확인해봅시다."
   ]
  },
  {
   "cell_type": "code",
   "execution_count": 27,
   "id": "05438461",
   "metadata": {},
   "outputs": [
    {
     "data": {
      "image/png": "[encoded data removed]",
      "text/plain": [
       "<Figure size 432x288 with 1 Axes>"
      ]
     },
     "metadata": {},
     "output_type": "display_data"
    }
   ],
   "source": [
    "plt.pie(data['label'].value_counts(), autopct='%.2f%%')\n",
    "plt.title('Data Labels Rate')\n",
    "plt.show()"
   ]
  },
  {
   "cell_type": "markdown",
   "id": "2d20da49",
   "metadata": {},
   "source": [
    "지금까지의 전처리를 거치면서 혹시 특정 레이블 위주로 제거되진 않았는지 레이블의 비율을 확인해봤습니다.\n",
    "\n",
    "다행히 정상입니다."
   ]
  },
  {
   "cell_type": "markdown",
   "id": "f1dc1bbf",
   "metadata": {},
   "source": [
    "- - -\n",
    "### 여러 모델 비교하기\n",
    "- **SentencePiece(unigram)**"
   ]
  },
  {
   "cell_type": "code",
   "execution_count": 28,
   "id": "e5469914",
   "metadata": {},
   "outputs": [
    {
     "data": {
      "text/plain": [
       "array([[ 141,  106, 2611, ...,    0,    0,    0],\n",
       "       [   4, 7663,    3, ...,    0,    0,    0],\n",
       "       [1328,  437,    0, ...,    0,    0,    0],\n",
       "       ...,\n",
       "       [4410,   30,    4, ...,    0,    0,    0],\n",
       "       [4228,    4, 6173, ...,    0,    0,    0],\n",
       "       [2933,   10,  157, ...,    0,    0,    0]], dtype=int32)"
      ]
     },
     "execution_count": 28,
     "metadata": {},
     "output_type": "execute_result"
    }
   ],
   "source": [
    "sp_data, word_index, index_word = sp_tokenize(s, data['document'])\n",
    "\n",
    "sp_data"
   ]
  },
  {
   "cell_type": "markdown",
   "id": "ee1b0a48",
   "metadata": {},
   "source": [
    "첫 번째로 SentencePiece을 unigram으로 학습한 모델입니다.\n",
    "\n",
    "train과 test가 서로 같은 단어 사전을 공유해야 하기 때문에\n",
    "\n",
    "train과 test를 하나로 묶은 데이터로 텐서를 생성해줬습니다."
   ]
  },
  {
   "cell_type": "code",
   "execution_count": 29,
   "id": "33439c90",
   "metadata": {},
   "outputs": [
    {
     "data": {
      "text/plain": [
       "4"
      ]
     },
     "execution_count": 29,
     "metadata": {},
     "output_type": "execute_result"
    }
   ],
   "source": [
    "min([sum(tensor) for tensor in sp_data])"
   ]
  },
  {
   "cell_type": "markdown",
   "id": "cfdd7ade",
   "metadata": {},
   "source": [
    "혹시 `vocab_size`에 의해 모든 문장이 0(`PAD 또는 UNK`)으로 처리된 데이터는 없는지 확인해봤습니다."
   ]
  },
  {
   "cell_type": "code",
   "execution_count": 30,
   "id": "b075ad89",
   "metadata": {},
   "outputs": [],
   "source": [
    "sp_train = sp_data[:len(train_data)]\n",
    "sp_test = sp_data[-len(test_data):]"
   ]
  },
  {
   "cell_type": "markdown",
   "id": "d99f3fe3",
   "metadata": {},
   "source": [
    "원래 train과 test 데이터를 분리해줍니다."
   ]
  },
  {
   "cell_type": "code",
   "execution_count": 31,
   "id": "682eee20",
   "metadata": {},
   "outputs": [],
   "source": [
    "labels_train = np.asarray(train_data['label']).astype('float32')\n",
    "labels_test = np.asarray(test_data['label']).astype('float32')"
   ]
  },
  {
   "cell_type": "markdown",
   "id": "7f190d52",
   "metadata": {},
   "source": [
    "레이블도 준비해줍니다.\n",
    "\n",
    "    타입이 실수여야 모델에 들어갔을 때 오류가 발생하지 않습니다."
   ]
  },
  {
   "cell_type": "code",
   "execution_count": 32,
   "id": "3ed90914",
   "metadata": {},
   "outputs": [
    {
     "name": "stdout",
     "output_type": "stream",
     "text": [
      "(123860, 53)\n",
      "(123860,)\n",
      "(41592, 53)\n",
      "(41592,)\n"
     ]
    }
   ],
   "source": [
    "print(sp_train.shape)\n",
    "print(labels_train.shape)\n",
    "print(sp_test.shape)\n",
    "print(labels_test.shape)"
   ]
  },
  {
   "cell_type": "markdown",
   "id": "31eb0002",
   "metadata": {},
   "source": [
    "꼬인 데이터 없이 모두 잘 처리된 것 같습니다."
   ]
  },
  {
   "cell_type": "code",
   "execution_count": 33,
   "id": "2cca3188",
   "metadata": {},
   "outputs": [
    {
     "name": "stdout",
     "output_type": "stream",
     "text": [
      "['▁아', '▁더', '빙', '.', '.', '▁진', '짜', '▁', '짜', '증', '나', '네', '요', '▁목소리'] 0.0\n",
      "['▁', '흠', '.', '.', '포', '스터', '보', '고', '▁초', '딩', '영화', '줄', '.', '.', '오', '버', '연', '기', '조차', '▁', '가', '볍', '지', '▁않', '구', '나'] 1.0\n",
      "['▁너무', '재', '었다', '그', '래', '서', '보', '는', '것', '을', '추', '천', '한다'] 0.0\n",
      "['▁교도소', '▁이야기', '구', '먼', '▁', '.', '.', '솔', '직', '히', '▁재', '미', '는', '▁없다', '.', '.', '평', '점', '▁조정'] 0.0\n",
      "['▁막', '▁걸', '음', '마', '▁', '▁3', '세', '부터', '▁초', '등', '학교', '▁1', '학', '년', '생', '인', '▁8', '살', '용', '영화', '.', '.', '별', '반', '개', '도', '▁아', '까', '움', '.'] 0.0\n",
      "['▁원', '작', '의', '▁긴장', '감', '을', '▁', '제대로', '▁살', '려', '내', '지', '못', '했다', '.'] 0.0\n",
      "['▁', '액', '션', '이', '▁없는', '데', '도', '▁재', '미', '▁있는', '▁몇', '안', '되는', '▁영화'] 1.0\n",
      "['▁왜', '케', '▁평', '점', '이', '▁낮은', '건', '데', '?', '▁', '꽤', '▁볼', '만한', '데', '.', '.', '▁', '헐', '리', '우드', '식', '▁화려', '함', '에', '만', '▁너무', '▁길', '들', '여', '져', '▁있', '나', '?'] 1.0\n",
      "['▁', '인', '피', '니', '트', '가', '이다', '.', '진', '짜', '이다'] 1.0\n",
      "['▁볼', '때', '마다', '▁눈물', '나', '서', '▁죽', '겠다', '90', '년대', '의', '▁향', '수', '자', '극', '!', '허', '진', '호', '는', '▁감', '성', '절', '제', '멜', '로', '의', '▁달', '인', '이다', '~'] 1.0\n",
      "['▁울', '면서', '▁손', '들', '고', '▁', '횡', '단', '보', '도', '▁건', '널', '때', '▁뛰', '쳐', '나', '올', '뻔', '▁이', '범', '수', '▁연기', '▁드', '럽', '게', '못', '해'] 0.0\n",
      "['▁담', '백', '하고', '▁', '깔', '끔', '해서', '▁', '좋', '다', '.', '▁신문', '기', '사', '로', '만', '▁보다', '▁보면', '▁자', '꾸', '▁', '잊', '어', '버린', '다', '.', '▁그들', '도', '▁사람이', '었다', '는', '▁것을', '.'] 1.0\n",
      "['▁', '냥', '▁매', '번', '▁긴장', '되고', '▁재', '음'] 1.0\n",
      "['▁', '굿', '바이', '▁레', '닌', '▁표', '절', '인', '것', '은', '▁이해', '하는데', '▁왜', '▁뒤', '로', '▁갈', '수록', '▁재', '미', '없', '어', '지', '냐'] 0.0\n",
      "['▁이', '건', '▁정말', '▁깨', '알', '▁캐', '스', '팅', '과', '▁질', '퍽', '하지', '않', '은', '▁산', '뜻', '한', '▁내용', '구', '성이', '▁잘', '▁버', '무', '러', '진', '▁깨', '알', '일', '드', '!'] 1.0\n"
     ]
    }
   ],
   "source": [
    "for i, sen in enumerate(sp_train[:15]):\n",
    "    print([index_word[idx] for idx in sen if index_word[idx] != '<unk>'], labels_train[i])"
   ]
  },
  {
   "cell_type": "markdown",
   "id": "7653fac0",
   "metadata": {},
   "source": [
    "모델에 넣기 전 SentencePiece가 데이터를 어떻게 분리를 했는지 한 번 확인해봤습니다.\n",
    "\n",
    "음.. 거의 음절 단위로 분리된 느낌이 강한데.. SentencePiece의 학습이 충분하지 않아서 생긴 문제겠죠?\n",
    "\n",
    "그래도 일단 모델에 넣고 돌려봅시다."
   ]
  },
  {
   "cell_type": "code",
   "execution_count": 34,
   "id": "dbe31e91",
   "metadata": {},
   "outputs": [
    {
     "name": "stdout",
     "output_type": "stream",
     "text": [
      "(103860, 53)\n",
      "(20000, 53)\n"
     ]
    }
   ],
   "source": [
    "val_num = 20000\n",
    "\n",
    "X_train = sp_train[:-val_num]\n",
    "y_train = labels_train[:-val_num]\n",
    "\n",
    "X_val = sp_train[-val_num:]\n",
    "y_val = labels_train[-val_num:]\n",
    "\n",
    "print(X_train.shape)\n",
    "print(X_val.shape)"
   ]
  },
  {
   "cell_type": "markdown",
   "id": "fc6f9f0c",
   "metadata": {},
   "source": [
    "밸리데이션 데이터는 뒤에서 2만 개의 데이터로 해주겠습니다."
   ]
  },
  {
   "cell_type": "code",
   "execution_count": 35,
   "id": "1063a93d",
   "metadata": {},
   "outputs": [],
   "source": [
    "def print_result(results):\n",
    "    loss = results[0]\n",
    "    acc = results[1]\n",
    "    print(f'test_loss : {loss} test_acc : {acc}')\n",
    "\n",
    "\n",
    "def history_graph(history):\n",
    "    plt.figure(figsize=(12,4))\n",
    "    \n",
    "    loss = history.history['loss']\n",
    "    val_loss = history.history['val_loss']\n",
    "    acc = history.history['accuracy']\n",
    "    val_acc = history.history['val_accuracy']\n",
    "\n",
    "    plt.subplot(1, 2, 1)\n",
    "    plt.plot(loss, 'ko', label='Training loss')\n",
    "    plt.plot(val_loss, 'c', label='Validation loss')\n",
    "    plt.title('Training & Validation Loss')\n",
    "    plt.xlabel('Epochs')\n",
    "    plt.ylabel('Loss')\n",
    "    plt.legend()\n",
    "    \n",
    "    plt.subplot(1, 2, 2)\n",
    "    plt.plot(acc, 'ko', label='Training acc')\n",
    "    plt.plot(val_acc, 'c', label='Validation acc')\n",
    "    plt.title('Training & Validation accuracy')\n",
    "    plt.xlabel('Epochs')\n",
    "    plt.ylabel('Accuracy')\n",
    "    plt.legend()\n",
    "\n",
    "    plt.show()"
   ]
  },
  {
   "cell_type": "markdown",
   "id": "5b00c1d4",
   "metadata": {},
   "source": [
    "이건 제가 EXP-08 프로젝트를 할 때 만들었던 함수입니다. ~~재탕해줍시다.~~"
   ]
  },
  {
   "cell_type": "code",
   "execution_count": 36,
   "id": "678a1dee",
   "metadata": {},
   "outputs": [
    {
     "name": "stdout",
     "output_type": "stream",
     "text": [
      "Model: \"sequential\"\n",
      "_________________________________________________________________\n",
      "Layer (type)                 Output Shape              Param #   \n",
      "=================================================================\n",
      "embedding (Embedding)        (None, None, 53)          424000    \n",
      "_________________________________________________________________\n",
      "lstm (LSTM)                  (None, 16)                4480      \n",
      "_________________________________________________________________\n",
      "dense (Dense)                (None, 16)                272       \n",
      "_________________________________________________________________\n",
      "dropout (Dropout)            (None, 16)                0         \n",
      "_________________________________________________________________\n",
      "dense_1 (Dense)              (None, 1)                 17        \n",
      "=================================================================\n",
      "Total params: 428,769\n",
      "Trainable params: 428,769\n",
      "Non-trainable params: 0\n",
      "_________________________________________________________________\n"
     ]
    }
   ],
   "source": [
    "word_vector_dim = 53\n",
    "\n",
    "tf.random.set_seed(1337) # 시드 1337 고정\n",
    "\n",
    "model = tf.keras.Sequential() # RNN\n",
    "model.add(tf.keras.layers.Embedding(vocab_size, word_vector_dim, input_shape=(None,)))\n",
    "model.add(tf.keras.layers.LSTM(16))\n",
    "model.add(tf.keras.layers.Dense(16, activation='relu'))\n",
    "model.add(tf.keras.layers.Dropout(rate=0.3)) # 드랍아웃 추가\n",
    "model.add(tf.keras.layers.Dense(1, activation='sigmoid'))\n",
    "\n",
    "model.summary()"
   ]
  },
  {
   "cell_type": "markdown",
   "id": "46e92b3a",
   "metadata": {},
   "source": [
    "`vocab_size`는 8000 그대로, 임베딩 아웃풋은 문장의 길이에 맞춰주고 간단하게 모델을 설계했습니다. ~~이것도 재탕~~"
   ]
  },
  {
   "cell_type": "code",
   "execution_count": 37,
   "id": "23daabc5",
   "metadata": {},
   "outputs": [],
   "source": [
    "from keras.callbacks import EarlyStopping\n",
    "\n",
    "es = EarlyStopping(monitor='val_loss', patience=5)"
   ]
  },
  {
   "cell_type": "code",
   "execution_count": 38,
   "id": "328388c6",
   "metadata": {},
   "outputs": [
    {
     "name": "stdout",
     "output_type": "stream",
     "text": [
      "Epoch 1/15\n",
      "203/203 [==============================] - 5s 8ms/step - loss: 0.6932 - accuracy: 0.4980 - val_loss: 0.6932 - val_accuracy: 0.4994\n",
      "Epoch 2/15\n",
      "203/203 [==============================] - 1s 6ms/step - loss: 0.6932 - accuracy: 0.4992 - val_loss: 0.6932 - val_accuracy: 0.4994\n",
      "Epoch 3/15\n",
      "203/203 [==============================] - 1s 6ms/step - loss: 0.6932 - accuracy: 0.4990 - val_loss: 0.6932 - val_accuracy: 0.4994\n",
      "Epoch 4/15\n",
      "203/203 [==============================] - 1s 6ms/step - loss: 0.6794 - accuracy: 0.5370 - val_loss: 0.5657 - val_accuracy: 0.7430\n",
      "Epoch 5/15\n",
      "203/203 [==============================] - 1s 6ms/step - loss: 0.4614 - accuracy: 0.7982 - val_loss: 0.4176 - val_accuracy: 0.8069\n",
      "Epoch 6/15\n",
      "203/203 [==============================] - 1s 6ms/step - loss: 0.3955 - accuracy: 0.8283 - val_loss: 0.3971 - val_accuracy: 0.8196\n",
      "Epoch 7/15\n",
      "203/203 [==============================] - 1s 6ms/step - loss: 0.3717 - accuracy: 0.8387 - val_loss: 0.3877 - val_accuracy: 0.8253\n",
      "Epoch 8/15\n",
      "203/203 [==============================] - 1s 6ms/step - loss: 0.3495 - accuracy: 0.8479 - val_loss: 0.3846 - val_accuracy: 0.8282\n",
      "Epoch 9/15\n",
      "203/203 [==============================] - 1s 6ms/step - loss: 0.3273 - accuracy: 0.8591 - val_loss: 0.3864 - val_accuracy: 0.8311\n",
      "Epoch 10/15\n",
      "203/203 [==============================] - 1s 6ms/step - loss: 0.3106 - accuracy: 0.8676 - val_loss: 0.3938 - val_accuracy: 0.8321\n",
      "Epoch 11/15\n",
      "203/203 [==============================] - 1s 6ms/step - loss: 0.2951 - accuracy: 0.8759 - val_loss: 0.3963 - val_accuracy: 0.8324\n",
      "Epoch 12/15\n",
      "203/203 [==============================] - 1s 6ms/step - loss: 0.2815 - accuracy: 0.8823 - val_loss: 0.3990 - val_accuracy: 0.8341\n",
      "Epoch 13/15\n",
      "203/203 [==============================] - 1s 6ms/step - loss: 0.2704 - accuracy: 0.8888 - val_loss: 0.4402 - val_accuracy: 0.8289\n"
     ]
    },
    {
     "data": {
      "image/png": "[encoded data removed]",
      "text/plain": [
       "<Figure size 864x288 with 2 Axes>"
      ]
     },
     "metadata": {
      "needs_background": "light"
     },
     "output_type": "display_data"
    },
    {
     "name": "stdout",
     "output_type": "stream",
     "text": [
      "1300/1300 - 3s - loss: 0.4428 - accuracy: 0.8320\n",
      "test_loss : 0.4428175985813141 test_acc : 0.8319869041442871\n"
     ]
    }
   ],
   "source": [
    "model.compile(optimizer='adam',\n",
    "              loss='binary_crossentropy',\n",
    "              metrics=['accuracy'])\n",
    "              \n",
    "epochs = 15\n",
    "\n",
    "history = model.fit(X_train,\n",
    "                    y_train,\n",
    "                    epochs=epochs,\n",
    "                    batch_size=512,\n",
    "                    validation_data=(X_val, y_val),\n",
    "                    verbose=1,\n",
    "                    callbacks=[es]\n",
    "                    )\n",
    "\n",
    "history_graph(history)\n",
    "\n",
    "results = model.evaluate(sp_test,  labels_test, verbose=2)\n",
    "print_result(results)"
   ]
  },
  {
   "cell_type": "markdown",
   "id": "de225364",
   "metadata": {},
   "source": [
    "배치 사이즈는 512, 얼리스탑핑을 적용하고 모델 학습 결과 약 83%의 정확도를 보여줍니다.\n",
    "\n",
    "분리됐던 문장의 퀄리티와는 다르게 나름 준수한 결과입니다."
   ]
  },
  {
   "cell_type": "markdown",
   "id": "9db18df5",
   "metadata": {},
   "source": [
    "- - -\n",
    "### 여러 모델 비교하기\n",
    "- **KoNLPy**"
   ]
  },
  {
   "cell_type": "markdown",
   "id": "dc69bcfd",
   "metadata": {},
   "source": [
    "그렇다면 KoNLPy 모듈을 불러와서 본격적으로 SentencePiece와 비교를 해보도록 하죠."
   ]
  },
  {
   "cell_type": "code",
   "execution_count": 39,
   "id": "a57f81ce",
   "metadata": {},
   "outputs": [
    {
     "data": {
      "text/html": [
       "<div>\n",
       "<style scoped>\n",
       "    .dataframe tbody tr th:only-of-type {\n",
       "        vertical-align: middle;\n",
       "    }\n",
       "\n",
       "    .dataframe tbody tr th {\n",
       "        vertical-align: top;\n",
       "    }\n",
       "\n",
       "    .dataframe thead th {\n",
       "        text-align: right;\n",
       "    }\n",
       "</style>\n",
       "<table border=\"1\" class=\"dataframe\">\n",
       "  <thead>\n",
       "    <tr style=\"text-align: right;\">\n",
       "      <th></th>\n",
       "      <th>id</th>\n",
       "      <th>document</th>\n",
       "      <th>label</th>\n",
       "    </tr>\n",
       "  </thead>\n",
       "  <tbody>\n",
       "    <tr>\n",
       "      <th>0</th>\n",
       "      <td>9976970</td>\n",
       "      <td>아 더빙.. 진짜 짜증나네요 목소리</td>\n",
       "      <td>0</td>\n",
       "    </tr>\n",
       "    <tr>\n",
       "      <th>1</th>\n",
       "      <td>3819312</td>\n",
       "      <td>흠..포스터보고 초딩영화줄..오버연기조차 가볍지 않구나</td>\n",
       "      <td>1</td>\n",
       "    </tr>\n",
       "    <tr>\n",
       "      <th>2</th>\n",
       "      <td>10265843</td>\n",
       "      <td>너무재밓었다그래서보는것을추천한다</td>\n",
       "      <td>0</td>\n",
       "    </tr>\n",
       "    <tr>\n",
       "      <th>3</th>\n",
       "      <td>9045019</td>\n",
       "      <td>교도소 이야기구먼 ..솔직히 재미는 없다..평점 조정</td>\n",
       "      <td>0</td>\n",
       "    </tr>\n",
       "    <tr>\n",
       "      <th>5</th>\n",
       "      <td>5403919</td>\n",
       "      <td>막 걸음마 뗀 3세부터 초등학교 1학년생인 8살용영화..별반개도 아까움.</td>\n",
       "      <td>0</td>\n",
       "    </tr>\n",
       "    <tr>\n",
       "      <th>...</th>\n",
       "      <td>...</td>\n",
       "      <td>...</td>\n",
       "      <td>...</td>\n",
       "    </tr>\n",
       "    <tr>\n",
       "      <th>49995</th>\n",
       "      <td>4608761</td>\n",
       "      <td>오랜만에 평점 로긴했네 킹왕짱 쌈뽕한 영화를 만났습니다 강렬하게 육쾌함</td>\n",
       "      <td>1</td>\n",
       "    </tr>\n",
       "    <tr>\n",
       "      <th>49996</th>\n",
       "      <td>5308387</td>\n",
       "      <td>의지 박약들이나 하는거다 탈영은 일단 주인공 김대희 닮았고 이등병 찐따</td>\n",
       "      <td>0</td>\n",
       "    </tr>\n",
       "    <tr>\n",
       "      <th>49997</th>\n",
       "      <td>9072549</td>\n",
       "      <td>그림도 좋고 완성도도 높았지만.. 보는 내내 불안하게 만든다</td>\n",
       "      <td>0</td>\n",
       "    </tr>\n",
       "    <tr>\n",
       "      <th>49998</th>\n",
       "      <td>5802125</td>\n",
       "      <td>절대 봐서는 안 될 영화.. 재미도 없고 기분만 잡치고.. 한 세트장에서 다 해먹네</td>\n",
       "      <td>0</td>\n",
       "    </tr>\n",
       "    <tr>\n",
       "      <th>49999</th>\n",
       "      <td>6070594</td>\n",
       "      <td>마무리는 또 왜이래</td>\n",
       "      <td>0</td>\n",
       "    </tr>\n",
       "  </tbody>\n",
       "</table>\n",
       "<p>165452 rows × 3 columns</p>\n",
       "</div>"
      ],
      "text/plain": [
       "             id                                        document  label\n",
       "0       9976970                             아 더빙.. 진짜 짜증나네요 목소리      0\n",
       "1       3819312                  흠..포스터보고 초딩영화줄..오버연기조차 가볍지 않구나      1\n",
       "2      10265843                               너무재밓었다그래서보는것을추천한다      0\n",
       "3       9045019                   교도소 이야기구먼 ..솔직히 재미는 없다..평점 조정      0\n",
       "5       5403919        막 걸음마 뗀 3세부터 초등학교 1학년생인 8살용영화..별반개도 아까움.      0\n",
       "...         ...                                             ...    ...\n",
       "49995   4608761         오랜만에 평점 로긴했네 킹왕짱 쌈뽕한 영화를 만났습니다 강렬하게 육쾌함      1\n",
       "49996   5308387         의지 박약들이나 하는거다 탈영은 일단 주인공 김대희 닮았고 이등병 찐따      0\n",
       "49997   9072549               그림도 좋고 완성도도 높았지만.. 보는 내내 불안하게 만든다      0\n",
       "49998   5802125  절대 봐서는 안 될 영화.. 재미도 없고 기분만 잡치고.. 한 세트장에서 다 해먹네      0\n",
       "49999   6070594                                      마무리는 또 왜이래      0\n",
       "\n",
       "[165452 rows x 3 columns]"
      ]
     },
     "execution_count": 39,
     "metadata": {},
     "output_type": "execute_result"
    }
   ],
   "source": [
    "data"
   ]
  },
  {
   "cell_type": "markdown",
   "id": "0496aa1d",
   "metadata": {},
   "source": [
    "데이터를 불러오면 문장의 길이를 필터링한 직후의 데이터가 그대로 남아있습니다.\n",
    "\n",
    "KoNLPy에선 다양한 형태소 분석기 모델을 제공하는데요.\n",
    "\n",
    "아직 완벽하다고 하는 모델도 없고, 데이터셋에 따라 좋은 분석기 모델이 달라지는 모양이니\n",
    "\n",
    "Meacb, Kkma, Okt 세 가지를 불러와서 비교해보고 사용하겠습니다."
   ]
  },
  {
   "cell_type": "code",
   "execution_count": 40,
   "id": "6e96af84",
   "metadata": {},
   "outputs": [
    {
     "data": {
      "text/plain": [
       "5558                          트레져헌터영화라이만 이건 아니잖아!\n",
       "44764              기괴함이 알러지 반응을 유발한다면 그 원인을 분석할 것\n",
       "25382                        너무 좋다.. 배경음악 진짜 좋다..\n",
       "12687                        드라마조차 별로인 그야말로 엉터리영화\n",
       "123860                    정말 영화같지않은영화 차라리 독립영화가나음\n",
       "107361                                     재밌다.정말\n",
       "46500                                    김동욱 화이팅!\n",
       "63295             이명작이b급7급공무원이랑 같은 점수라니9점짜리 영화입니다\n",
       "108305      한적한 곳의 풍광과 그곳의 긴장감, ..떡삽겹살파티..먹음직스럽다.\n",
       "119718                         봐야하는 영화. 다른말이 필요없다\n",
       "36191     시다미라이에대한 애정으로 일단10점. 하지만 영화자체엔 실망 죄송합니다\n",
       "36533                토이스토리를 보면서 자란 세대들이라면 잊을수가 없다\n",
       "39087                      볼만함 평점 넘 낮아서 기대안하고 봤능데\n",
       "124768                       엠마 로버츠 나오니까 9점 드릴께여.\n",
       "120221          어설픈 원스 분위기..하지만 음악 영화라고 할 수는 없다..\n",
       "Name: document, dtype: object"
      ]
     },
     "execution_count": 40,
     "metadata": {},
     "output_type": "execute_result"
    }
   ],
   "source": [
    "sample_sentence = data['document'].sample(15)\n",
    "\n",
    "sample_sentence"
   ]
  },
  {
   "cell_type": "markdown",
   "id": "55901b62",
   "metadata": {},
   "source": [
    "비교 실험의 샘플 문장을 15개 뽑아줍니다."
   ]
  },
  {
   "cell_type": "code",
   "execution_count": 41,
   "id": "a6ef61d3",
   "metadata": {},
   "outputs": [],
   "source": [
    "from konlpy.tag import Mecab, Kkma, Okt\n",
    "\n",
    "sample_Mecab = sample_sentence.apply(Mecab().morphs)\n",
    "sample_Kkma = sample_sentence.apply(Kkma().morphs)\n",
    "sample_Okt = sample_sentence.apply(Okt().morphs)"
   ]
  },
  {
   "cell_type": "code",
   "execution_count": 42,
   "id": "48bae984",
   "metadata": {},
   "outputs": [
    {
     "name": "stdout",
     "output_type": "stream",
     "text": [
      "5558                    [트레져, 헌터, 영화, 라이, 만, 이건, 아니, 잖아, !]\n",
      "44764     [기괴, 함, 이, 알, 러지, 반응, 을, 유발, 한다면, 그, 원인, 을, 분석...\n",
      "25382              [너무, 좋, 다, ., ., 배경, 음악, 진짜, 좋, 다, ., .]\n",
      "12687                       [드라마, 조차, 별로, 인, 그야말로, 엉터리, 영화]\n",
      "123860         [정말, 영화, 같, 지, 않, 은, 영화, 차라리, 독립영화, 가, 나, 음]\n",
      "107361                                       [재밌, 다, ., 정말]\n",
      "46500                                         [김동욱, 화이팅, !]\n",
      "63295     [이, 명작, 이, b, 급, 7, 급, 공무원, 이랑, 같, 은, 점수, 라니, ...\n",
      "108305    [한적, 한, 곳, 의, 풍광, 과, 그곳, 의, 긴장감, ,, .., 떡, 삽, ...\n",
      "119718                [봐야, 하, 는, 영화, ., 다른, 말, 이, 필요, 없, 다]\n",
      "36191     [시다미라이, 에, 대한, 애정, 으로, 일단, 10, 점, ., 하지만, 영화, ...\n",
      "36533     [토이, 스토리, 를, 보, 면서, 자란, 세대, 들, 이, 라면, 잊, 을, 수,...\n",
      "39087         [볼, 만, 함, 평점, 넘, 낮, 아서, 기대, 안, 하, 고, 봤, 능, 데]\n",
      "124768                 [엠마, 로버츠, 나오, 니까, 9, 점, 드릴, 께, 여, .]\n",
      "120221    [어설픈, 원스, 분위기, ., ., 하지만, 음악, 영화, 라고, 할, 수, 는,...\n",
      "Name: document, dtype: object\n"
     ]
    }
   ],
   "source": [
    "print(sample_Mecab)"
   ]
  },
  {
   "cell_type": "code",
   "execution_count": 43,
   "id": "cacdeb54",
   "metadata": {},
   "outputs": [
    {
     "name": "stdout",
     "output_type": "stream",
     "text": [
      "5558          [트레, 지, 어, 허, ㄴ, 터, 영화, 라이만, 이, 건, 아니, 잖아, !]\n",
      "44764     [기괴, 하, ㅁ, 이, 알, ㄹ, 러지, 반응, 을, 유발, 하, ㄴ다면, 그, ...\n",
      "25382                  [너무, 좋, 다, .., 배경, 음악, 진짜, 좋, 다, ..]\n",
      "12687                       [드라마, 조차, 별로, 인, 그야말로, 엉터리, 영화]\n",
      "123860    [정말, 영화, 같, 지, 않, 은, 영화, 차라리, 독립, 영화, 가, 나, 아, 음]\n",
      "107361                                       [재밌, 다, ., 정말]\n",
      "46500                                       [김동욱, 화이, 팅, !]\n",
      "63295     [이명, 작, 이, b, 급, 7, 급, 공무원, 이랑, 같, 은, 점수, 라니, ...\n",
      "108305    [한적, 하, ㄴ, 곳, 의, 풍광, 과, 그곳, 의, 긴장감, ,, .., 떡, ...\n",
      "119718            [보, 아야, 하, 는, 영화, ., 다르, ㄴ, 말, 이, 필요없, 다]\n",
      "36191     [시다, 미, 라이, 에, 대하, ㄴ, 애정, 으로, 일단, 10, 점, ., 하지...\n",
      "36533     [토이, 스토리, 를, 보, 면서, 자라, ㄴ, 세대, 들, 이, 라면, 잊, 을,...\n",
      "39087          [볼만, 하, ㅁ, 평점, 넘, 낮, 아서, 기대, 안, 하, 고, 봤능, 델]\n",
      "124768               [엠, 마, 로버츠, 나오, 니까, 9, 점, 드릴, 께, 여, .]\n",
      "120221    [어설프, ㄴ, 원스, 분위기, .., 하지만, 음악, 영화, 라고, 하, ㄹ, 수...\n",
      "Name: document, dtype: object\n"
     ]
    }
   ],
   "source": [
    "print(sample_Kkma)"
   ]
  },
  {
   "cell_type": "code",
   "execution_count": 44,
   "id": "12ba04d3",
   "metadata": {},
   "outputs": [
    {
     "name": "stdout",
     "output_type": "stream",
     "text": [
      "5558                    [트레, 져, 헌터, 영화, 라이, 만, 이건, 아니잖아, !]\n",
      "44764       [기괴함이, 알러지, 반응, 을, 유발, 한다면, 그, 원인, 을, 분석, 할, 것]\n",
      "25382                        [너무, 좋다, .., 배경음악, 진짜, 좋다, ..]\n",
      "12687                       [드라마, 조차, 별로, 인, 그야말로, 엉터리, 영화]\n",
      "123860               [정말, 영화, 같지, 않은, 영화, 차라리, 독립영화, 가나, 음]\n",
      "107361                                         [재밌다, ., 정말]\n",
      "46500                                         [김동욱, 화이팅, !]\n",
      "63295     [이, 명작, 이, b, 급, 7, 급공무원, 이랑, 같은, 점수, 라니, 9, 점...\n",
      "108305    [한적한, 곳, 의, 풍, 광, 과, 그, 곳, 의, 긴장감, ,, .., 떡삽겹살...\n",
      "119718                      [봐, 야하는, 영화, ., 다른, 말, 이, 필요없다]\n",
      "36191     [시, 다미, 라이, 에, 대한, 애정, 으로, 일단, 10, 점, ., 하지만, ...\n",
      "36533               [토이스토리, 를, 보면서, 자란, 세대, 들이라면, 잊을수가, 없다]\n",
      "39087               [볼, 만, 함, 평점, 넘, 낮아서, 기, 대안, 하고, 봤, 능데]\n",
      "124768                       [엠마, 로버츠, 나오니까, 9, 점, 드릴께여, .]\n",
      "120221    [어설픈, 원스, 분위기, .., 하지만, 음악, 영화, 라고, 할, 수, 는, 없...\n",
      "Name: document, dtype: object\n"
     ]
    }
   ],
   "source": [
    "print(sample_Okt)"
   ]
  },
  {
   "cell_type": "markdown",
   "id": "d5b4fc1c",
   "metadata": {},
   "source": [
    "종합적인 평가를 내려보면 먼저 Kkma는 받침이 자꾸 분리가 되네요. 때문에 좋은 결과를 기대하지 못할 것 같습니다.\n",
    "\n",
    "그럼 Mecab과 Okt 둘 중 어느 것이 더 좋은가인데요.\n",
    "\n",
    "분리된 형태로만 봤을 때는 개인적으로 Okt가 더 결과가 좋지 않나 라는 생각이 들지만(특히 `.`과 `..`을 다르게 보는 것에서 차이가 발생)\n",
    "\n",
    "Mecab과의 큰 차이는 별로 없는 것 같아서 둘 다 모델에 넣어봐야 알 것 같습니다."
   ]
  },
  {
   "cell_type": "markdown",
   "id": "30b51767",
   "metadata": {},
   "source": [
    "### *Okt*"
   ]
  },
  {
   "cell_type": "code",
   "execution_count": 45,
   "id": "f1426855",
   "metadata": {},
   "outputs": [
    {
     "data": {
      "text/plain": [
       "array([[  46,  451,    1, ...,    0,    0,    0],\n",
       "       [ 706,    1,  375, ...,    0,    0,    0],\n",
       "       [ 342, 2357, 5460, ...,    0,    0,    0],\n",
       "       ...,\n",
       "       [ 861,    9,  293, ...,    0,    0,    0],\n",
       "       [ 367,  250, 2398, ...,    0,    0,    0],\n",
       "       [ 891,   11,  136, ...,    0,    0,    0]], dtype=int32)"
      ]
     },
     "execution_count": 45,
     "metadata": {},
     "output_type": "execute_result"
    }
   ],
   "source": [
    "def tokenize(corpus):  # corpus: Tokenized Sentence's List\n",
    "    tokenizer = tf.keras.preprocessing.text.Tokenizer(num_words=vocab_size, filters='')\n",
    "    tokenizer.fit_on_texts(corpus)\n",
    "\n",
    "    tensor = tokenizer.texts_to_sequences(corpus)\n",
    "\n",
    "    tensor = tf.keras.preprocessing.sequence.pad_sequences(tensor, padding='post')\n",
    "\n",
    "    return tensor, tokenizer\n",
    "\n",
    "Okt_data, tokenizer = tokenize(data['document'].apply(Okt().morphs))\n",
    "\n",
    "Okt_data"
   ]
  },
  {
   "cell_type": "markdown",
   "id": "4d80addf",
   "metadata": {},
   "source": [
    "Okt로 토큰화한 데이터를 `Okt_data`라고 정해주겠습니다.\n",
    "\n",
    "    keras의 Tokenizer를 사용하면 강제로 공백 기반 토큰화가 되는 것이 아닌가? 싶었는데\n",
    "    형태소 토큰화를 마친 후에 넣으면 이미 공백이 제거되고 없기 때문에 문제가 없겠더라구요."
   ]
  },
  {
   "cell_type": "code",
   "execution_count": 46,
   "id": "17b1c9e3",
   "metadata": {},
   "outputs": [
    {
     "data": {
      "text/plain": [
       "0"
      ]
     },
     "execution_count": 46,
     "metadata": {},
     "output_type": "execute_result"
    }
   ],
   "source": [
    "min([sum(tensor) for tensor in Okt_data])"
   ]
  },
  {
   "cell_type": "markdown",
   "id": "eb2f7ff5",
   "metadata": {},
   "source": [
    "이번에는 vocab_size에 의해 모든 문장이 0(PAD 또는 UNK)으로 처리된 데이터가 발생했습니다.~~ㅇㄴ~~\n",
    "\n",
    "결측치와 마찬가지므로 제거해줘야 합니다."
   ]
  },
  {
   "cell_type": "code",
   "execution_count": 47,
   "id": "5eff8f35",
   "metadata": {},
   "outputs": [
    {
     "data": {
      "text/plain": [
       "165452"
      ]
     },
     "execution_count": 47,
     "metadata": {},
     "output_type": "execute_result"
    }
   ],
   "source": [
    "len(Okt_data)"
   ]
  },
  {
   "cell_type": "markdown",
   "id": "a05d21ce",
   "metadata": {},
   "source": [
    "혹시 데이터가 잘못될 수 있으니 전체 데이터의 수를 확인해줍시다."
   ]
  },
  {
   "cell_type": "code",
   "execution_count": 48,
   "id": "d28deed7",
   "metadata": {},
   "outputs": [
    {
     "data": {
      "text/plain": [
       "1079"
      ]
     },
     "execution_count": 48,
     "metadata": {},
     "output_type": "execute_result"
    }
   ],
   "source": [
    "[sum(tensor) for tensor in Okt_data].count(0)"
   ]
  },
  {
   "cell_type": "markdown",
   "id": "def824dd",
   "metadata": {},
   "source": [
    "지워야 할 데이터는 *1079*개입니다."
   ]
  },
  {
   "cell_type": "code",
   "execution_count": 49,
   "id": "53478341",
   "metadata": {},
   "outputs": [
    {
     "data": {
      "text/plain": [
       "164373"
      ]
     },
     "execution_count": 49,
     "metadata": {},
     "output_type": "execute_result"
    }
   ],
   "source": [
    "len([tensor for tensor in Okt_data if sum(tensor) > 0])"
   ]
  },
  {
   "cell_type": "markdown",
   "id": "f57fe6a8",
   "metadata": {},
   "source": [
    "제거를 하면 *165452*개에서 *1079*개를 뺀 *164373*개가 되야합니다."
   ]
  },
  {
   "cell_type": "code",
   "execution_count": 50,
   "id": "4436a0d4",
   "metadata": {},
   "outputs": [
    {
     "data": {
      "text/html": [
       "<div>\n",
       "<style scoped>\n",
       "    .dataframe tbody tr th:only-of-type {\n",
       "        vertical-align: middle;\n",
       "    }\n",
       "\n",
       "    .dataframe tbody tr th {\n",
       "        vertical-align: top;\n",
       "    }\n",
       "\n",
       "    .dataframe thead th {\n",
       "        text-align: right;\n",
       "    }\n",
       "</style>\n",
       "<table border=\"1\" class=\"dataframe\">\n",
       "  <thead>\n",
       "    <tr style=\"text-align: right;\">\n",
       "      <th></th>\n",
       "      <th>id</th>\n",
       "      <th>document</th>\n",
       "      <th>label</th>\n",
       "      <th>okt</th>\n",
       "    </tr>\n",
       "  </thead>\n",
       "  <tbody>\n",
       "    <tr>\n",
       "      <th>0</th>\n",
       "      <td>9976970</td>\n",
       "      <td>아 더빙.. 진짜 짜증나네요 목소리</td>\n",
       "      <td>0</td>\n",
       "      <td>[46, 451, 1, 22, 6717, 694, 0, 0, 0, 0, 0, 0, ...</td>\n",
       "    </tr>\n",
       "    <tr>\n",
       "      <th>1</th>\n",
       "      <td>3819312</td>\n",
       "      <td>흠..포스터보고 초딩영화줄..오버연기조차 가볍지 않구나</td>\n",
       "      <td>1</td>\n",
       "      <td>[706, 1, 375, 52, 500, 3, 206, 1, 1542, 32, 10...</td>\n",
       "    </tr>\n",
       "    <tr>\n",
       "      <th>2</th>\n",
       "      <td>10265843</td>\n",
       "      <td>너무재밓었다그래서보는것을추천한다</td>\n",
       "      <td>0</td>\n",
       "      <td>[342, 2357, 5460, 182, 21, 20, 0, 0, 0, 0, 0, ...</td>\n",
       "    </tr>\n",
       "    <tr>\n",
       "      <th>3</th>\n",
       "      <td>9045019</td>\n",
       "      <td>교도소 이야기구먼 ..솔직히 재미는 없다..평점 조정</td>\n",
       "      <td>0</td>\n",
       "      <td>[7347, 117, 7711, 1, 234, 51, 11, 79, 1, 27, 3...</td>\n",
       "    </tr>\n",
       "    <tr>\n",
       "      <th>5</th>\n",
       "      <td>5403919</td>\n",
       "      <td>막 걸음마 뗀 3세부터 초등학교 1학년생인 8살용영화..별반개도 아까움.</td>\n",
       "      <td>0</td>\n",
       "      <td>[864, 893, 105, 431, 163, 1952, 42, 1993, 410,...</td>\n",
       "    </tr>\n",
       "    <tr>\n",
       "      <th>...</th>\n",
       "      <td>...</td>\n",
       "      <td>...</td>\n",
       "      <td>...</td>\n",
       "      <td>...</td>\n",
       "    </tr>\n",
       "    <tr>\n",
       "      <th>49995</th>\n",
       "      <td>4608761</td>\n",
       "      <td>오랜만에 평점 로긴했네 킹왕짱 쌈뽕한 영화를 만났습니다 강렬하게 육쾌함</td>\n",
       "      <td>1</td>\n",
       "      <td>[273, 23, 7, 27, 28, 970, 1937, 5230, 21, 3, 1...</td>\n",
       "    </tr>\n",
       "    <tr>\n",
       "      <th>49996</th>\n",
       "      <td>5308387</td>\n",
       "      <td>의지 박약들이나 하는거다 탈영은 일단 주인공 김대희 닮았고 이등병 찐따</td>\n",
       "      <td>0</td>\n",
       "      <td>[2476, 12, 167, 14, 933, 125, 3726, 643, 0, 0,...</td>\n",
       "    </tr>\n",
       "    <tr>\n",
       "      <th>49997</th>\n",
       "      <td>9072549</td>\n",
       "      <td>그림도 좋고 완성도도 높았지만.. 보는 내내 불안하게 만든다</td>\n",
       "      <td>0</td>\n",
       "      <td>[861, 9, 293, 842, 6291, 1, 118, 299, 1501, 0,...</td>\n",
       "    </tr>\n",
       "    <tr>\n",
       "      <th>49998</th>\n",
       "      <td>5802125</td>\n",
       "      <td>절대 봐서는 안 될 영화.. 재미도 없고 기분만 잡치고.. 한 세트장에서 다 해먹네</td>\n",
       "      <td>0</td>\n",
       "      <td>[367, 250, 2398, 41, 493, 3, 1, 51, 9, 130, 26...</td>\n",
       "    </tr>\n",
       "    <tr>\n",
       "      <th>49999</th>\n",
       "      <td>6070594</td>\n",
       "      <td>마무리는 또 왜이래</td>\n",
       "      <td>0</td>\n",
       "      <td>[891, 11, 136, 34, 702, 0, 0, 0, 0, 0, 0, 0, 0...</td>\n",
       "    </tr>\n",
       "  </tbody>\n",
       "</table>\n",
       "<p>165452 rows × 4 columns</p>\n",
       "</div>"
      ],
      "text/plain": [
       "             id                                        document  label  \\\n",
       "0       9976970                             아 더빙.. 진짜 짜증나네요 목소리      0   \n",
       "1       3819312                  흠..포스터보고 초딩영화줄..오버연기조차 가볍지 않구나      1   \n",
       "2      10265843                               너무재밓었다그래서보는것을추천한다      0   \n",
       "3       9045019                   교도소 이야기구먼 ..솔직히 재미는 없다..평점 조정      0   \n",
       "5       5403919        막 걸음마 뗀 3세부터 초등학교 1학년생인 8살용영화..별반개도 아까움.      0   \n",
       "...         ...                                             ...    ...   \n",
       "49995   4608761         오랜만에 평점 로긴했네 킹왕짱 쌈뽕한 영화를 만났습니다 강렬하게 육쾌함      1   \n",
       "49996   5308387         의지 박약들이나 하는거다 탈영은 일단 주인공 김대희 닮았고 이등병 찐따      0   \n",
       "49997   9072549               그림도 좋고 완성도도 높았지만.. 보는 내내 불안하게 만든다      0   \n",
       "49998   5802125  절대 봐서는 안 될 영화.. 재미도 없고 기분만 잡치고.. 한 세트장에서 다 해먹네      0   \n",
       "49999   6070594                                      마무리는 또 왜이래      0   \n",
       "\n",
       "                                                     okt  \n",
       "0      [46, 451, 1, 22, 6717, 694, 0, 0, 0, 0, 0, 0, ...  \n",
       "1      [706, 1, 375, 52, 500, 3, 206, 1, 1542, 32, 10...  \n",
       "2      [342, 2357, 5460, 182, 21, 20, 0, 0, 0, 0, 0, ...  \n",
       "3      [7347, 117, 7711, 1, 234, 51, 11, 79, 1, 27, 3...  \n",
       "5      [864, 893, 105, 431, 163, 1952, 42, 1993, 410,...  \n",
       "...                                                  ...  \n",
       "49995  [273, 23, 7, 27, 28, 970, 1937, 5230, 21, 3, 1...  \n",
       "49996  [2476, 12, 167, 14, 933, 125, 3726, 643, 0, 0,...  \n",
       "49997  [861, 9, 293, 842, 6291, 1, 118, 299, 1501, 0,...  \n",
       "49998  [367, 250, 2398, 41, 493, 3, 1, 51, 9, 130, 26...  \n",
       "49999  [891, 11, 136, 34, 702, 0, 0, 0, 0, 0, 0, 0, 0...  \n",
       "\n",
       "[165452 rows x 4 columns]"
      ]
     },
     "execution_count": 50,
     "metadata": {},
     "output_type": "execute_result"
    }
   ],
   "source": [
    "data['okt'] = Okt_data.tolist()\n",
    "\n",
    "data"
   ]
  },
  {
   "cell_type": "markdown",
   "id": "c87dc253",
   "metadata": {},
   "source": [
    "제거를 하면서 중요한 것은 레이블 데이터가 꼬이지 않게 제거하는 것입니다.\n",
    "\n",
    "그러기 위해서 일단 데이터프레임에 텐서 컬럼을 추가해주고 레이블과 같이 제거되도록 해주겠습니다."
   ]
  },
  {
   "cell_type": "code",
   "execution_count": 51,
   "id": "e95ce304",
   "metadata": {},
   "outputs": [],
   "source": [
    "Okt_train_data = data[:len(train_data)]\n",
    "Okt_test_data = data[-len(test_data):]"
   ]
  },
  {
   "cell_type": "markdown",
   "id": "419ad6f0",
   "metadata": {},
   "source": [
    "데이터가 합쳐진 채로 제거하면 또 어디부터가 학습용이고 테스트용 데이터인지 헷갈릴테니\n",
    "\n",
    "train과 test를 분리한 후에 제거를 진행하겠습니다."
   ]
  },
  {
   "cell_type": "code",
   "execution_count": 52,
   "id": "ec651a42",
   "metadata": {},
   "outputs": [],
   "source": [
    "Okt_train_data = Okt_train_data.iloc[[i for i, tensor in enumerate(Okt_data[:len(train_data)]) if sum(tensor) > 0]]\n",
    "Okt_test_data = Okt_test_data.iloc[[i for i, tensor in enumerate(Okt_data[-len(test_data):]) if sum(tensor) > 0]]"
   ]
  },
  {
   "cell_type": "markdown",
   "id": "2315bf74",
   "metadata": {},
   "source": [
    "iloc을 이용해 제거될 인덱스인지 아닌지를 판단해 제거해줬습니다.\n",
    "\n",
    "    apply(lambda x: sum(x) > 0)을 하면 'unhashable type list' 오류가 나며 안됐습니다.\n",
    "    이유는 list, dict을 넣으면 뭔가 충돌이 일어난다고 하네요"
   ]
  },
  {
   "cell_type": "code",
   "execution_count": 53,
   "id": "5f4c86ac",
   "metadata": {},
   "outputs": [
    {
     "data": {
      "text/html": [
       "<div>\n",
       "<style scoped>\n",
       "    .dataframe tbody tr th:only-of-type {\n",
       "        vertical-align: middle;\n",
       "    }\n",
       "\n",
       "    .dataframe tbody tr th {\n",
       "        vertical-align: top;\n",
       "    }\n",
       "\n",
       "    .dataframe thead th {\n",
       "        text-align: right;\n",
       "    }\n",
       "</style>\n",
       "<table border=\"1\" class=\"dataframe\">\n",
       "  <thead>\n",
       "    <tr style=\"text-align: right;\">\n",
       "      <th></th>\n",
       "      <th>id</th>\n",
       "      <th>document</th>\n",
       "      <th>label</th>\n",
       "      <th>okt</th>\n",
       "    </tr>\n",
       "  </thead>\n",
       "  <tbody>\n",
       "    <tr>\n",
       "      <th>0</th>\n",
       "      <td>9976970</td>\n",
       "      <td>아 더빙.. 진짜 짜증나네요 목소리</td>\n",
       "      <td>0</td>\n",
       "      <td>[46, 451, 1, 22, 6717, 694, 0, 0, 0, 0, 0, 0, ...</td>\n",
       "    </tr>\n",
       "    <tr>\n",
       "      <th>1</th>\n",
       "      <td>3819312</td>\n",
       "      <td>흠..포스터보고 초딩영화줄..오버연기조차 가볍지 않구나</td>\n",
       "      <td>1</td>\n",
       "      <td>[706, 1, 375, 52, 500, 3, 206, 1, 1542, 32, 10...</td>\n",
       "    </tr>\n",
       "    <tr>\n",
       "      <th>2</th>\n",
       "      <td>10265843</td>\n",
       "      <td>너무재밓었다그래서보는것을추천한다</td>\n",
       "      <td>0</td>\n",
       "      <td>[342, 2357, 5460, 182, 21, 20, 0, 0, 0, 0, 0, ...</td>\n",
       "    </tr>\n",
       "    <tr>\n",
       "      <th>3</th>\n",
       "      <td>9045019</td>\n",
       "      <td>교도소 이야기구먼 ..솔직히 재미는 없다..평점 조정</td>\n",
       "      <td>0</td>\n",
       "      <td>[7347, 117, 7711, 1, 234, 51, 11, 79, 1, 27, 3...</td>\n",
       "    </tr>\n",
       "    <tr>\n",
       "      <th>5</th>\n",
       "      <td>5403919</td>\n",
       "      <td>막 걸음마 뗀 3세부터 초등학교 1학년생인 8살용영화..별반개도 아까움.</td>\n",
       "      <td>0</td>\n",
       "      <td>[864, 893, 105, 431, 163, 1952, 42, 1993, 410,...</td>\n",
       "    </tr>\n",
       "    <tr>\n",
       "      <th>...</th>\n",
       "      <td>...</td>\n",
       "      <td>...</td>\n",
       "      <td>...</td>\n",
       "      <td>...</td>\n",
       "    </tr>\n",
       "    <tr>\n",
       "      <th>49995</th>\n",
       "      <td>4608761</td>\n",
       "      <td>오랜만에 평점 로긴했네 킹왕짱 쌈뽕한 영화를 만났습니다 강렬하게 육쾌함</td>\n",
       "      <td>1</td>\n",
       "      <td>[273, 23, 7, 27, 28, 970, 1937, 5230, 21, 3, 1...</td>\n",
       "    </tr>\n",
       "    <tr>\n",
       "      <th>49996</th>\n",
       "      <td>5308387</td>\n",
       "      <td>의지 박약들이나 하는거다 탈영은 일단 주인공 김대희 닮았고 이등병 찐따</td>\n",
       "      <td>0</td>\n",
       "      <td>[2476, 12, 167, 14, 933, 125, 3726, 643, 0, 0,...</td>\n",
       "    </tr>\n",
       "    <tr>\n",
       "      <th>49997</th>\n",
       "      <td>9072549</td>\n",
       "      <td>그림도 좋고 완성도도 높았지만.. 보는 내내 불안하게 만든다</td>\n",
       "      <td>0</td>\n",
       "      <td>[861, 9, 293, 842, 6291, 1, 118, 299, 1501, 0,...</td>\n",
       "    </tr>\n",
       "    <tr>\n",
       "      <th>49998</th>\n",
       "      <td>5802125</td>\n",
       "      <td>절대 봐서는 안 될 영화.. 재미도 없고 기분만 잡치고.. 한 세트장에서 다 해먹네</td>\n",
       "      <td>0</td>\n",
       "      <td>[367, 250, 2398, 41, 493, 3, 1, 51, 9, 130, 26...</td>\n",
       "    </tr>\n",
       "    <tr>\n",
       "      <th>49999</th>\n",
       "      <td>6070594</td>\n",
       "      <td>마무리는 또 왜이래</td>\n",
       "      <td>0</td>\n",
       "      <td>[891, 11, 136, 34, 702, 0, 0, 0, 0, 0, 0, 0, 0...</td>\n",
       "    </tr>\n",
       "  </tbody>\n",
       "</table>\n",
       "<p>164373 rows × 4 columns</p>\n",
       "</div>"
      ],
      "text/plain": [
       "             id                                        document  label  \\\n",
       "0       9976970                             아 더빙.. 진짜 짜증나네요 목소리      0   \n",
       "1       3819312                  흠..포스터보고 초딩영화줄..오버연기조차 가볍지 않구나      1   \n",
       "2      10265843                               너무재밓었다그래서보는것을추천한다      0   \n",
       "3       9045019                   교도소 이야기구먼 ..솔직히 재미는 없다..평점 조정      0   \n",
       "5       5403919        막 걸음마 뗀 3세부터 초등학교 1학년생인 8살용영화..별반개도 아까움.      0   \n",
       "...         ...                                             ...    ...   \n",
       "49995   4608761         오랜만에 평점 로긴했네 킹왕짱 쌈뽕한 영화를 만났습니다 강렬하게 육쾌함      1   \n",
       "49996   5308387         의지 박약들이나 하는거다 탈영은 일단 주인공 김대희 닮았고 이등병 찐따      0   \n",
       "49997   9072549               그림도 좋고 완성도도 높았지만.. 보는 내내 불안하게 만든다      0   \n",
       "49998   5802125  절대 봐서는 안 될 영화.. 재미도 없고 기분만 잡치고.. 한 세트장에서 다 해먹네      0   \n",
       "49999   6070594                                      마무리는 또 왜이래      0   \n",
       "\n",
       "                                                     okt  \n",
       "0      [46, 451, 1, 22, 6717, 694, 0, 0, 0, 0, 0, 0, ...  \n",
       "1      [706, 1, 375, 52, 500, 3, 206, 1, 1542, 32, 10...  \n",
       "2      [342, 2357, 5460, 182, 21, 20, 0, 0, 0, 0, 0, ...  \n",
       "3      [7347, 117, 7711, 1, 234, 51, 11, 79, 1, 27, 3...  \n",
       "5      [864, 893, 105, 431, 163, 1952, 42, 1993, 410,...  \n",
       "...                                                  ...  \n",
       "49995  [273, 23, 7, 27, 28, 970, 1937, 5230, 21, 3, 1...  \n",
       "49996  [2476, 12, 167, 14, 933, 125, 3726, 643, 0, 0,...  \n",
       "49997  [861, 9, 293, 842, 6291, 1, 118, 299, 1501, 0,...  \n",
       "49998  [367, 250, 2398, 41, 493, 3, 1, 51, 9, 130, 26...  \n",
       "49999  [891, 11, 136, 34, 702, 0, 0, 0, 0, 0, 0, 0, 0...  \n",
       "\n",
       "[164373 rows x 4 columns]"
      ]
     },
     "execution_count": 53,
     "metadata": {},
     "output_type": "execute_result"
    }
   ],
   "source": [
    "Okt_data = pd.concat([Okt_train_data, Okt_test_data], axis=0)\n",
    "\n",
    "Okt_data"
   ]
  },
  {
   "cell_type": "markdown",
   "id": "4253fd59",
   "metadata": {},
   "source": [
    "제거 후 *164373*개인 것을 보니 잘 제거된 것 같습니다."
   ]
  },
  {
   "cell_type": "code",
   "execution_count": 54,
   "id": "ff0d10ec",
   "metadata": {},
   "outputs": [
    {
     "name": "stdout",
     "output_type": "stream",
     "text": [
      "(123070, 40)\n",
      "(123070,)\n",
      "(41303, 40)\n",
      "(41303,)\n"
     ]
    }
   ],
   "source": [
    "Okt_train = np.array(list(Okt_train_data['okt']))\n",
    "Okt_test = np.array(list(Okt_test_data['okt']))\n",
    "\n",
    "labels_train = np.asarray(Okt_train_data['label']).astype('float32')\n",
    "labels_test = np.asarray(Okt_test_data['label']).astype('float32')\n",
    "\n",
    "print(Okt_train.shape)\n",
    "print(labels_train.shape)\n",
    "print(Okt_test.shape)\n",
    "print(labels_test.shape)"
   ]
  },
  {
   "cell_type": "markdown",
   "id": "dea4f6a8",
   "metadata": {},
   "source": [
    "이전에 했던 것처럼 train과 test를 준비해줍니다.\n",
    "\n",
    "    list(Okt_train_data['okt'])를 해주지 않으면 1차원 모습의 리스트만 들어가면서 모델에 입력이 안됐습니다."
   ]
  },
  {
   "cell_type": "code",
   "execution_count": 55,
   "id": "309140bd",
   "metadata": {},
   "outputs": [
    {
     "name": "stdout",
     "output_type": "stream",
     "text": [
      "(103070, 40)\n",
      "(20000, 40)\n"
     ]
    }
   ],
   "source": [
    "val_num = 20000\n",
    "\n",
    "X_train = Okt_train[:-val_num]\n",
    "y_train = labels_train[:-val_num]\n",
    "\n",
    "X_val = Okt_train[-val_num:]\n",
    "y_val = labels_train[-val_num:]\n",
    "\n",
    "print(X_train.shape)\n",
    "print(X_val.shape)"
   ]
  },
  {
   "cell_type": "markdown",
   "id": "bd89dbac",
   "metadata": {},
   "source": [
    "밸리데이션도 마찬가지로 2만 개의 데이터를 사용해주겠습니다."
   ]
  },
  {
   "cell_type": "code",
   "execution_count": 56,
   "id": "4ea21bb5",
   "metadata": {},
   "outputs": [
    {
     "name": "stdout",
     "output_type": "stream",
     "text": [
      "Model: \"sequential_1\"\n",
      "_________________________________________________________________\n",
      "Layer (type)                 Output Shape              Param #   \n",
      "=================================================================\n",
      "embedding_1 (Embedding)      (None, None, 40)          320000    \n",
      "_________________________________________________________________\n",
      "lstm_1 (LSTM)                (None, 16)                3648      \n",
      "_________________________________________________________________\n",
      "dense_2 (Dense)              (None, 16)                272       \n",
      "_________________________________________________________________\n",
      "dropout_1 (Dropout)          (None, 16)                0         \n",
      "_________________________________________________________________\n",
      "dense_3 (Dense)              (None, 1)                 17        \n",
      "=================================================================\n",
      "Total params: 323,937\n",
      "Trainable params: 323,937\n",
      "Non-trainable params: 0\n",
      "_________________________________________________________________\n"
     ]
    }
   ],
   "source": [
    "word_vector_dim = 40\n",
    "\n",
    "tf.random.set_seed(1337) # 시드 1337 고정\n",
    "\n",
    "model = tf.keras.Sequential() # RNN\n",
    "model.add(tf.keras.layers.Embedding(vocab_size, word_vector_dim, input_shape=(None,)))\n",
    "model.add(tf.keras.layers.LSTM(16))\n",
    "model.add(tf.keras.layers.Dense(16, activation='relu'))\n",
    "model.add(tf.keras.layers.Dropout(rate=0.3)) # 드랍아웃 추가\n",
    "model.add(tf.keras.layers.Dense(1, activation='sigmoid'))\n",
    "\n",
    "model.summary()"
   ]
  },
  {
   "cell_type": "markdown",
   "id": "634f57a9",
   "metadata": {},
   "source": [
    "아웃풋을 문장의 길이인 40으로 변경하고 나머지는 이전 모델과 같습니다."
   ]
  },
  {
   "cell_type": "code",
   "execution_count": 57,
   "id": "02065827",
   "metadata": {},
   "outputs": [
    {
     "name": "stdout",
     "output_type": "stream",
     "text": [
      "Epoch 1/15\n",
      "202/202 [==============================] - 8s 18ms/step - loss: 0.6931 - accuracy: 0.5045 - val_loss: 0.6848 - val_accuracy: 0.7184\n",
      "Epoch 2/15\n",
      "202/202 [==============================] - 1s 6ms/step - loss: 0.4675 - accuracy: 0.7988 - val_loss: 0.3849 - val_accuracy: 0.8302\n",
      "Epoch 3/15\n",
      "202/202 [==============================] - 1s 6ms/step - loss: 0.3539 - accuracy: 0.8511 - val_loss: 0.3650 - val_accuracy: 0.8417\n",
      "Epoch 4/15\n",
      "202/202 [==============================] - 1s 6ms/step - loss: 0.3316 - accuracy: 0.8594 - val_loss: 0.3661 - val_accuracy: 0.8400\n",
      "Epoch 5/15\n",
      "202/202 [==============================] - 1s 6ms/step - loss: 0.3198 - accuracy: 0.8630 - val_loss: 0.3724 - val_accuracy: 0.8399\n",
      "Epoch 6/15\n",
      "202/202 [==============================] - 1s 6ms/step - loss: 0.3074 - accuracy: 0.8664 - val_loss: 0.3776 - val_accuracy: 0.8403\n",
      "Epoch 7/15\n",
      "202/202 [==============================] - 1s 6ms/step - loss: 0.2949 - accuracy: 0.8689 - val_loss: 0.3928 - val_accuracy: 0.8397\n",
      "Epoch 8/15\n",
      "202/202 [==============================] - 1s 6ms/step - loss: 0.2835 - accuracy: 0.8713 - val_loss: 0.4069 - val_accuracy: 0.8401\n"
     ]
    },
    {
     "data": {
      "image/png": "[encoded data removed]",
      "text/plain": [
       "<Figure size 864x288 with 2 Axes>"
      ]
     },
     "metadata": {
      "needs_background": "light"
     },
     "output_type": "display_data"
    },
    {
     "name": "stdout",
     "output_type": "stream",
     "text": [
      "1291/1291 - 3s - loss: 0.4130 - accuracy: 0.8368\n",
      "test_loss : 0.4129945635795593 test_acc : 0.8368157148361206\n"
     ]
    }
   ],
   "source": [
    "model.compile(optimizer='adam',\n",
    "              loss='binary_crossentropy',\n",
    "              metrics=['accuracy'])\n",
    "              \n",
    "epochs = 15\n",
    "\n",
    "history = model.fit(X_train,\n",
    "                    y_train,\n",
    "                    epochs=epochs,\n",
    "                    batch_size=512,\n",
    "                    validation_data=(X_val, y_val),\n",
    "                    verbose=1,\n",
    "                    callbacks=[es]\n",
    "                    )\n",
    "\n",
    "history_graph(history)\n",
    "\n",
    "results = model.evaluate(Okt_test,  labels_test, verbose=2)\n",
    "print_result(results)"
   ]
  },
  {
   "cell_type": "markdown",
   "id": "772bf1f7",
   "metadata": {},
   "source": [
    "학습이 더 빨리 진행되면서 더 높은 정확도가 나왔습니다.\n",
    "\n",
    "그렇다고 해서 KoNLPy의 모듈이 SentencePiece를 사용한 것보다 좋다라는 결론은 아닙니다.\n",
    "\n",
    "제가 만든 SentencePiece는 간이 형태소 분리기에 불과했으니까요."
   ]
  },
  {
   "cell_type": "markdown",
   "id": "80eb5f2c",
   "metadata": {},
   "source": [
    "### *Mecab*"
   ]
  },
  {
   "cell_type": "code",
   "execution_count": 58,
   "id": "28e7b789",
   "metadata": {},
   "outputs": [
    {
     "data": {
      "text/html": [
       "<div>\n",
       "<style scoped>\n",
       "    .dataframe tbody tr th:only-of-type {\n",
       "        vertical-align: middle;\n",
       "    }\n",
       "\n",
       "    .dataframe tbody tr th {\n",
       "        vertical-align: top;\n",
       "    }\n",
       "\n",
       "    .dataframe thead th {\n",
       "        text-align: right;\n",
       "    }\n",
       "</style>\n",
       "<table border=\"1\" class=\"dataframe\">\n",
       "  <thead>\n",
       "    <tr style=\"text-align: right;\">\n",
       "      <th></th>\n",
       "      <th>id</th>\n",
       "      <th>document</th>\n",
       "      <th>label</th>\n",
       "      <th>okt</th>\n",
       "      <th>mecab</th>\n",
       "    </tr>\n",
       "  </thead>\n",
       "  <tbody>\n",
       "    <tr>\n",
       "      <th>0</th>\n",
       "      <td>9976970</td>\n",
       "      <td>아 더빙.. 진짜 짜증나네요 목소리</td>\n",
       "      <td>0</td>\n",
       "      <td>[46, 451, 1, 22, 6717, 694, 0, 0, 0, 0, 0, 0, ...</td>\n",
       "      <td>[37, 80, 882, 1, 1, 41, 222, 26, 42, 759, 0, 0...</td>\n",
       "    </tr>\n",
       "    <tr>\n",
       "      <th>1</th>\n",
       "      <td>3819312</td>\n",
       "      <td>흠..포스터보고 초딩영화줄..오버연기조차 가볍지 않구나</td>\n",
       "      <td>1</td>\n",
       "      <td>[706, 1, 375, 52, 500, 3, 206, 1, 1542, 32, 10...</td>\n",
       "      <td>[814, 1, 1, 440, 504, 555, 3, 130, 1, 1, 1503,...</td>\n",
       "    </tr>\n",
       "    <tr>\n",
       "      <th>2</th>\n",
       "      <td>10265843</td>\n",
       "      <td>너무재밓었다그래서보는것을추천한다</td>\n",
       "      <td>0</td>\n",
       "      <td>[342, 2357, 5460, 182, 21, 20, 0, 0, 0, 0, 0, ...</td>\n",
       "      <td>[29, 159, 0, 0, 0, 0, 0, 0, 0, 0, 0, 0, 0, 0, ...</td>\n",
       "    </tr>\n",
       "    <tr>\n",
       "      <th>3</th>\n",
       "      <td>9045019</td>\n",
       "      <td>교도소 이야기구먼 ..솔직히 재미는 없다..평점 조정</td>\n",
       "      <td>0</td>\n",
       "      <td>[7347, 117, 7711, 1, 234, 51, 11, 79, 1, 27, 3...</td>\n",
       "      <td>[6659, 162, 2745, 1, 1, 289, 81, 4, 20, 5, 1, ...</td>\n",
       "    </tr>\n",
       "    <tr>\n",
       "      <th>5</th>\n",
       "      <td>5403919</td>\n",
       "      <td>막 걸음마 뗀 3세부터 초등학교 1학년생인 8살용영화..별반개도 아까움.</td>\n",
       "      <td>0</td>\n",
       "      <td>[864, 893, 105, 431, 163, 1952, 42, 1993, 410,...</td>\n",
       "      <td>[763, 138, 404, 205, 1547, 666, 71, 1766, 652,...</td>\n",
       "    </tr>\n",
       "    <tr>\n",
       "      <th>...</th>\n",
       "      <td>...</td>\n",
       "      <td>...</td>\n",
       "      <td>...</td>\n",
       "      <td>...</td>\n",
       "      <td>...</td>\n",
       "    </tr>\n",
       "    <tr>\n",
       "      <th>49995</th>\n",
       "      <td>4608761</td>\n",
       "      <td>오랜만에 평점 로긴했네 킹왕짱 쌈뽕한 영화를 만났습니다 강렬하게 육쾌함</td>\n",
       "      <td>1</td>\n",
       "      <td>[273, 23, 7, 27, 28, 970, 1937, 5230, 21, 3, 1...</td>\n",
       "      <td>[339, 12, 54, 43, 202, 48, 40, 4261, 3815, 204...</td>\n",
       "    </tr>\n",
       "    <tr>\n",
       "      <th>49996</th>\n",
       "      <td>5308387</td>\n",
       "      <td>의지 박약들이나 하는거다 탈영은 일단 주인공 김대희 닮았고 이등병 찐따</td>\n",
       "      <td>0</td>\n",
       "      <td>[2476, 12, 167, 14, 933, 125, 3726, 643, 0, 0,...</td>\n",
       "      <td>[2242, 19, 244, 7, 4, 56, 5, 11, 961, 228, 149...</td>\n",
       "    </tr>\n",
       "    <tr>\n",
       "      <th>49997</th>\n",
       "      <td>9072549</td>\n",
       "      <td>그림도 좋고 완성도도 높았지만.. 보는 내내 불안하게 만든다</td>\n",
       "      <td>0</td>\n",
       "      <td>[861, 9, 293, 842, 6291, 1, 118, 299, 1501, 0,...</td>\n",
       "      <td>[903, 10, 23, 6, 1376, 10, 245, 52, 47, 1, 1, ...</td>\n",
       "    </tr>\n",
       "    <tr>\n",
       "      <th>49998</th>\n",
       "      <td>5802125</td>\n",
       "      <td>절대 봐서는 안 될 영화.. 재미도 없고 기분만 잡치고.. 한 세트장에서 다 해먹네</td>\n",
       "      <td>0</td>\n",
       "      <td>[367, 250, 2398, 41, 493, 3, 1, 51, 9, 130, 26...</td>\n",
       "      <td>[414, 464, 4, 38, 320, 3, 1, 1, 81, 10, 20, 6,...</td>\n",
       "    </tr>\n",
       "    <tr>\n",
       "      <th>49999</th>\n",
       "      <td>6070594</td>\n",
       "      <td>마무리는 또 왜이래</td>\n",
       "      <td>0</td>\n",
       "      <td>[891, 11, 136, 34, 702, 0, 0, 0, 0, 0, 0, 0, 0...</td>\n",
       "      <td>[950, 4, 176, 67, 805, 0, 0, 0, 0, 0, 0, 0, 0,...</td>\n",
       "    </tr>\n",
       "  </tbody>\n",
       "</table>\n",
       "<p>164975 rows × 5 columns</p>\n",
       "</div>"
      ],
      "text/plain": [
       "             id                                        document  label  \\\n",
       "0       9976970                             아 더빙.. 진짜 짜증나네요 목소리      0   \n",
       "1       3819312                  흠..포스터보고 초딩영화줄..오버연기조차 가볍지 않구나      1   \n",
       "2      10265843                               너무재밓었다그래서보는것을추천한다      0   \n",
       "3       9045019                   교도소 이야기구먼 ..솔직히 재미는 없다..평점 조정      0   \n",
       "5       5403919        막 걸음마 뗀 3세부터 초등학교 1학년생인 8살용영화..별반개도 아까움.      0   \n",
       "...         ...                                             ...    ...   \n",
       "49995   4608761         오랜만에 평점 로긴했네 킹왕짱 쌈뽕한 영화를 만났습니다 강렬하게 육쾌함      1   \n",
       "49996   5308387         의지 박약들이나 하는거다 탈영은 일단 주인공 김대희 닮았고 이등병 찐따      0   \n",
       "49997   9072549               그림도 좋고 완성도도 높았지만.. 보는 내내 불안하게 만든다      0   \n",
       "49998   5802125  절대 봐서는 안 될 영화.. 재미도 없고 기분만 잡치고.. 한 세트장에서 다 해먹네      0   \n",
       "49999   6070594                                      마무리는 또 왜이래      0   \n",
       "\n",
       "                                                     okt  \\\n",
       "0      [46, 451, 1, 22, 6717, 694, 0, 0, 0, 0, 0, 0, ...   \n",
       "1      [706, 1, 375, 52, 500, 3, 206, 1, 1542, 32, 10...   \n",
       "2      [342, 2357, 5460, 182, 21, 20, 0, 0, 0, 0, 0, ...   \n",
       "3      [7347, 117, 7711, 1, 234, 51, 11, 79, 1, 27, 3...   \n",
       "5      [864, 893, 105, 431, 163, 1952, 42, 1993, 410,...   \n",
       "...                                                  ...   \n",
       "49995  [273, 23, 7, 27, 28, 970, 1937, 5230, 21, 3, 1...   \n",
       "49996  [2476, 12, 167, 14, 933, 125, 3726, 643, 0, 0,...   \n",
       "49997  [861, 9, 293, 842, 6291, 1, 118, 299, 1501, 0,...   \n",
       "49998  [367, 250, 2398, 41, 493, 3, 1, 51, 9, 130, 26...   \n",
       "49999  [891, 11, 136, 34, 702, 0, 0, 0, 0, 0, 0, 0, 0...   \n",
       "\n",
       "                                                   mecab  \n",
       "0      [37, 80, 882, 1, 1, 41, 222, 26, 42, 759, 0, 0...  \n",
       "1      [814, 1, 1, 440, 504, 555, 3, 130, 1, 1, 1503,...  \n",
       "2      [29, 159, 0, 0, 0, 0, 0, 0, 0, 0, 0, 0, 0, 0, ...  \n",
       "3      [6659, 162, 2745, 1, 1, 289, 81, 4, 20, 5, 1, ...  \n",
       "5      [763, 138, 404, 205, 1547, 666, 71, 1766, 652,...  \n",
       "...                                                  ...  \n",
       "49995  [339, 12, 54, 43, 202, 48, 40, 4261, 3815, 204...  \n",
       "49996  [2242, 19, 244, 7, 4, 56, 5, 11, 961, 228, 149...  \n",
       "49997  [903, 10, 23, 6, 1376, 10, 245, 52, 47, 1, 1, ...  \n",
       "49998  [414, 464, 4, 38, 320, 3, 1, 1, 81, 10, 20, 6,...  \n",
       "49999  [950, 4, 176, 67, 805, 0, 0, 0, 0, 0, 0, 0, 0,...  \n",
       "\n",
       "[164975 rows x 5 columns]"
      ]
     },
     "execution_count": 58,
     "metadata": {},
     "output_type": "execute_result"
    }
   ],
   "source": [
    "Mecab_data, tokenizer = tokenize(data['document'].apply(Mecab().morphs))\n",
    "data['mecab'] = Mecab_data.tolist()\n",
    "\n",
    "Mecab_train_data = data[:len(train_data)]\n",
    "Mecab_test_data = data[-len(test_data):]\n",
    "\n",
    "Mecab_train_data = Mecab_train_data.iloc[[i for i, tensor in enumerate(Mecab_data[:len(train_data)]) if sum(tensor) > 0]]\n",
    "Mecab_test_data = Mecab_test_data.iloc[[i for i, tensor in enumerate(Mecab_data[-len(test_data):]) if sum(tensor) > 0]]\n",
    "\n",
    "Mecab_data = pd.concat([Mecab_train_data, Mecab_test_data], axis=0)\n",
    "\n",
    "Mecab_data"
   ]
  },
  {
   "cell_type": "markdown",
   "id": "5c430bce",
   "metadata": {},
   "source": [
    "그럼 Okt와 비슷한 성능으로 형태소가 분리되었던 Mecab도 한 번 써보겠습니다.\n",
    "\n",
    "빠르게 결측치 제거까지 모두 진행했습니다.\n",
    "\n",
    "Okt와 성능은 큰 차이가 없어보였는데 처리 속도 측면에선 Mecab이 눈에 띄게 빠르군요."
   ]
  },
  {
   "cell_type": "code",
   "execution_count": 59,
   "id": "eb013353",
   "metadata": {},
   "outputs": [
    {
     "name": "stdout",
     "output_type": "stream",
     "text": [
      "(123528, 48)\n",
      "(123528,)\n",
      "(41447, 48)\n",
      "(41447,)\n"
     ]
    }
   ],
   "source": [
    "Mecab_train = np.array(list(Mecab_train_data['mecab']))\n",
    "Mecab_test = np.array(list(Mecab_test_data['mecab']))\n",
    "\n",
    "labels_train = np.asarray(Mecab_train_data['label']).astype('float32')\n",
    "labels_test = np.asarray(Mecab_test_data['label']).astype('float32')\n",
    "\n",
    "print(Mecab_train.shape)\n",
    "print(labels_train.shape)\n",
    "print(Mecab_test.shape)\n",
    "print(labels_test.shape)"
   ]
  },
  {
   "cell_type": "code",
   "execution_count": 60,
   "id": "4737029a",
   "metadata": {},
   "outputs": [
    {
     "name": "stdout",
     "output_type": "stream",
     "text": [
      "(103528, 48)\n",
      "(20000, 48)\n"
     ]
    }
   ],
   "source": [
    "val_num = 20000\n",
    "\n",
    "X_train = Mecab_train[:-val_num]\n",
    "y_train = labels_train[:-val_num]\n",
    "\n",
    "X_val = Mecab_train[-val_num:]\n",
    "y_val = labels_train[-val_num:]\n",
    "\n",
    "print(X_train.shape)\n",
    "print(X_val.shape)"
   ]
  },
  {
   "cell_type": "code",
   "execution_count": 61,
   "id": "5b186e1c",
   "metadata": {},
   "outputs": [
    {
     "name": "stdout",
     "output_type": "stream",
     "text": [
      "Model: \"sequential_2\"\n",
      "_________________________________________________________________\n",
      "Layer (type)                 Output Shape              Param #   \n",
      "=================================================================\n",
      "embedding_2 (Embedding)      (None, None, 48)          384000    \n",
      "_________________________________________________________________\n",
      "lstm_2 (LSTM)                (None, 16)                4160      \n",
      "_________________________________________________________________\n",
      "dense_4 (Dense)              (None, 16)                272       \n",
      "_________________________________________________________________\n",
      "dropout_2 (Dropout)          (None, 16)                0         \n",
      "_________________________________________________________________\n",
      "dense_5 (Dense)              (None, 1)                 17        \n",
      "=================================================================\n",
      "Total params: 388,449\n",
      "Trainable params: 388,449\n",
      "Non-trainable params: 0\n",
      "_________________________________________________________________\n"
     ]
    }
   ],
   "source": [
    "word_vector_dim = 48\n",
    "\n",
    "tf.random.set_seed(1337) # 시드 1337 고정\n",
    "\n",
    "model = tf.keras.Sequential() # RNN\n",
    "model.add(tf.keras.layers.Embedding(vocab_size, word_vector_dim, input_shape=(None,)))\n",
    "model.add(tf.keras.layers.LSTM(16))\n",
    "model.add(tf.keras.layers.Dense(16, activation='relu'))\n",
    "model.add(tf.keras.layers.Dropout(rate=0.3)) # 드랍아웃 추가\n",
    "model.add(tf.keras.layers.Dense(1, activation='sigmoid'))\n",
    "\n",
    "model.summary()"
   ]
  },
  {
   "cell_type": "markdown",
   "id": "4a6aa3bd",
   "metadata": {},
   "source": [
    "마찬가지로 임베딩 아웃풋을 제외한 나머지는 모두 같습니다."
   ]
  },
  {
   "cell_type": "code",
   "execution_count": 62,
   "id": "1ea21317",
   "metadata": {},
   "outputs": [
    {
     "name": "stdout",
     "output_type": "stream",
     "text": [
      "Epoch 1/15\n",
      "203/203 [==============================] - 4s 12ms/step - loss: 0.6932 - accuracy: 0.5028 - val_loss: 0.6931 - val_accuracy: 0.5007\n",
      "Epoch 2/15\n",
      "203/203 [==============================] - 1s 6ms/step - loss: 0.5128 - accuracy: 0.7387 - val_loss: 0.3696 - val_accuracy: 0.8415\n",
      "Epoch 3/15\n",
      "203/203 [==============================] - 2s 10ms/step - loss: 0.3507 - accuracy: 0.8546 - val_loss: 0.3508 - val_accuracy: 0.8477\n",
      "Epoch 4/15\n",
      "203/203 [==============================] - 1s 6ms/step - loss: 0.3250 - accuracy: 0.8653 - val_loss: 0.3677 - val_accuracy: 0.8339\n",
      "Epoch 5/15\n",
      "203/203 [==============================] - 1s 6ms/step - loss: 0.3036 - accuracy: 0.8739 - val_loss: 0.3520 - val_accuracy: 0.8529\n",
      "Epoch 6/15\n",
      "203/203 [==============================] - 1s 6ms/step - loss: 0.2796 - accuracy: 0.8844 - val_loss: 0.3457 - val_accuracy: 0.8535\n",
      "Epoch 7/15\n",
      "203/203 [==============================] - 1s 6ms/step - loss: 0.2615 - accuracy: 0.8925 - val_loss: 0.3628 - val_accuracy: 0.8564\n",
      "Epoch 8/15\n",
      "203/203 [==============================] - 1s 6ms/step - loss: 0.2464 - accuracy: 0.9006 - val_loss: 0.3660 - val_accuracy: 0.8508\n",
      "Epoch 9/15\n",
      "203/203 [==============================] - 1s 6ms/step - loss: 0.2326 - accuracy: 0.9066 - val_loss: 0.3860 - val_accuracy: 0.8501\n",
      "Epoch 10/15\n",
      "203/203 [==============================] - 1s 6ms/step - loss: 0.2211 - accuracy: 0.9115 - val_loss: 0.4069 - val_accuracy: 0.8521\n",
      "Epoch 11/15\n",
      "203/203 [==============================] - 1s 6ms/step - loss: 0.2094 - accuracy: 0.9182 - val_loss: 0.4188 - val_accuracy: 0.8487\n"
     ]
    },
    {
     "data": {
      "image/png": "[encoded data removed]",
      "text/plain": [
       "<Figure size 864x288 with 2 Axes>"
      ]
     },
     "metadata": {
      "needs_background": "light"
     },
     "output_type": "display_data"
    },
    {
     "name": "stdout",
     "output_type": "stream",
     "text": [
      "1296/1296 - 3s - loss: 0.4246 - accuracy: 0.8445\n",
      "test_loss : 0.42463478446006775 test_acc : 0.8444761037826538\n"
     ]
    }
   ],
   "source": [
    "model.compile(optimizer='adam',\n",
    "              loss='binary_crossentropy',\n",
    "              metrics=['accuracy'])\n",
    "              \n",
    "epochs = 15\n",
    "\n",
    "history = model.fit(X_train,\n",
    "                    y_train,\n",
    "                    epochs=epochs,\n",
    "                    batch_size=512,\n",
    "                    validation_data=(X_val, y_val),\n",
    "                    verbose=1,\n",
    "                    callbacks=[es]\n",
    "                    )\n",
    "\n",
    "history_graph(history)\n",
    "\n",
    "results = model.evaluate(Mecab_test,  labels_test, verbose=2)\n",
    "print_result(results)"
   ]
  },
  {
   "cell_type": "markdown",
   "id": "cb93f02f",
   "metadata": {},
   "source": [
    "정확도 또한 Okt보다 높게 나왔습니다.\n",
    "\n",
    "컴퓨터가 읽기엔 Mecab이 더 의미 있게 형태소를 분리했다고 보는 게 좋겠군요."
   ]
  },
  {
   "cell_type": "markdown",
   "id": "d350736c",
   "metadata": {},
   "source": [
    "- - -\n",
    "### 여러 모델 비교하기\n",
    "- **SentencePiece(bpe)**"
   ]
  },
  {
   "cell_type": "markdown",
   "id": "38ed629d",
   "metadata": {},
   "source": [
    "마지막으로 SentencePiece의 모델 타입을 BPE로 주고 학습을 진행해보겠습니다.\n",
    "\n",
    "과연 유의미한 성능 변화가 있을까요?"
   ]
  },
  {
   "cell_type": "code",
   "execution_count": 63,
   "id": "69ee18b2",
   "metadata": {},
   "outputs": [
    {
     "name": "stderr",
     "output_type": "stream",
     "text": [
      "sentencepiece_trainer.cc(177) LOG(INFO) Running command: --input=/aiffel/aiffel/sp_tokenizer/data/korean-english-park.train.ko.temp --model_prefix=korean_spm --model_type=bpe --vocab_size=8000\n",
      "sentencepiece_trainer.cc(77) LOG(INFO) Starts training with : \n",
      "trainer_spec {\n",
      "  input: /aiffel/aiffel/sp_tokenizer/data/korean-english-park.train.ko.temp\n",
      "  input_format: \n",
      "  model_prefix: korean_spm\n",
      "  model_type: BPE\n",
      "  vocab_size: 8000\n",
      "  self_test_sample_size: 0\n",
      "  character_coverage: 0.9995\n",
      "  input_sentence_size: 0\n",
      "  shuffle_input_sentence: 1\n",
      "  seed_sentencepiece_size: 1000000\n",
      "  shrinking_factor: 0.75\n",
      "  max_sentence_length: 4192\n",
      "  num_threads: 16\n",
      "  num_sub_iterations: 2\n",
      "  max_sentencepiece_length: 16\n",
      "  split_by_unicode_script: 1\n",
      "  split_by_number: 1\n",
      "  split_by_whitespace: 1\n",
      "  split_digits: 0\n",
      "  treat_whitespace_as_suffix: 0\n",
      "  allow_whitespace_only_pieces: 0\n",
      "  required_chars: \n",
      "  byte_fallback: 0\n",
      "  vocabulary_output_piece_score: 1\n",
      "  train_extremely_large_corpus: 0\n",
      "  hard_vocab_limit: 1\n",
      "  use_all_vocab: 0\n",
      "  unk_id: 0\n",
      "  bos_id: 1\n",
      "  eos_id: 2\n",
      "  pad_id: -1\n",
      "  unk_piece: <unk>\n",
      "  bos_piece: <s>\n",
      "  eos_piece: </s>\n",
      "  pad_piece: <pad>\n",
      "  unk_surface:  ⁇ \n",
      "}\n",
      "normalizer_spec {\n",
      "  name: nmt_nfkc\n",
      "  add_dummy_prefix: 1\n",
      "  remove_extra_whitespaces: 1\n",
      "  escape_whitespaces: 1\n",
      "  normalization_rule_tsv: \n",
      "}\n",
      "denormalizer_spec {}\n",
      "trainer_interface.cc(329) LOG(INFO) SentenceIterator is not specified. Using MultiFileSentenceIterator.\n",
      "trainer_interface.cc(178) LOG(INFO) Loading corpus: /aiffel/aiffel/sp_tokenizer/data/korean-english-park.train.ko.temp\n",
      "trainer_interface.cc(385) LOG(INFO) Loaded all 76908 sentences\n",
      "trainer_interface.cc(400) LOG(INFO) Adding meta_piece: <unk>\n",
      "trainer_interface.cc(400) LOG(INFO) Adding meta_piece: <s>\n",
      "trainer_interface.cc(400) LOG(INFO) Adding meta_piece: </s>\n",
      "trainer_interface.cc(405) LOG(INFO) Normalizing sentences...\n",
      "trainer_interface.cc(466) LOG(INFO) all chars count=4996369\n",
      "trainer_interface.cc(477) LOG(INFO) Done: 99.95% characters are covered.\n",
      "trainer_interface.cc(487) LOG(INFO) Alphabet size=1317\n",
      "trainer_interface.cc(488) LOG(INFO) Final character coverage=0.9995\n",
      "trainer_interface.cc(520) LOG(INFO) Done! preprocessed 76908 sentences.\n",
      "trainer_interface.cc(526) LOG(INFO) Tokenizing input sentences with whitespace: 76908\n",
      "trainer_interface.cc(537) LOG(INFO) Done! 237965\n",
      "bpe_model_trainer.cc(167) LOG(INFO) Updating active symbols. max_freq=37043 min_freq=188\n",
      "bpe_model_trainer.cc(258) LOG(INFO) Added: freq=10526 size=20 all=64102 active=6239 piece=▁가\n",
      "bpe_model_trainer.cc(258) LOG(INFO) Added: freq=7586 size=40 all=66979 active=9116 piece=▁일\n",
      "bpe_model_trainer.cc(258) LOG(INFO) Added: freq=5712 size=60 all=69013 active=11150 piece=▁하\n",
      "bpe_model_trainer.cc(258) LOG(INFO) Added: freq=4404 size=80 all=71006 active=13143 piece=▁해\n",
      "bpe_model_trainer.cc(258) LOG(INFO) Added: freq=3904 size=100 all=72666 active=14803 piece=▁결\n",
      "bpe_model_trainer.cc(167) LOG(INFO) Updating active symbols. max_freq=3872 min_freq=147\n",
      "bpe_model_trainer.cc(258) LOG(INFO) Added: freq=3422 size=120 all=74308 active=5232 piece=▁반\n",
      "bpe_model_trainer.cc(258) LOG(INFO) Added: freq=3011 size=140 all=76157 active=7081 piece=들을\n",
      "bpe_model_trainer.cc(258) LOG(INFO) Added: freq=2743 size=160 all=77986 active=8910 piece=▁에\n",
      "bpe_model_trainer.cc(258) LOG(INFO) Added: freq=2451 size=180 all=79566 active=10490 piece=한다\n",
      "bpe_model_trainer.cc(258) LOG(INFO) Added: freq=2222 size=200 all=80983 active=11907 piece=에는\n",
      "bpe_model_trainer.cc(167) LOG(INFO) Updating active symbols. max_freq=2209 min_freq=126\n",
      "bpe_model_trainer.cc(258) LOG(INFO) Added: freq=2027 size=220 all=82597 active=5345 piece=▁지역\n",
      "bpe_model_trainer.cc(258) LOG(INFO) Added: freq=1878 size=240 all=83697 active=6445 piece=▁한편\n",
      "bpe_model_trainer.cc(258) LOG(INFO) Added: freq=1732 size=260 all=85129 active=7877 piece=▁보도\n",
      "bpe_model_trainer.cc(258) LOG(INFO) Added: freq=1623 size=280 all=86544 active=9292 piece=▁관련\n",
      "bpe_model_trainer.cc(258) LOG(INFO) Added: freq=1557 size=300 all=87836 active=10584 piece=▁대통령은\n",
      "bpe_model_trainer.cc(167) LOG(INFO) Updating active symbols. max_freq=1556 min_freq=113\n",
      "bpe_model_trainer.cc(258) LOG(INFO) Added: freq=1510 size=320 all=89131 active=5686 piece=▁부시\n",
      "bpe_model_trainer.cc(258) LOG(INFO) Added: freq=1411 size=340 all=90150 active=6705 piece=▁산\n",
      "bpe_model_trainer.cc(258) LOG(INFO) Added: freq=1328 size=360 all=91505 active=8060 piece=▁계획\n",
      "bpe_model_trainer.cc(258) LOG(INFO) Added: freq=1264 size=380 all=92481 active=9036 piece=▁한다\n",
      "bpe_model_trainer.cc(258) LOG(INFO) Added: freq=1210 size=400 all=93606 active=10161 piece=▁했다\n",
      "bpe_model_trainer.cc(167) LOG(INFO) Updating active symbols. max_freq=1208 min_freq=101\n",
      "bpe_model_trainer.cc(258) LOG(INFO) Added: freq=1153 size=420 all=94570 active=5639 piece=▁토\n",
      "bpe_model_trainer.cc(258) LOG(INFO) Added: freq=1104 size=440 all=95620 active=6689 piece=▁생각\n",
      "bpe_model_trainer.cc(258) LOG(INFO) Added: freq=1050 size=460 all=96566 active=7635 piece=리스\n",
      "bpe_model_trainer.cc(258) LOG(INFO) Added: freq=993 size=480 all=97877 active=8946 piece=▁종\n",
      "bpe_model_trainer.cc(258) LOG(INFO) Added: freq=960 size=500 all=99285 active=10354 piece=▁수도\n",
      "bpe_model_trainer.cc(167) LOG(INFO) Updating active symbols. max_freq=959 min_freq=93\n",
      "bpe_model_trainer.cc(258) LOG(INFO) Added: freq=914 size=520 all=100009 active=5662 piece=▁지원\n",
      "bpe_model_trainer.cc(258) LOG(INFO) Added: freq=886 size=540 all=100963 active=6616 piece=▁채\n",
      "bpe_model_trainer.cc(258) LOG(INFO) Added: freq=863 size=560 all=101872 active=7525 piece=장이\n",
      "bpe_model_trainer.cc(258) LOG(INFO) Added: freq=835 size=580 all=102527 active=8180 piece=▁없다\n",
      "bpe_model_trainer.cc(258) LOG(INFO) Added: freq=809 size=600 all=103222 active=8875 piece=▁휴\n",
      "bpe_model_trainer.cc(167) LOG(INFO) Updating active symbols. max_freq=808 min_freq=87\n",
      "bpe_model_trainer.cc(258) LOG(INFO) Added: freq=778 size=620 all=104234 active=6140 piece=▁나타\n",
      "bpe_model_trainer.cc(258) LOG(INFO) Added: freq=758 size=640 all=105000 active=6906 piece=▁a\n",
      "bpe_model_trainer.cc(258) LOG(INFO) Added: freq=739 size=660 all=106070 active=7976 piece=▁the\n",
      "bpe_model_trainer.cc(258) LOG(INFO) Added: freq=722 size=680 all=107085 active=8991 piece=▁K\n",
      "bpe_model_trainer.cc(258) LOG(INFO) Added: freq=706 size=700 all=107900 active=9806 piece=▁폐\n",
      "bpe_model_trainer.cc(167) LOG(INFO) Updating active symbols. max_freq=705 min_freq=81\n",
      "bpe_model_trainer.cc(258) LOG(INFO) Added: freq=686 size=720 all=109102 active=6554 piece=▁각\n",
      "bpe_model_trainer.cc(258) LOG(INFO) Added: freq=664 size=740 all=109988 active=7440 piece=ing\n",
      "bpe_model_trainer.cc(258) LOG(INFO) Added: freq=651 size=760 all=111188 active=8640 piece=▁방송\n",
      "bpe_model_trainer.cc(258) LOG(INFO) Added: freq=627 size=780 all=111910 active=9362 piece=인을\n",
      "bpe_model_trainer.cc(258) LOG(INFO) Added: freq=611 size=800 all=112988 active=10440 piece=▁받아\n",
      "bpe_model_trainer.cc(167) LOG(INFO) Updating active symbols. max_freq=610 min_freq=75\n",
      "bpe_model_trainer.cc(258) LOG(INFO) Added: freq=597 size=820 all=113726 active=6364 piece=▁의회\n",
      "bpe_model_trainer.cc(258) LOG(INFO) Added: freq=584 size=840 all=114502 active=7140 piece=▁2008\n",
      "bpe_model_trainer.cc(258) LOG(INFO) Added: freq=572 size=860 all=115558 active=8196 piece=▁골\n",
      "bpe_model_trainer.cc(258) LOG(INFO) Added: freq=553 size=880 all=116451 active=9089 piece=▁승리\n",
      "bpe_model_trainer.cc(258) LOG(INFO) Added: freq=540 size=900 all=117389 active=10027 piece=▁소속\n",
      "bpe_model_trainer.cc(167) LOG(INFO) Updating active symbols. max_freq=540 min_freq=71\n",
      "bpe_model_trainer.cc(258) LOG(INFO) Added: freq=533 size=920 all=118207 active=6670 piece=▁사진\n",
      "bpe_model_trainer.cc(258) LOG(INFO) Added: freq=521 size=940 all=118926 active=7389 piece=▁24\n",
      "bpe_model_trainer.cc(258) LOG(INFO) Added: freq=508 size=960 all=119724 active=8187 piece=자들을\n",
      "bpe_model_trainer.cc(258) LOG(INFO) Added: freq=499 size=980 all=120621 active=9084 piece=▁보호\n",
      "bpe_model_trainer.cc(258) LOG(INFO) Added: freq=489 size=1000 all=121556 active=10019 piece=▁22\n",
      "bpe_model_trainer.cc(167) LOG(INFO) Updating active symbols. max_freq=489 min_freq=67\n",
      "bpe_model_trainer.cc(258) LOG(INFO) Added: freq=475 size=1020 all=122136 active=6641 piece=대의\n",
      "bpe_model_trainer.cc(258) LOG(INFO) Added: freq=461 size=1040 all=123133 active=7638 piece=▁몰\n",
      "bpe_model_trainer.cc(258) LOG(INFO) Added: freq=453 size=1060 all=123897 active=8402 piece=▁오후\n",
      "bpe_model_trainer.cc(258) LOG(INFO) Added: freq=442 size=1080 all=124582 active=9087 piece=▁선수\n",
      "bpe_model_trainer.cc(258) LOG(INFO) Added: freq=430 size=1100 all=125174 active=9679 piece=카에\n",
      "bpe_model_trainer.cc(167) LOG(INFO) Updating active symbols. max_freq=429 min_freq=63\n",
      "bpe_model_trainer.cc(258) LOG(INFO) Added: freq=423 size=1120 all=125908 active=6981 piece=▁시민\n",
      "bpe_model_trainer.cc(258) LOG(INFO) Added: freq=414 size=1140 all=126439 active=7512 piece=▁사태\n",
      "bpe_model_trainer.cc(258) LOG(INFO) Added: freq=406 size=1160 all=127264 active=8337 piece=국의\n",
      "bpe_model_trainer.cc(258) LOG(INFO) Added: freq=397 size=1180 all=128061 active=9134 piece=▁부인\n",
      "bpe_model_trainer.cc(258) LOG(INFO) Added: freq=393 size=1200 all=128731 active=9804 piece=▁백악관\n",
      "bpe_model_trainer.cc(167) LOG(INFO) Updating active symbols. max_freq=393 min_freq=61\n",
      "bpe_model_trainer.cc(258) LOG(INFO) Added: freq=388 size=1220 all=129605 active=7298 piece=▁충돌\n",
      "bpe_model_trainer.cc(258) LOG(INFO) Added: freq=384 size=1240 all=130293 active=7986 piece=▁수감\n",
      "bpe_model_trainer.cc(258) LOG(INFO) Added: freq=377 size=1260 all=130992 active=8685 piece=합니다\n",
      "bpe_model_trainer.cc(258) LOG(INFO) Added: freq=371 size=1280 all=131855 active=9548 piece=▁이상의\n",
      "bpe_model_trainer.cc(258) LOG(INFO) Added: freq=365 size=1300 all=132534 active=10227 piece=▁이전\n",
      "bpe_model_trainer.cc(167) LOG(INFO) Updating active symbols. max_freq=365 min_freq=58\n",
      "bpe_model_trainer.cc(258) LOG(INFO) Added: freq=360 size=1320 all=133153 active=7219 piece=▁사망했다\n",
      "bpe_model_trainer.cc(258) LOG(INFO) Added: freq=352 size=1340 all=133685 active=7751 piece=▁동영\n",
      "bpe_model_trainer.cc(258) LOG(INFO) Added: freq=346 size=1360 all=134204 active=8270 piece=스터\n",
      "bpe_model_trainer.cc(258) LOG(INFO) Added: freq=341 size=1380 all=134948 active=9014 piece=▁불구하고\n",
      "bpe_model_trainer.cc(258) LOG(INFO) Added: freq=335 size=1400 all=135581 active=9647 piece=▁지진\n",
      "bpe_model_trainer.cc(167) LOG(INFO) Updating active symbols. max_freq=335 min_freq=55\n",
      "bpe_model_trainer.cc(258) LOG(INFO) Added: freq=328 size=1420 all=136186 active=7363 piece=▁놀\n",
      "bpe_model_trainer.cc(258) LOG(INFO) Added: freq=324 size=1440 all=136982 active=8159 piece=후보\n",
      "bpe_model_trainer.cc(258) LOG(INFO) Added: freq=320 size=1460 all=137580 active=8757 piece=▁서비\n",
      "bpe_model_trainer.cc(258) LOG(INFO) Added: freq=314 size=1480 all=138121 active=9298 piece=us\n",
      "bpe_model_trainer.cc(258) LOG(INFO) Added: freq=310 size=1500 all=138646 active=9823 piece=지구\n",
      "bpe_model_trainer.cc(167) LOG(INFO) Updating active symbols. max_freq=310 min_freq=53\n",
      "bpe_model_trainer.cc(258) LOG(INFO) Added: freq=308 size=1520 all=139149 active=7402 piece=▁인한\n",
      "bpe_model_trainer.cc(258) LOG(INFO) Added: freq=305 size=1540 all=139874 active=8127 piece=▁계획을\n",
      "bpe_model_trainer.cc(258) LOG(INFO) Added: freq=300 size=1560 all=140342 active=8595 piece=▁이뤄\n",
      "bpe_model_trainer.cc(258) LOG(INFO) Added: freq=296 size=1580 all=140928 active=9181 piece=이를\n",
      "bpe_model_trainer.cc(258) LOG(INFO) Added: freq=291 size=1600 all=141753 active=10006 piece=차례\n",
      "bpe_model_trainer.cc(167) LOG(INFO) Updating active symbols. max_freq=291 min_freq=51\n",
      "bpe_model_trainer.cc(258) LOG(INFO) Added: freq=287 size=1620 all=142342 active=7658 piece=▁윌리\n",
      "bpe_model_trainer.cc(258) LOG(INFO) Added: freq=283 size=1640 all=143021 active=8337 piece=▁선택\n",
      "bpe_model_trainer.cc(258) LOG(INFO) Added: freq=279 size=1660 all=143853 active=9169 piece=▁한국의\n",
      "bpe_model_trainer.cc(258) LOG(INFO) Added: freq=275 size=1680 all=144262 active=9578 piece=텍사\n",
      "bpe_model_trainer.cc(258) LOG(INFO) Added: freq=272 size=1700 all=144636 active=9952 piece=▁시장\n",
      "bpe_model_trainer.cc(167) LOG(INFO) Updating active symbols. max_freq=272 min_freq=49\n",
      "bpe_model_trainer.cc(258) LOG(INFO) Added: freq=268 size=1720 all=145091 active=7650 piece=▁끌\n",
      "bpe_model_trainer.cc(258) LOG(INFO) Added: freq=264 size=1740 all=145496 active=8055 piece=ers\n",
      "bpe_model_trainer.cc(258) LOG(INFO) Added: freq=260 size=1760 all=146082 active=8641 piece=▁비상\n",
      "bpe_model_trainer.cc(258) LOG(INFO) Added: freq=256 size=1780 all=146726 active=9285 piece=▁샌\n",
      "bpe_model_trainer.cc(258) LOG(INFO) Added: freq=253 size=1800 all=147210 active=9769 piece=▁보였다\n",
      "bpe_model_trainer.cc(167) LOG(INFO) Updating active symbols. max_freq=253 min_freq=48\n",
      "bpe_model_trainer.cc(258) LOG(INFO) Added: freq=250 size=1820 all=147710 active=7859 piece=▁사업\n",
      "bpe_model_trainer.cc(258) LOG(INFO) Added: freq=246 size=1840 all=148298 active=8447 piece=군의\n",
      "bpe_model_trainer.cc(258) LOG(INFO) Added: freq=244 size=1860 all=148901 active=9050 piece=▁한나라당\n",
      "bpe_model_trainer.cc(258) LOG(INFO) Added: freq=240 size=1880 all=149555 active=9704 piece=▁따라\n",
      "bpe_model_trainer.cc(258) LOG(INFO) Added: freq=237 size=1900 all=150341 active=10490 piece=으로써\n",
      "bpe_model_trainer.cc(167) LOG(INFO) Updating active symbols. max_freq=237 min_freq=46\n",
      "bpe_model_trainer.cc(258) LOG(INFO) Added: freq=235 size=1920 all=150923 active=8056 piece=▁부모\n",
      "bpe_model_trainer.cc(258) LOG(INFO) Added: freq=233 size=1940 all=151336 active=8469 piece=▁의원은\n",
      "bpe_model_trainer.cc(258) LOG(INFO) Added: freq=229 size=1960 all=151810 active=8943 piece=▁사망자\n",
      "bpe_model_trainer.cc(258) LOG(INFO) Added: freq=226 size=1980 all=152221 active=9354 piece=▁특히\n",
      "bpe_model_trainer.cc(258) LOG(INFO) Added: freq=224 size=2000 all=152707 active=9840 piece=▁월요일\n",
      "bpe_model_trainer.cc(167) LOG(INFO) Updating active symbols. max_freq=224 min_freq=45\n",
      "bpe_model_trainer.cc(258) LOG(INFO) Added: freq=221 size=2020 all=153338 active=8254 piece=▁되어\n",
      "bpe_model_trainer.cc(258) LOG(INFO) Added: freq=218 size=2040 all=153757 active=8673 piece=im\n",
      "bpe_model_trainer.cc(258) LOG(INFO) Added: freq=216 size=2060 all=154273 active=9189 piece=소에\n",
      "bpe_model_trainer.cc(258) LOG(INFO) Added: freq=213 size=2080 all=154856 active=9772 piece=운티\n",
      "bpe_model_trainer.cc(258) LOG(INFO) Added: freq=211 size=2100 all=155287 active=10203 piece=▁서로\n",
      "bpe_model_trainer.cc(167) LOG(INFO) Updating active symbols. max_freq=211 min_freq=43\n",
      "bpe_model_trainer.cc(258) LOG(INFO) Added: freq=210 size=2120 all=155776 active=8245 piece=▁밝혀졌다\n",
      "bpe_model_trainer.cc(258) LOG(INFO) Added: freq=206 size=2140 all=156463 active=8932 piece=▁위반\n",
      "bpe_model_trainer.cc(258) LOG(INFO) Added: freq=204 size=2160 all=156912 active=9381 piece=▁동맹\n",
      "bpe_model_trainer.cc(258) LOG(INFO) Added: freq=203 size=2180 all=157599 active=10068 piece=책을\n",
      "bpe_model_trainer.cc(258) LOG(INFO) Added: freq=201 size=2200 all=158065 active=10534 piece=IA\n",
      "bpe_model_trainer.cc(167) LOG(INFO) Updating active symbols. max_freq=201 min_freq=41\n",
      "bpe_model_trainer.cc(258) LOG(INFO) Added: freq=200 size=2220 all=158689 active=8505 piece=▁시즌\n",
      "bpe_model_trainer.cc(258) LOG(INFO) Added: freq=199 size=2240 all=159178 active=8994 piece=▁프로그램을\n",
      "bpe_model_trainer.cc(258) LOG(INFO) Added: freq=197 size=2260 all=159622 active=9438 piece=▁않아\n",
      "bpe_model_trainer.cc(258) LOG(INFO) Added: freq=195 size=2280 all=160134 active=9950 piece=명으로\n",
      "bpe_model_trainer.cc(258) LOG(INFO) Added: freq=193 size=2300 all=160657 active=10473 piece=▁80\n",
      "bpe_model_trainer.cc(167) LOG(INFO) Updating active symbols. max_freq=193 min_freq=40\n",
      "bpe_model_trainer.cc(258) LOG(INFO) Added: freq=191 size=2320 all=160937 active=8303 piece=지에서\n",
      "bpe_model_trainer.cc(258) LOG(INFO) Added: freq=189 size=2340 all=161665 active=9031 piece=▁그룹\n",
      "bpe_model_trainer.cc(258) LOG(INFO) Added: freq=188 size=2360 all=162110 active=9476 piece=▁The\n",
      "bpe_model_trainer.cc(258) LOG(INFO) Added: freq=186 size=2380 all=162540 active=9906 piece=▁되고\n",
      "bpe_model_trainer.cc(258) LOG(INFO) Added: freq=184 size=2400 all=162933 active=10299 piece=니스\n",
      "bpe_model_trainer.cc(167) LOG(INFO) Updating active symbols. max_freq=184 min_freq=39\n",
      "bpe_model_trainer.cc(258) LOG(INFO) Added: freq=182 size=2420 all=163449 active=8615 piece=▁수단\n",
      "bpe_model_trainer.cc(258) LOG(INFO) Added: freq=179 size=2440 all=163807 active=8973 piece=▁경영\n",
      "bpe_model_trainer.cc(258) LOG(INFO) Added: freq=178 size=2460 all=164193 active=9359 piece=▁아직까지\n",
      "bpe_model_trainer.cc(258) LOG(INFO) Added: freq=175 size=2480 all=164562 active=9728 piece=▁l\n",
      "bpe_model_trainer.cc(258) LOG(INFO) Added: freq=174 size=2500 all=165025 active=10191 piece=▁해야\n",
      "bpe_model_trainer.cc(167) LOG(INFO) Updating active symbols. max_freq=174 min_freq=38\n",
      "bpe_model_trainer.cc(258) LOG(INFO) Added: freq=172 size=2520 all=165399 active=8617 piece=▁달러를\n",
      "bpe_model_trainer.cc(258) LOG(INFO) Added: freq=171 size=2540 all=165768 active=8986 piece=트에서\n",
      "bpe_model_trainer.cc(258) LOG(INFO) Added: freq=169 size=2560 all=166171 active=9389 piece=리로\n",
      "bpe_model_trainer.cc(258) LOG(INFO) Added: freq=168 size=2580 all=166772 active=9990 piece=▁도움을\n",
      "bpe_model_trainer.cc(258) LOG(INFO) Added: freq=166 size=2600 all=167173 active=10391 piece=▁능\n",
      "bpe_model_trainer.cc(167) LOG(INFO) Updating active symbols. max_freq=166 min_freq=37\n",
      "bpe_model_trainer.cc(258) LOG(INFO) Added: freq=165 size=2620 all=167543 active=8720 piece=▁지시\n",
      "bpe_model_trainer.cc(258) LOG(INFO) Added: freq=163 size=2640 all=167892 active=9069 piece=▁론\n",
      "bpe_model_trainer.cc(258) LOG(INFO) Added: freq=162 size=2660 all=168369 active=9546 piece=▁힘들\n",
      "bpe_model_trainer.cc(258) LOG(INFO) Added: freq=161 size=2680 all=168824 active=10001 piece=▁con\n",
      "bpe_model_trainer.cc(258) LOG(INFO) Added: freq=159 size=2700 all=169192 active=10369 piece=▁오바마가\n",
      "bpe_model_trainer.cc(167) LOG(INFO) Updating active symbols. max_freq=158 min_freq=36\n",
      "bpe_model_trainer.cc(258) LOG(INFO) Added: freq=157 size=2720 all=169585 active=8853 piece=▁어느\n",
      "bpe_model_trainer.cc(258) LOG(INFO) Added: freq=156 size=2740 all=170095 active=9363 piece=▁주의\n",
      "bpe_model_trainer.cc(258) LOG(INFO) Added: freq=155 size=2760 all=170547 active=9815 piece=▁비난을\n",
      "bpe_model_trainer.cc(258) LOG(INFO) Added: freq=153 size=2780 all=170886 active=10154 piece=BI\n",
      "bpe_model_trainer.cc(258) LOG(INFO) Added: freq=152 size=2800 all=171549 active=10817 piece=▁세금\n",
      "bpe_model_trainer.cc(167) LOG(INFO) Updating active symbols. max_freq=152 min_freq=35\n",
      "bpe_model_trainer.cc(258) LOG(INFO) Added: freq=151 size=2820 all=171787 active=8801 piece=▁탁\n",
      "bpe_model_trainer.cc(258) LOG(INFO) Added: freq=150 size=2840 all=172258 active=9272 piece=▁넘는\n",
      "bpe_model_trainer.cc(258) LOG(INFO) Added: freq=149 size=2860 all=172657 active=9671 piece=▁목숨을\n",
      "bpe_model_trainer.cc(258) LOG(INFO) Added: freq=147 size=2880 all=173075 active=10089 piece=TO\n",
      "bpe_model_trainer.cc(258) LOG(INFO) Added: freq=146 size=2900 all=173440 active=10454 piece=▁거절\n",
      "bpe_model_trainer.cc(167) LOG(INFO) Updating active symbols. max_freq=146 min_freq=34\n",
      "bpe_model_trainer.cc(258) LOG(INFO) Added: freq=145 size=2920 all=173766 active=8963 piece=▁불안\n",
      "bpe_model_trainer.cc(258) LOG(INFO) Added: freq=144 size=2940 all=174091 active=9288 piece=▁조종\n",
      "bpe_model_trainer.cc(258) LOG(INFO) Added: freq=143 size=2960 all=174672 active=9869 piece=이지만\n",
      "bpe_model_trainer.cc(258) LOG(INFO) Added: freq=142 size=2980 all=175260 active=10457 piece=▁동원\n",
      "bpe_model_trainer.cc(258) LOG(INFO) Added: freq=141 size=3000 all=175623 active=10820 piece=▁평양\n",
      "bpe_model_trainer.cc(167) LOG(INFO) Updating active symbols. max_freq=141 min_freq=33\n",
      "bpe_model_trainer.cc(258) LOG(INFO) Added: freq=140 size=3020 all=175923 active=9063 piece=▁블로그\n",
      "bpe_model_trainer.cc(258) LOG(INFO) Added: freq=139 size=3040 all=176538 active=9678 piece=▁관련해\n",
      "bpe_model_trainer.cc(258) LOG(INFO) Added: freq=138 size=3060 all=176853 active=9993 piece=▁집단\n",
      "bpe_model_trainer.cc(258) LOG(INFO) Added: freq=137 size=3080 all=177344 active=10484 piece=▁병력\n",
      "bpe_model_trainer.cc(258) LOG(INFO) Added: freq=136 size=3100 all=177707 active=10847 piece=▁임무\n",
      "bpe_model_trainer.cc(167) LOG(INFO) Updating active symbols. max_freq=136 min_freq=33\n",
      "bpe_model_trainer.cc(258) LOG(INFO) Added: freq=135 size=3120 all=178036 active=9191 piece=▁사무실\n",
      "bpe_model_trainer.cc(258) LOG(INFO) Added: freq=134 size=3140 all=178364 active=9519 piece=▁점을\n",
      "bpe_model_trainer.cc(258) LOG(INFO) Added: freq=133 size=3160 all=178730 active=9885 piece=▁크리스토\n",
      "bpe_model_trainer.cc(258) LOG(INFO) Added: freq=132 size=3180 all=179081 active=10236 piece=join\n",
      "bpe_model_trainer.cc(258) LOG(INFO) Added: freq=131 size=3200 all=179429 active=10584 piece=▁작년\n",
      "bpe_model_trainer.cc(167) LOG(INFO) Updating active symbols. max_freq=131 min_freq=32\n",
      "bpe_model_trainer.cc(258) LOG(INFO) Added: freq=130 size=3220 all=179662 active=9202 piece=▁것도\n",
      "bpe_model_trainer.cc(258) LOG(INFO) Added: freq=129 size=3240 all=179961 active=9501 piece=분이\n",
      "bpe_model_trainer.cc(258) LOG(INFO) Added: freq=128 size=3260 all=180452 active=9992 piece=▁기본\n",
      "bpe_model_trainer.cc(258) LOG(INFO) Added: freq=127 size=3280 all=180817 active=10357 piece=▁저항\n",
      "bpe_model_trainer.cc(258) LOG(INFO) Added: freq=126 size=3300 all=181086 active=10626 piece=▁산불\n",
      "bpe_model_trainer.cc(167) LOG(INFO) Updating active symbols. max_freq=126 min_freq=31\n",
      "bpe_model_trainer.cc(258) LOG(INFO) Added: freq=125 size=3320 all=181323 active=9283 piece=만의\n",
      "bpe_model_trainer.cc(258) LOG(INFO) Added: freq=125 size=3340 all=181793 active=9753 piece=▁부시는\n",
      "bpe_model_trainer.cc(258) LOG(INFO) Added: freq=124 size=3360 all=182129 active=10089 piece=▁연장\n",
      "bpe_model_trainer.cc(258) LOG(INFO) Added: freq=124 size=3380 all=182369 active=10329 piece=▁전망이다\n",
      "bpe_model_trainer.cc(258) LOG(INFO) Added: freq=123 size=3400 all=182764 active=10724 piece=▁허가\n",
      "bpe_model_trainer.cc(167) LOG(INFO) Updating active symbols. max_freq=123 min_freq=31\n",
      "bpe_model_trainer.cc(258) LOG(INFO) Added: freq=122 size=3420 all=183104 active=9448 piece=▁사망했으며\n",
      "bpe_model_trainer.cc(258) LOG(INFO) Added: freq=121 size=3440 all=183434 active=9778 piece=▁대통령에게\n",
      "bpe_model_trainer.cc(258) LOG(INFO) Added: freq=119 size=3460 all=183674 active=10018 piece=//\n",
      "bpe_model_trainer.cc(258) LOG(INFO) Added: freq=119 size=3480 all=184031 active=10375 piece=▁기록을\n",
      "bpe_model_trainer.cc(258) LOG(INFO) Added: freq=118 size=3500 all=184229 active=10573 piece=소로\n",
      "bpe_model_trainer.cc(167) LOG(INFO) Updating active symbols. max_freq=118 min_freq=30\n",
      "bpe_model_trainer.cc(258) LOG(INFO) Added: freq=118 size=3520 all=184718 active=9661 piece=▁경찰과\n",
      "bpe_model_trainer.cc(258) LOG(INFO) Added: freq=117 size=3540 all=185065 active=10008 piece=▁배럴\n",
      "bpe_model_trainer.cc(258) LOG(INFO) Added: freq=116 size=3560 all=185190 active=10133 piece=▁윤\n",
      "bpe_model_trainer.cc(258) LOG(INFO) Added: freq=116 size=3580 all=185598 active=10541 piece=▁지급\n",
      "bpe_model_trainer.cc(258) LOG(INFO) Added: freq=115 size=3600 all=185829 active=10772 piece=10\n",
      "bpe_model_trainer.cc(167) LOG(INFO) Updating active symbols. max_freq=115 min_freq=29\n",
      "bpe_model_trainer.cc(258) LOG(INFO) Added: freq=114 size=3620 all=186179 active=9604 piece=▁당한\n",
      "bpe_model_trainer.cc(258) LOG(INFO) Added: freq=114 size=3640 all=186397 active=9822 piece=▁이들이\n",
      "bpe_model_trainer.cc(258) LOG(INFO) Added: freq=113 size=3660 all=186813 active=10238 piece=▁우크라이나\n",
      "bpe_model_trainer.cc(258) LOG(INFO) Added: freq=112 size=3680 all=187284 active=10709 piece=▁최소한\n",
      "bpe_model_trainer.cc(258) LOG(INFO) Added: freq=111 size=3700 all=187696 active=11121 piece=▁형태\n",
      "bpe_model_trainer.cc(167) LOG(INFO) Updating active symbols. max_freq=111 min_freq=29\n",
      "bpe_model_trainer.cc(258) LOG(INFO) Added: freq=110 size=3720 all=187947 active=9623 piece=수도\n",
      "bpe_model_trainer.cc(258) LOG(INFO) Added: freq=110 size=3740 all=188147 active=9823 piece=▁테러를\n",
      "bpe_model_trainer.cc(258) LOG(INFO) Added: freq=109 size=3760 all=188467 active=10143 piece=▁자국\n",
      "bpe_model_trainer.cc(258) LOG(INFO) Added: freq=108 size=3780 all=188827 active=10503 piece=오와\n",
      "bpe_model_trainer.cc(258) LOG(INFO) Added: freq=107 size=3800 all=189268 active=10944 piece=비는\n",
      "bpe_model_trainer.cc(167) LOG(INFO) Updating active symbols. max_freq=107 min_freq=28\n",
      "bpe_model_trainer.cc(258) LOG(INFO) Added: freq=107 size=3820 all=189535 active=9693 piece=▁준비가\n",
      "bpe_model_trainer.cc(258) LOG(INFO) Added: freq=106 size=3840 all=189828 active=9986 piece=관들은\n",
      "bpe_model_trainer.cc(258) LOG(INFO) Added: freq=105 size=3860 all=190151 active=10309 piece=ine\n",
      "bpe_model_trainer.cc(258) LOG(INFO) Added: freq=105 size=3880 all=190533 active=10691 piece=▁테러가\n",
      "bpe_model_trainer.cc(258) LOG(INFO) Added: freq=104 size=3900 all=190759 active=10917 piece=▁긴장\n",
      "bpe_model_trainer.cc(167) LOG(INFO) Updating active symbols. max_freq=104 min_freq=28\n",
      "bpe_model_trainer.cc(258) LOG(INFO) Added: freq=104 size=3920 all=191140 active=9898 piece=▁위협을\n",
      "bpe_model_trainer.cc(258) LOG(INFO) Added: freq=103 size=3940 all=191654 active=10412 piece=▁와인\n",
      "bpe_model_trainer.cc(258) LOG(INFO) Added: freq=102 size=3960 all=191956 active=10714 piece=▁앓\n",
      "bpe_model_trainer.cc(258) LOG(INFO) Added: freq=102 size=3980 all=192281 active=11039 piece=▁않으면\n",
      "bpe_model_trainer.cc(258) LOG(INFO) Added: freq=101 size=4000 all=192494 active=11252 piece=▁내놓\n",
      "bpe_model_trainer.cc(167) LOG(INFO) Updating active symbols. max_freq=101 min_freq=27\n",
      "bpe_model_trainer.cc(258) LOG(INFO) Added: freq=101 size=4020 all=192656 active=9768 piece=▁구체적인\n",
      "bpe_model_trainer.cc(258) LOG(INFO) Added: freq=100 size=4040 all=192950 active=10062 piece=▁나달\n",
      "bpe_model_trainer.cc(258) LOG(INFO) Added: freq=100 size=4060 all=193106 active=10218 piece=▁했으며\n",
      "bpe_model_trainer.cc(258) LOG(INFO) Added: freq=99 size=4080 all=193512 active=10624 piece=▁인정했다\n",
      "bpe_model_trainer.cc(258) LOG(INFO) Added: freq=98 size=4100 all=193891 active=11003 piece=▁불참\n",
      "bpe_model_trainer.cc(167) LOG(INFO) Updating active symbols. max_freq=98 min_freq=27\n",
      "bpe_model_trainer.cc(258) LOG(INFO) Added: freq=98 size=4120 all=194124 active=9906 piece=▁테이프\n",
      "bpe_model_trainer.cc(258) LOG(INFO) Added: freq=97 size=4140 all=194366 active=10148 piece=▁음반\n",
      "bpe_model_trainer.cc(258) LOG(INFO) Added: freq=97 size=4160 all=194531 active=10313 piece=▁맨체스터\n",
      "bpe_model_trainer.cc(258) LOG(INFO) Added: freq=96 size=4180 all=194864 active=10646 piece=▁브루\n",
      "bpe_model_trainer.cc(258) LOG(INFO) Added: freq=96 size=4200 a"
     ]
    },
    {
     "name": "stdout",
     "output_type": "stream",
     "text": [
      "-rw-r--r-- 1 root root 371936 Nov 20 07:53 korean_spm.model\r\n",
      "-rw-r--r-- 1 root root 117142 Nov 20 07:53 korean_spm.vocab\r\n"
     ]
    }
   ],
   "source": [
    "spm.SentencePieceTrainer.Train(\n",
    "    '--input={} --model_prefix=korean_spm --model_type=bpe --vocab_size={}'.format(temp_file, vocab_size)    \n",
    ")\n",
    "#위 Train에서  --model_type = 'unigram'이 디폴트 적용되어 있습니다. --model_type = 'bpe' 로 옵션을 주어 변경할 수 있습니다.\n",
    "\n",
    "!ls -l korean_spm*"
   ]
  },
  {
   "cell_type": "markdown",
   "id": "d32c45e5",
   "metadata": {},
   "source": [
    "trainer_spec의 네 번째 특성에 `model_type: BPE`가 추가된 것을 볼 수 있습니다."
   ]
  },
  {
   "cell_type": "code",
   "execution_count": 64,
   "id": "20fff05c",
   "metadata": {},
   "outputs": [
    {
     "name": "stdout",
     "output_type": "stream",
     "text": [
      "[1520, 1154, 6614, 6710, 2644, 6782, 6685, 6687]\n",
      "['▁아버', '지가', '방에', '들', '어가', '신', '다', '.']\n",
      "아버지가방에들어가신다.\n"
     ]
    }
   ],
   "source": [
    "s = spm.SentencePieceProcessor()\n",
    "s.Load('korean_spm.model')\n",
    "\n",
    "# SentencePiece를 활용한 sentence -> encoding\n",
    "tokensIDs = s.EncodeAsIds('아버지가방에들어가신다.')\n",
    "print(tokensIDs)\n",
    "\n",
    "# SentencePiece를 활용한 sentence -> encoded pieces\n",
    "print(s.SampleEncodeAsPieces('아버지가방에들어가신다.',1, 0.0))\n",
    "\n",
    "# SentencePiece를 활용한 encoding -> sentence 복원\n",
    "print(s.DecodeIds(tokensIDs))"
   ]
  },
  {
   "cell_type": "markdown",
   "id": "8644e92a",
   "metadata": {},
   "source": [
    "unigram : `▁아버지 가 방 에 들어 가 신 다 .`  \n",
    "    bpe : `▁아버 지가 방에 들 어가 신 다 .`\n",
    "    \n",
    "unigram이 기본값인 이유가 있었던걸까요?\n",
    "\n",
    "좀 더 다양한 문장으로 비교해보기 위해 일단 계속 진행해보겠습니다."
   ]
  },
  {
   "cell_type": "code",
   "execution_count": 65,
   "id": "49ec9b44",
   "metadata": {},
   "outputs": [
    {
     "data": {
      "text/plain": [
       "array([[  20,  173, 7416, ...,    0,    0,    0],\n",
       "       [6683, 7905, 2914, ...,    0,    0,    0],\n",
       "       [1636, 6829,    0, ...,    0,    0,    0],\n",
       "       ...,\n",
       "       [4803, 6720,  586, ...,    0,    0,    0],\n",
       "       [5157, 6683, 7603, ...,    0,    0,    0],\n",
       "       [2343,  143,  141, ...,    0,    0,    0]], dtype=int32)"
      ]
     },
     "execution_count": 65,
     "metadata": {},
     "output_type": "execute_result"
    }
   ],
   "source": [
    "sp_data, word_index, index_word = sp_tokenize(s, data['document'])\n",
    "\n",
    "sp_data"
   ]
  },
  {
   "cell_type": "code",
   "execution_count": 66,
   "id": "dd6320e8",
   "metadata": {},
   "outputs": [
    {
     "data": {
      "text/plain": [
       "13"
      ]
     },
     "execution_count": 66,
     "metadata": {},
     "output_type": "execute_result"
    }
   ],
   "source": [
    "min([sum(tensor) for tensor in sp_data])"
   ]
  },
  {
   "cell_type": "markdown",
   "id": "44ffcf0e",
   "metadata": {},
   "source": [
    "아까부터 SentencePiece는 vocab_size 8000으로도 결측치가 발생하지 않았습니다.\n",
    "\n",
    "아무래도 SentencePiece의 구조적 특징인 것 같네요."
   ]
  },
  {
   "cell_type": "code",
   "execution_count": 67,
   "id": "d50c5ba2",
   "metadata": {},
   "outputs": [
    {
     "name": "stdout",
     "output_type": "stream",
     "text": [
      "(123860, 51)\n",
      "(123860,)\n",
      "(41592, 51)\n",
      "(41592,)\n"
     ]
    }
   ],
   "source": [
    "sp_train = sp_data[:len(train_data)]\n",
    "sp_test = sp_data[-len(test_data):]\n",
    "\n",
    "labels_train = np.asarray(train_data['label']).astype('float32')\n",
    "labels_test = np.asarray(test_data['label']).astype('float32')\n",
    "\n",
    "print(sp_train.shape)\n",
    "print(labels_train.shape)\n",
    "print(sp_test.shape)\n",
    "print(labels_test.shape)"
   ]
  },
  {
   "cell_type": "code",
   "execution_count": 68,
   "id": "8c8519ae",
   "metadata": {},
   "outputs": [
    {
     "name": "stdout",
     "output_type": "stream",
     "text": [
      "['▁아', '▁더', '빙', '..', '▁진', '짜', '▁', '짜', '증', '나', '네', '요', '▁목소', '리'] 0.0\n",
      "['▁', '흠', '..', '포', '스터', '보고', '▁초', '딩', '영화', '줄', '..', '오', '버', '연', '기', '조차', '▁가', '볍', '지', '▁않', '구', '나'] 1.0\n",
      "['▁너무', '재', '었다', '그', '래', '서', '보는', '것을', '추', '천', '한다'] 0.0\n",
      "['▁교도', '소', '▁이야', '기구', '먼', '▁', '..', '솔', '직', '히', '▁재미', '는', '▁없다', '..', '평', '점', '▁조정'] 0.0\n",
      "['▁막', '▁걸', '음', '마', '▁', '▁3', '세', '부터', '▁초', '등', '학교', '▁1', '학', '년', '생', '인', '▁8', '살', '용', '영화', '..', '별', '반', '개', '도', '▁아', '까', '움', '.'] 0.0\n",
      "['▁원', '작', '의', '▁긴장', '감을', '▁제대로', '▁살', '려', '내지', '못', '했다', '.'] 0.0\n",
      "['▁액', '션', '이', '▁없', '는데', '도', '▁재미', '▁있는', '▁몇', '안', '되는', '▁영화'] 1.0\n",
      "['▁왜', '케', '▁평', '점이', '▁낮은', '건', '데', '?', '▁', '꽤', '▁볼', '만한', '데', '..', '▁헐', '리우드', '식', '▁화', '려', '함', '에만', '▁너무', '▁길', '들', '여', '져', '▁있', '나', '?'] 1.0\n",
      "['▁', '인', '피', '니', '트가', '이다', '.', '진', '짜', '이다'] 1.0\n",
      "['▁볼', '때', '마다', '▁눈', '물', '나', '서', '▁죽', '겠다', '9', '0', '년', '대의', '▁향', '수', '자', '극', '!', '허', '진', '호는', '▁감', '성', '절', '제', '멜', '로의', '▁달', '인', '이다', '~'] 1.0\n",
      "['▁울', '면서', '▁손', '들', '고', '▁횡', '단', '보', '도', '▁건', '널', '때', '▁뛰', '쳐', '나', '올', '뻔', '▁이', '범', '수', '▁연기', '▁드', '럽', '게', '못', '해'] 0.0\n",
      "['▁담', '백', '하고', '▁', '깔', '끔', '해서', '▁좋', '다', '.', '▁신문', '기사', '로', '만', '▁보다', '▁보면', '▁자', '꾸', '▁잊', '어버', '린다', '.', '▁그', '들도', '▁사람', '이었다', '는', '▁것을', '.'] 1.0\n",
      "['▁', '냥', '▁매', '번', '▁긴장', '되고', '▁재', '음'] 1.0\n",
      "['▁', '굿', '바이', '▁레', '닌', '▁표', '절', '인', '것은', '▁이해', '하는데', '▁왜', '▁뒤', '로', '▁갈', '수록', '▁재미', '없', '어', '지', '냐'] 0.0\n",
      "['▁이', '건', '▁정말', '▁깨', '알', '▁캐', '스', '팅', '과', '▁질', '퍽', '하지', '않', '은', '▁산', '뜻', '한', '▁내용', '구', '성이', '▁잘', '▁버', '무', '러', '진', '▁깨', '알', '일', '드', '!'] 1.0\n"
     ]
    }
   ],
   "source": [
    "for i, sen in enumerate(sp_train[:15]):\n",
    "    print([index_word[idx] for idx in sen if index_word[idx] != '<unk>'], labels_train[i])"
   ]
  },
  {
   "cell_type": "markdown",
   "id": "6234ceaa",
   "metadata": {},
   "source": [
    "이것만 봐서는 아직 잘 모르겠습니다.\n",
    "\n",
    "unigram을 썻던 모델과 비교해줄 표를 만들어보도록 하죠."
   ]
  },
  {
   "cell_type": "markdown",
   "id": "ea28746e",
   "metadata": {},
   "source": [
    "|원본|unigram|bpe|\n",
    "|:---|:---|:---|\n",
    "|아 더빙.. 진짜 짜증나네요 목소리|▁아 ▁더 빙 . . ▁진 짜 ▁ 짜 증 나 네 요 ▁목소리|▁아 ▁더 빙 .. ▁진 짜 ▁ 짜 증 나 네 요 ▁목소 리|\n",
    "|흠..포스터보고 초딩영화줄..오버연기조차 가볍지 않구나|▁ 흠 . . 포 스터 보 고 ▁초 딩 영화 줄 . . 오 버 연 기 조차 ▁ 가 볍 지 ▁않 구 나|▁ 흠 .. 포 스터 보고 ▁초 딩 영화 줄 .. 오 버 연 기 조차 ▁가 볍 지 ▁않 구 나|\n",
    "|너무재밓었다그래서보는것을추천한다|▁너무 재 었다 그 래 서 보 는 것 을 추 천 한다|▁너무 재 었다 그 래 서 보는 것을 추 천 한다|\n",
    "|교도소 이야기구먼 ..솔직히 재미는 없다..평점 조정|▁교도소 ▁이야기 구 먼 ▁ . . 솔 직 히 ▁재 미 는 ▁없다 . . 평 점 ▁조정|▁교도 소 ▁이야 기구 먼 ▁ .. 솔 직 히 ▁재미 는 ▁없다 .. 평 점 ▁조정|\n",
    "|막 걸음마 뗀 3세부터 초등학교 1학년생인 8살용영화..별반개도 아까움.|▁막 ▁걸 음 마 ▁ ▁3 세 부터 ▁초 등 학교 ▁1 학 년 생 인 ▁8 살 용 영화 . . 별 반 개 도 ▁아 까 움 .|▁막 ▁걸 음 마 ▁ ▁3 세 부터 ▁초 등 학교 ▁1 학 년 생 인 ▁8 살 용 영화 .. 별 반 개 도 ▁아 까 움 .|\n",
    "|원작의 긴장감을 제대로 살려내지못했다.|▁원 작 의 ▁긴장 감 을 ▁ 제대로 ▁살 려 내 지 못 했다 .|▁원 작 의 ▁긴장 감을 ▁제대로 ▁살 려 내지 못 했다 .|\n",
    "|액션이 없는데도 재미 있는 몇안되는 영화|▁ 액 션 이 ▁없는 데 도 ▁재 미 ▁있는 ▁몇 안 되는 ▁영화|▁액 션 이 ▁없 는데 도 ▁재미 ▁있는 ▁몇 안 되는 ▁영화|\n",
    "|왜케 평점이 낮은건데? 꽤 볼만한데.. 헐리우드식 화려함에만 너무 길들여져 있나?|▁왜 케 ▁평 점 이 ▁낮은 건 데 ? ▁ 꽤 ▁볼 만한 데 . . ▁ 헐 리 우드 식 ▁화려 함 에 만 ▁너무 ▁길 들 여 져 ▁있 나 ?|▁왜 케 ▁평 점이 ▁낮은 건 데 ? ▁ 꽤 ▁볼 만한 데 .. ▁헐 리우드 식 ▁화 려 함 에만 ▁너무 ▁길 들 여 져 ▁있 나 ?|\n",
    "|걍인피니트가짱이다.진짜짱이다|▁ 인 피 니 트 가 이다 . 진 짜 이다|▁ 인 피 니 트가 이다 . 진 짜 이다|\n",
    "|볼때마다 눈물나서 죽겠다90년대의 향수자극!허진호는 감성절제멜로의 달인이다~|▁볼 때 마다 ▁눈물 나 서 ▁죽 겠다 90 년대 의 ▁향 수 자 극 ! 허 진 호 는 ▁감 성 절 제 멜 로 의 ▁달 인 이다 ~|▁볼 때 마다 ▁눈 물 나 서 ▁죽 겠다 9 0 년 대의 ▁향 수 자 극 ! 허 진 호는 ▁감 성 절 제 멜 로의 ▁달 인 이다 ~|\n",
    "|울면서 손들고 횡단보도 건널때 뛰쳐나올뻔 이범수 연기 드럽게못해|▁울 면서 ▁손 들 고 ▁ 횡 단 보 도 ▁건 널 때 ▁뛰 쳐 나 올 뻔 ▁이 범 수 ▁연기 ▁드 럽 게 못 해|▁울 면서 ▁손 들 고 ▁횡 단 보 도 ▁건 널 때 ▁뛰 쳐 나 올 뻔 ▁이 범 수 ▁연기 ▁드 럽 게 못 해|\n",
    "|담백하고 깔끔해서 좋다. 신문기사로만 보다 보면 자꾸 잊어버린다. 그들도 사람이었다는 것을.|▁담 백 하고 ▁ 깔 끔 해서 ▁ 좋 다 . ▁신문 기 사 로 만 ▁보다 ▁보면 ▁자 꾸 ▁ 잊 어 버린 다 . ▁그들 도 ▁사람이 었다 는 ▁것을 .|▁담 백 하고 ▁ 깔 끔 해서 ▁좋 다 . ▁신문 기사 로 만 ▁보다 ▁보면 ▁자 꾸 ▁잊 어버 린다 . ▁그 들도 ▁사람 이었다 는 ▁것을 .|\n",
    "|냥 매번 긴장되고 재밋음|▁ 냥 ▁매 번 ▁긴장 되고 ▁재 음|▁ 냥 ▁매 번 ▁긴장 되고 ▁재 음|\n",
    "|굿바이 레닌 표절인것은 이해하는데 왜 뒤로 갈수록 재미없어지냐|▁ 굿 바이 ▁레 닌 ▁표 절 인 것 은 ▁이해 하는데 ▁왜 ▁뒤 로 ▁갈 수록 ▁재 미 없 어 지 냐|▁ 굿 바이 ▁레 닌 ▁표 절 인 것은 ▁이해 하는데 ▁왜 ▁뒤 로 ▁갈 수록 ▁재미 없 어 지 냐|\n",
    "|이건 정말 깨알 캐스팅과 질퍽하지않은 산뜻한 내용구성이 잘 버무러진 깨알일드!|▁이 건 ▁정말 ▁깨 알 ▁캐 스 팅 과 ▁질 퍽 하지 않 은 ▁산 뜻 한 ▁내용 구 성이 ▁잘 ▁버 무 러 진 ▁깨 알 일 드 !|▁이 건 ▁정말 ▁깨 알 ▁캐 스 팅 과 ▁질 퍽 하지 않 은 ▁산 뜻 한 ▁내용 구 성이 ▁잘 ▁버 무 러 진 ▁깨 알 일 드 !|"
   ]
  },
  {
   "cell_type": "markdown",
   "id": "a4e31d1a",
   "metadata": {},
   "source": [
    "잘 모르겠는데요. 그냥 둘 다 형편없습니다.\n",
    "\n",
    "그나마 unigram은 의미 있게 형태소를 분리하는 것 같긴 하나, 거의 대부분은 음절 단위로 분리해버렸습니다.\n",
    "\n",
    "bpe는 unigram보다는 좀 더 다양한 분리가 시도되었지만 그게 의미가 없을 것 같은 분리라는 것이 흠이네요.\n",
    "\n",
    "특히 bpe는 `.`과 `..`을 다르게 보는 것에서 인상깊었습니다.\n",
    "\n",
    "그럼 모델에 넣어보도록 하죠."
   ]
  },
  {
   "cell_type": "code",
   "execution_count": 69,
   "id": "b0757b96",
   "metadata": {},
   "outputs": [
    {
     "name": "stdout",
     "output_type": "stream",
     "text": [
      "(103860, 51)\n",
      "(20000, 51)\n"
     ]
    }
   ],
   "source": [
    "val_num = 20000\n",
    "\n",
    "X_train = sp_train[:-val_num]\n",
    "y_train = labels_train[:-val_num]\n",
    "\n",
    "X_val = sp_train[-val_num:]\n",
    "y_val = labels_train[-val_num:]\n",
    "\n",
    "print(X_train.shape)\n",
    "print(X_val.shape)"
   ]
  },
  {
   "cell_type": "code",
   "execution_count": 70,
   "id": "cb92c0fe",
   "metadata": {},
   "outputs": [
    {
     "name": "stdout",
     "output_type": "stream",
     "text": [
      "Model: \"sequential_3\"\n",
      "_________________________________________________________________\n",
      "Layer (type)                 Output Shape              Param #   \n",
      "=================================================================\n",
      "embedding_3 (Embedding)      (None, None, 51)          408000    \n",
      "_________________________________________________________________\n",
      "lstm_3 (LSTM)                (None, 16)                4352      \n",
      "_________________________________________________________________\n",
      "dense_6 (Dense)              (None, 16)                272       \n",
      "_________________________________________________________________\n",
      "dropout_3 (Dropout)          (None, 16)                0         \n",
      "_________________________________________________________________\n",
      "dense_7 (Dense)              (None, 1)                 17        \n",
      "=================================================================\n",
      "Total params: 412,641\n",
      "Trainable params: 412,641\n",
      "Non-trainable params: 0\n",
      "_________________________________________________________________\n"
     ]
    }
   ],
   "source": [
    "word_vector_dim = 51\n",
    "\n",
    "tf.random.set_seed(1337) # 시드 1337 고정\n",
    "\n",
    "model = tf.keras.Sequential() # RNN\n",
    "model.add(tf.keras.layers.Embedding(vocab_size, word_vector_dim, input_shape=(None,)))\n",
    "model.add(tf.keras.layers.LSTM(16))\n",
    "model.add(tf.keras.layers.Dense(16, activation='relu'))\n",
    "model.add(tf.keras.layers.Dropout(rate=0.3)) # 드랍아웃 추가\n",
    "model.add(tf.keras.layers.Dense(1, activation='sigmoid'))\n",
    "\n",
    "model.summary()"
   ]
  },
  {
   "cell_type": "code",
   "execution_count": 71,
   "id": "43eef4fb",
   "metadata": {},
   "outputs": [
    {
     "name": "stdout",
     "output_type": "stream",
     "text": [
      "Epoch 1/15\n",
      "203/203 [==============================] - 5s 12ms/step - loss: 0.6932 - accuracy: 0.4977 - val_loss: 0.6932 - val_accuracy: 0.4994\n",
      "Epoch 2/15\n",
      "203/203 [==============================] - 1s 6ms/step - loss: 0.6932 - accuracy: 0.5001 - val_loss: 0.6932 - val_accuracy: 0.4994\n",
      "Epoch 3/15\n",
      "203/203 [==============================] - 1s 6ms/step - loss: 0.6932 - accuracy: 0.4978 - val_loss: 0.6931 - val_accuracy: 0.5208\n",
      "Epoch 4/15\n",
      "203/203 [==============================] - 1s 6ms/step - loss: 0.6799 - accuracy: 0.5356 - val_loss: 0.5622 - val_accuracy: 0.7487\n",
      "Epoch 5/15\n",
      "203/203 [==============================] - 1s 6ms/step - loss: 0.4618 - accuracy: 0.7971 - val_loss: 0.4174 - val_accuracy: 0.8103\n",
      "Epoch 6/15\n",
      "203/203 [==============================] - 1s 6ms/step - loss: 0.3973 - accuracy: 0.8284 - val_loss: 0.3996 - val_accuracy: 0.8205\n",
      "Epoch 7/15\n",
      "203/203 [==============================] - 1s 6ms/step - loss: 0.3733 - accuracy: 0.8392 - val_loss: 0.3965 - val_accuracy: 0.8231\n",
      "Epoch 8/15\n",
      "203/203 [==============================] - 1s 6ms/step - loss: 0.3517 - accuracy: 0.8478 - val_loss: 0.3891 - val_accuracy: 0.8262\n",
      "Epoch 9/15\n",
      "203/203 [==============================] - 1s 6ms/step - loss: 0.3298 - accuracy: 0.8578 - val_loss: 0.3898 - val_accuracy: 0.8318\n",
      "Epoch 10/15\n",
      "203/203 [==============================] - 1s 6ms/step - loss: 0.3104 - accuracy: 0.8681 - val_loss: 0.3932 - val_accuracy: 0.8334\n",
      "Epoch 11/15\n",
      "203/203 [==============================] - 1s 6ms/step - loss: 0.2928 - accuracy: 0.8772 - val_loss: 0.4001 - val_accuracy: 0.8287\n",
      "Epoch 12/15\n",
      "203/203 [==============================] - 1s 6ms/step - loss: 0.2786 - accuracy: 0.8847 - val_loss: 0.4083 - val_accuracy: 0.8292\n",
      "Epoch 13/15\n",
      "203/203 [==============================] - 1s 6ms/step - loss: 0.2660 - accuracy: 0.8917 - val_loss: 0.4374 - val_accuracy: 0.8265\n"
     ]
    },
    {
     "data": {
      "image/png": "[encoded data removed]",
      "text/plain": [
       "<Figure size 864x288 with 2 Axes>"
      ]
     },
     "metadata": {
      "needs_background": "light"
     },
     "output_type": "display_data"
    },
    {
     "name": "stdout",
     "output_type": "stream",
     "text": [
      "1300/1300 - 3s - loss: 0.4349 - accuracy: 0.8272\n",
      "test_loss : 0.434906542301178 test_acc : 0.8271782994270325\n"
     ]
    }
   ],
   "source": [
    "model.compile(optimizer='adam',\n",
    "              loss='binary_crossentropy',\n",
    "              metrics=['accuracy'])\n",
    "              \n",
    "epochs = 15\n",
    "\n",
    "history = model.fit(X_train,\n",
    "                    y_train,\n",
    "                    epochs=epochs,\n",
    "                    batch_size=512,\n",
    "                    validation_data=(X_val, y_val),\n",
    "                    verbose=1,\n",
    "                    callbacks=[es]\n",
    "                    )\n",
    "\n",
    "history_graph(history)\n",
    "\n",
    "results = model.evaluate(sp_test,  labels_test, verbose=2)\n",
    "print_result(results)"
   ]
  },
  {
   "cell_type": "markdown",
   "id": "bf18250f",
   "metadata": {},
   "source": [
    "결과도 unigram에 살짝 못미칩니다."
   ]
  },
  {
   "cell_type": "markdown",
   "id": "cb121894",
   "metadata": {},
   "source": [
    "## 마무리하며"
   ]
  },
  {
   "cell_type": "markdown",
   "id": "1057b253",
   "metadata": {},
   "source": [
    "|model|loss|accuracy|epochs|비고|\n",
    "|:---|:---|:---|:---:|:---:|\n",
    "|SentencePiece(unigram)|0.442817|0.831986|13||\n",
    "|SentencePiece(bpe)|0.434906|0.827178|13|.과 .. 구분|\n",
    "|KoNLPy(Okt)|0.412994|0.836815|8|.과 .. 구분|\n",
    "|LoNLPy(Mecab)|0.424634|0.844476|11|연산 처리가 빠름|"
   ]
  },
  {
   "cell_type": "markdown",
   "id": "e01f41e1",
   "metadata": {},
   "source": [
    "### *SentencePiece(unigram)*"
   ]
  },
  {
   "cell_type": "markdown",
   "id": "b5ef5179",
   "metadata": {},
   "source": [
    "![화면 캡처 2022-11-20 170859.png](data:image/png;base64,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)"
   ]
  },
  {
   "cell_type": "markdown",
   "id": "857c565c",
   "metadata": {},
   "source": [
    "### *SentencePiece(bpe)*"
   ]
  },
  {
   "cell_type": "markdown",
   "id": "0b6e6602",
   "metadata": {},
   "source": [
    "![화면 캡처 2022-11-20 171147.png](data:image/png;base64,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)"
   ]
  },
  {
   "cell_type": "markdown",
   "id": "a51bafcf",
   "metadata": {},
   "source": [
    "### *KoNLPy(Okt)*"
   ]
  },
  {
   "cell_type": "markdown",
   "id": "c728a44d",
   "metadata": {},
   "source": [
    "![화면 캡처 2022-11-20 171308.png](data:image/png;base64,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)"
   ]
  },
  {
   "cell_type": "markdown",
   "id": "8c104657",
   "metadata": {},
   "source": [
    "### *KoNLPy(Mecab)*"
   ]
  },
  {
   "cell_type": "markdown",
   "id": "66e68f09",
   "metadata": {},
   "source": [
    "![화면 캡처 2022-11-20 171533.png](data:image/png;base64,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)"
   ]
  },
  {
   "cell_type": "markdown",
   "id": "84fea07b",
   "metadata": {},
   "source": [
    "모델이 정확히 고정된 시드는 아니였지만 그래도 Mecab이 제일 좋은 듯 싶습니다.\n",
    "\n",
    "연산 처리 속도는 다른 모델에 비해 월등히 빠르기도 했구요.\n",
    "\n",
    "SentencePiece를 배우려고 하는 프로젝트이긴 했지만 SentencePiece는 그다지 활약하지 못했습니다.\n",
    "\n",
    "사실 LMS에서도 나와있던 내용이지요. 잘 학습된 모델을 이기기는 힘들면서, 그럼에도 SentencePiece가 각광받는 이유까지요.\n",
    "\n",
    "오히려 적은 학습량으로 이 정도의 수준을 보여주는 부분에 대해서 저는 높게 평가하고 있습니다.\n",
    "\n",
    "동시에 완벽한 형태소 분리기를 만들기란 생각보다 쉽지 않을 것이란 생각도 드네요."
   ]
  }
 ],
 "metadata": {
  "kernelspec": {
   "display_name": "Python 3 (ipykernel)",
   "language": "python",
   "name": "python3"
  },
  "language_info": {
   "codemirror_mode": {
    "name": "ipython",
    "version": 3
   },
   "file_extension": ".py",
   "mimetype": "text/x-python",
   "name": "python",
   "nbconvert_exporter": "python",
   "pygments_lexer": "ipython3",
   "version": "3.9.7"
  }
 },
 "nbformat": 4,
 "nbformat_minor": 5
}
